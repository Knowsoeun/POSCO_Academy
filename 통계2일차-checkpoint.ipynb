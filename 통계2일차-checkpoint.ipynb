{
 "cells": [
  {
   "cell_type": "markdown",
   "metadata": {},
   "source": [
    "# 초기설정"
   ]
  },
  {
   "cell_type": "code",
   "execution_count": 1,
   "metadata": {},
   "outputs": [],
   "source": [
    "import pandas as pd\n",
    "\n",
    "import numpy as np\n",
    "\n",
    "import matplotlib\n",
    "import matplotlib.pyplot as plt\n",
    "\n",
    "import seaborn as sns\n",
    "\n",
    "from scipy import stats\n",
    "import scipy.stats\n",
    "\n",
    "%matplotlib inline"
   ]
  },
  {
   "cell_type": "markdown",
   "metadata": {},
   "source": [
    "# [실습1] 정규분포의 확률계산"
   ]
  },
  {
   "cell_type": "code",
   "execution_count": 22,
   "metadata": {},
   "outputs": [
    {
     "name": "stdout",
     "output_type": "stream",
     "text": [
      "키가 180cm일 경우 위치하는 범위: 15.9%\n"
     ]
    }
   ],
   "source": [
    "mu=175\n",
    "sigma=5\n",
    "x=180 \n",
    "prob=stats.norm.cdf(x,mu,sigma)\n",
    "print(\"키가 {0}cm일 경우 위치하는 범위: {1:.1f}%\".format(x,(1-prob)*100))"
   ]
  },
  {
   "cell_type": "markdown",
   "metadata": {},
   "source": [
    "# 분석 결과\n",
    "키가 180일 경우 상위 15.9%에 위치함"
   ]
  },
  {
   "cell_type": "markdown",
   "metadata": {},
   "source": [
    "# [실습2] 정규분포의 확률계산"
   ]
  },
  {
   "cell_type": "code",
   "execution_count": 27,
   "metadata": {},
   "outputs": [
    {
     "name": "stdout",
     "output_type": "stream",
     "text": [
      "9km 이상 15km 이하를 달릴 확률은 68.3%에 해당함\n",
      "15km 이상을 달릴 확률은 15.9%에 해당함\n"
     ]
    }
   ],
   "source": [
    "mu=12\n",
    "sigma=3\n",
    "x1=15\n",
    "prob1=stats.norm.cdf(x1,mu,sigma)\n",
    "print(\"{0}km 이상 {1}km 이하를 달릴 확률은 {2:.1f}%에 해당함\".format(mu-sigma,mu+sigma,(prob1-0.5)*100*2))\n",
    "print(\"{0}km 이상을 달릴 확률은 {1:.1f}%에 해당함\".format(mu+sigma,(1-prob1)*100))"
   ]
  },
  {
   "cell_type": "markdown",
   "metadata": {},
   "source": [
    "# 분석 결과\n",
    "분석 결과에 따라 9km 이하를 달릴 확률은 15.8(100-68.3-15.9)%에 해당함"
   ]
  },
  {
   "cell_type": "markdown",
   "metadata": {},
   "source": [
    "# [실습3] t분포"
   ]
  },
  {
   "cell_type": "code",
   "execution_count": 36,
   "metadata": {},
   "outputs": [
    {
     "name": "stdout",
     "output_type": "stream",
     "text": [
      "P(T<=F):0.976\n"
     ]
    }
   ],
   "source": [
    "t=2.0\n",
    "df=100\n",
    "prob=stats.t.cdf(t,df)\n",
    "print(\"P(T<=F):{:.3f}\".format(prob))"
   ]
  },
  {
   "cell_type": "markdown",
   "metadata": {},
   "source": [
    "# [실습4] 카이제곱 분포"
   ]
  },
  {
   "cell_type": "code",
   "execution_count": 40,
   "metadata": {},
   "outputs": [
    {
     "name": "stdout",
     "output_type": "stream",
     "text": [
      "P(X<=3.0):0.0656\n"
     ]
    }
   ],
   "source": [
    "chisq=3.0\n",
    "df=8\n",
    "prob=stats.chi2.cdf(chisq,df)\n",
    "print(\"P(X<={0}):{1:.4f}\".format(chisq,prob))"
   ]
  },
  {
   "cell_type": "markdown",
   "metadata": {},
   "source": [
    "# [실습5] F-분포"
   ]
  },
  {
   "cell_type": "code",
   "execution_count": 47,
   "metadata": {},
   "outputs": [
    {
     "name": "stdout",
     "output_type": "stream",
     "text": [
      "P(X<=F): 0.850\n"
     ]
    }
   ],
   "source": [
    "f=1.5\n",
    "dfnum=10\n",
    "dfden=100\n",
    "\n",
    "prob=stats.f.cdf(x=f,dfn=dfnum,dfd=dfden)\n",
    "print(\"P(X<=F): {:.3F}\".format(prob))"
   ]
  },
  {
   "cell_type": "markdown",
   "metadata": {},
   "source": [
    "# [실습6] Weibull 분포"
   ]
  },
  {
   "cell_type": "code",
   "execution_count": 49,
   "metadata": {},
   "outputs": [
    {
     "name": "stdout",
     "output_type": "stream",
     "text": [
      "P(X<=x): 0.143\n"
     ]
    }
   ],
   "source": [
    "x=2500\n",
    "alpha=5.2\n",
    "beta=2200\n",
    "prob=stats.weibull_min.cdf(x,alpha,scale=beta)\n",
    "print(\"P(X<=x): {:.3F}\".format(1-prob))"
   ]
  },
  {
   "cell_type": "markdown",
   "metadata": {},
   "source": [
    "# [실습7] 이상분포"
   ]
  },
  {
   "cell_type": "code",
   "execution_count": 50,
   "metadata": {},
   "outputs": [
    {
     "name": "stdout",
     "output_type": "stream",
     "text": [
      "P(X=0)=0.168\n",
      "P(X=1)=0.360\n",
      "P(X=2)=0.309\n",
      "P(X=3)=0.132\n",
      "P(X=4)=0.028\n",
      "P(X=5)=0.002\n"
     ]
    }
   ],
   "source": [
    "n=5\n",
    "for i in range(n+1):\n",
    "    prob=stats.binom.pmf(k=i,n=n,p=0.3)\n",
    "    print(\"P(X={0})={1:.3f}\".format(i,prob))"
   ]
  },
  {
   "cell_type": "markdown",
   "metadata": {},
   "source": [
    "# [실습8] 포아송 분포 "
   ]
  },
  {
   "cell_type": "code",
   "execution_count": 54,
   "metadata": {},
   "outputs": [
    {
     "name": "stdout",
     "output_type": "stream",
     "text": [
      "2명의 손님이 도착할 확률: 22.4%\n",
      "1명 이하의 손님이 도착할 확률: 19.9%\n",
      "3명 이상의 손님이 도착할 확률: 57.7%\n"
     ]
    }
   ],
   "source": [
    "mu=3\n",
    "prob=stats.poisson.pmf(2,mu)\n",
    "cdf_prob=stats.poisson.cdf(1,mu)\n",
    "cdf_prob2=stats.poisson.cdf(2,mu)\n",
    "print(\"{0}명의 손님이 도착할 확률: {1:.1f}%\".format(2,prob*100))\n",
    "print(\"{0}명 이하의 손님이 도착할 확률: {1:.1f}%\".format(1,cdf_prob*100))\n",
    "print(\"{0}명 이상의 손님이 도착할 확률: {1:.1f}%\".format(3,(1-cdf_prob2)*100)) ##"
   ]
  },
  {
   "cell_type": "markdown",
   "metadata": {},
   "source": [
    "# [실습9] 정규성 검정"
   ]
  },
  {
   "cell_type": "code",
   "execution_count": 15,
   "metadata": {},
   "outputs": [
    {
     "name": "stdout",
     "output_type": "stream",
     "text": [
      "statistic=0.9062638878822327,p-value=0.25630074739456177\n"
     ]
    }
   ],
   "source": [
    "from scipy.stats import shapiro\n",
    "df=pd.read_csv(\"C:/Users/Rium/Downloads/통계이해/2sample_t_test.csv\",engine=\"python\")\n",
    "df.head()\n",
    "\n",
    "data1=df['Mat_A']\n",
    "data1=data1[0:10]\n",
    "\n",
    "shapiro(data1)\n",
    "\n",
    "statistic,p=stats.shapiro(data1)\n",
    "print(\"statistic={},p-value={}\".format(statistic,p))"
   ]
  },
  {
   "cell_type": "code",
   "execution_count": 14,
   "metadata": {},
   "outputs": [
    {
     "name": "stdout",
     "output_type": "stream",
     "text": [
      "statistic=0.9729756116867065,p-value=0.9169799089431763\n"
     ]
    }
   ],
   "source": [
    "from scipy.stats import shapiro\n",
    "df=pd.read_csv(\"C:/Users/Rium/Downloads/통계이해/2sample_t_test.csv\",engine=\"python\")\n",
    "df.head()\n",
    "\n",
    "data2=df['Mat_B']\n",
    "data2=data2[0:10]\n",
    "\n",
    "shapiro(data2)\n",
    "statistic2,p2=stats.shapiro(data2)\n",
    "print(\"statistic={},p-value={}\".format(statistic2,p2))"
   ]
  },
  {
   "cell_type": "markdown",
   "metadata": {},
   "source": [
    "# 분석 결과 \n",
    "두 값 모두 p-value 값이 0.05을 넘었음으로 정규성 검정시 정규로 판단된다."
   ]
  },
  {
   "cell_type": "markdown",
   "metadata": {},
   "source": [
    "# [실습10] 모평균 추정(모표준편차 아는 경우)"
   ]
  },
  {
   "cell_type": "code",
   "execution_count": 33,
   "metadata": {},
   "outputs": [
    {
     "name": "stdout",
     "output_type": "stream",
     "text": [
      "신뢰구간:([17.83],[21.17])\n"
     ]
    }
   ],
   "source": [
    "df = pd.DataFrame({\"sample\":[18,18,20,21,20,23,19,18,17,21,22,20,20,21,20,19,19,18,17,19]})\n",
    "df.head()\n",
    "\n",
    "lower,upper=stats.norm.interval(0.95,loc=np.mean(df),scale=3.8/np.sqrt(20))\n",
    "print(\"신뢰구간:({0},{1})\".format(lower.round(2),upper.round(2)))"
   ]
  },
  {
   "cell_type": "markdown",
   "metadata": {},
   "source": [
    "# 분석 결과\n",
    "### 신뢰구간: 모수가 실제로 포함될 것으로 예측되는 범위"
   ]
  },
  {
   "cell_type": "markdown",
   "metadata": {},
   "source": [
    "# [실습11] 모평균 추정(모집단 표준편차를 모르는 경우)"
   ]
  },
  {
   "cell_type": "code",
   "execution_count": 8,
   "metadata": {},
   "outputs": [
    {
     "name": "stdout",
     "output_type": "stream",
     "text": [
      "신뢰구간:([70.6],[72.4])\n"
     ]
    }
   ],
   "source": [
    "df=pd.DataFrame({'Sample':[73,71,74,69,70,73,70,68,75,72,70,72,73,70,70,72,71,70,75,72]})\n",
    "lower,upper=stats.t.interval(0.95,len(df)-1,loc=np.mean(df),scale=scipy.stats.sem(df))\n",
    "print(\"신뢰구간:({0},{1})\".format(lower.round(2),upper.round(2)))"
   ]
  },
  {
   "cell_type": "markdown",
   "metadata": {},
   "source": [
    "# [실습12] 모분산 신뢰구간 추정1"
   ]
  },
  {
   "cell_type": "code",
   "execution_count": 17,
   "metadata": {},
   "outputs": [
    {
     "data": {
      "text/html": [
       "<div>\n",
       "<style scoped>\n",
       "    .dataframe tbody tr th:only-of-type {\n",
       "        vertical-align: middle;\n",
       "    }\n",
       "\n",
       "    .dataframe tbody tr th {\n",
       "        vertical-align: top;\n",
       "    }\n",
       "\n",
       "    .dataframe thead th {\n",
       "        text-align: right;\n",
       "    }\n",
       "</style>\n",
       "<table border=\"1\" class=\"dataframe\">\n",
       "  <thead>\n",
       "    <tr style=\"text-align: right;\">\n",
       "      <th></th>\n",
       "      <th>Sample</th>\n",
       "    </tr>\n",
       "  </thead>\n",
       "  <tbody>\n",
       "    <tr>\n",
       "      <th>count</th>\n",
       "      <td>50.000000</td>\n",
       "    </tr>\n",
       "    <tr>\n",
       "      <th>mean</th>\n",
       "      <td>10.740000</td>\n",
       "    </tr>\n",
       "    <tr>\n",
       "      <th>std</th>\n",
       "      <td>3.983691</td>\n",
       "    </tr>\n",
       "    <tr>\n",
       "      <th>min</th>\n",
       "      <td>4.000000</td>\n",
       "    </tr>\n",
       "    <tr>\n",
       "      <th>25%</th>\n",
       "      <td>8.000000</td>\n",
       "    </tr>\n",
       "    <tr>\n",
       "      <th>50%</th>\n",
       "      <td>10.500000</td>\n",
       "    </tr>\n",
       "    <tr>\n",
       "      <th>75%</th>\n",
       "      <td>13.000000</td>\n",
       "    </tr>\n",
       "    <tr>\n",
       "      <th>max</th>\n",
       "      <td>19.000000</td>\n",
       "    </tr>\n",
       "  </tbody>\n",
       "</table>\n",
       "</div>"
      ],
      "text/plain": [
       "          Sample\n",
       "count  50.000000\n",
       "mean   10.740000\n",
       "std     3.983691\n",
       "min     4.000000\n",
       "25%     8.000000\n",
       "50%    10.500000\n",
       "75%    13.000000\n",
       "max    19.000000"
      ]
     },
     "execution_count": 17,
     "metadata": {},
     "output_type": "execute_result"
    }
   ],
   "source": [
    "df=pd.DataFrame({'Sample':[12,9,10,5,16,13,5,9,8,13,16,12,12,4,14,9,11,14,9,17,5,8,9,6,11,19,6,6,8,9,13,10,8,13,19,8,12,14,16,16,11,17,5,9,12,17,11,8,5,8]\n",
    "            })\n",
    "df.describe() #표준편차를 출력 s=3.983691"
   ]
  },
  {
   "cell_type": "code",
   "execution_count": 23,
   "metadata": {},
   "outputs": [
    {
     "name": "stdout",
     "output_type": "stream",
     "text": [
      "모분산의 95% 신뢰구간:(10.887985,24.030281)\n"
     ]
    }
   ],
   "source": [
    "n=50\n",
    "s=3.983691\n",
    "lower=(n-1)*s**2/71.42 #71.42는 카이제곱 분포표를 참고하여 산출\n",
    "upper=(n-1)*s**2/32.36 #32.36는 카이제곱 분포표를 참고하여 산출\n",
    "print(\"모분산의 95%% 신뢰구간:(%f,%f)\" %(lower,upper)) ##%%를 해야 에러 없이 % 정상 출력"
   ]
  },
  {
   "cell_type": "markdown",
   "metadata": {},
   "source": [
    "# [실습13] 모분산 신뢰구간 추정2"
   ]
  },
  {
   "cell_type": "code",
   "execution_count": 38,
   "metadata": {},
   "outputs": [
    {
     "name": "stdout",
     "output_type": "stream",
     "text": [
      "통화관리 성공율에 대한 95% 신뢰구간:(0.126765,0.233235)\n"
     ]
    }
   ],
   "source": [
    "import math\n",
    "df=pd.DataFrame({'Sample':[12,9,10,5,16,13,5,9,8,13,16,12,12,4,14,9,11,14,9,17,5,8,9,6,11,19,6,6,8,9,13,10,8,13,19,8,12,14,16,16,11,17,5,9,12,17,11,8,5,8]\n",
    "            })\n",
    "list_df=[12,9,10,5,16,13,5,9,8,13,16,12,12,4,14,9,11,14,9,17,5,8,9,6,11,19,6,6,8,9,13,10,8,13,19,8,12,14,16,16,11,17,5,9,12,17,11,8,5,8]\n",
    "count=0        \n",
    "for x in map(int,list_df):\n",
    "    x=int(x)\n",
    "    if x>15:\n",
    "        count+=1\n",
    "        \n",
    "n=50\n",
    "p=count/n\n",
    "\n",
    "lower=p-0.9798*math.sqrt(p*(1-p)/n) #0.9798 표준정규분포표를 참고하여 산출\n",
    "upper=p+0.9798*math.sqrt(p*(1-p)/n)\n",
    "print(\"통화관리 성공율에 대한 95%% 신뢰구간:(%f,%f)\" %(lower,upper)) ##%%를 해야 에러 없이 % 정상 출력"
   ]
  },
  {
   "cell_type": "markdown",
   "metadata": {},
   "source": [
    "# [실습14] 평균 검정(모집단 표준편차를 모르는 경우)"
   ]
  },
  {
   "cell_type": "code",
   "execution_count": 44,
   "metadata": {},
   "outputs": [
    {
     "name": "stdout",
     "output_type": "stream",
     "text": [
      "1-Sample t-test\n",
      "t통계량:[4.879]\n",
      "p-value:[0.001]\n"
     ]
    }
   ],
   "source": [
    "df=pd.DataFrame({'Sample':[85.0,79.0,79.1,79.9,81.6,78.6,85.4,83.4,78.1,79.2]})\n",
    "t_result=stats.ttest_1samp(df,76.7)\n",
    "t,p=t_result.statistic.round(3),t_result.pvalue.round(3)\n",
    "print(\"1-Sample t-test\")\n",
    "print(\"t통계량:{}\".format(t))\n",
    "print(\"p-value:{}\".format(p))"
   ]
  },
  {
   "cell_type": "markdown",
   "metadata": {},
   "source": [
    "# 분석 결과\n",
    "### 귀무가설(H0,0가설)\n",
    "##### 차이가 없음, 신뢰도(95%라면 일반적으로 0.05이상일시 차이가 없음.)\n",
    "### 대립가설(H1,연구가설)\n",
    "##### 차이가 있음, 신뢰도(95%라면 일반적으로 0.05이하일시 차이가 있음.)\n",
    "유의수준 5%에서 검정결과 p값이 0.001이므로 개선활동이 고객만족도를 변화 시켰다고 할 수 있다."
   ]
  },
  {
   "cell_type": "markdown",
   "metadata": {},
   "source": [
    "# [실습15] 2 Sample t-test"
   ]
  },
  {
   "cell_type": "code",
   "execution_count": 47,
   "metadata": {},
   "outputs": [
    {
     "name": "stdout",
     "output_type": "stream",
     "text": [
      "2-Sample t-test\n",
      "t:[1.7]\n",
      "p:[0.111]\n"
     ]
    }
   ],
   "source": [
    "df1=pd.DataFrame({'sample':[1.883,1.715,1.799,1.768,1.711,1.832,1.427,1.344]})\n",
    "df2=pd.DataFrame({'sample':[1.435,1.572,1.486,1.511,1.457,1.548,1.404,1.883]})\n",
    "\n",
    "t_result=stats.ttest_ind(df1,df2)\n",
    "\n",
    "t,p=t_result.statistic.round(3),t_result.pvalue.round(3)\n",
    "print(\"2-Sample t-test\")\n",
    "print(\"t:{}\".format(t))\n",
    "print(\"p:{}\".format(p))"
   ]
  },
  {
   "cell_type": "markdown",
   "metadata": {},
   "source": [
    "# 분석 결과\n",
    "유의수준 5%에서 검정결과 p값이 0.111이므로 공급자간 제품 두께에 차이가 있다고 볼 수 없다."
   ]
  },
  {
   "cell_type": "markdown",
   "metadata": {},
   "source": [
    "# [실습16] Paired t-test"
   ]
  },
  {
   "cell_type": "code",
   "execution_count": 50,
   "metadata": {},
   "outputs": [
    {
     "name": "stdout",
     "output_type": "stream",
     "text": [
      "Paired t-test\n",
      "t:[-0.41]\n",
      "p:[0.691]\n"
     ]
    }
   ],
   "source": [
    "df1=pd.DataFrame({'before':[720,589,780,648,720,589,780,648,780,648]})\n",
    "df2=pd.DataFrame({'after':[610,580,787,712,750,600,782,670,790,680]})\n",
    "\n",
    "t_result=stats.ttest_rel(df1,df2)\n",
    "\n",
    "t,p=t_result.statistic.round(3),t_result.pvalue.round(3)\n",
    "print(\"Paired t-test\")\n",
    "print(\"t:{}\".format(t))\n",
    "print(\"p:{}\".format(p))"
   ]
  },
  {
   "cell_type": "markdown",
   "metadata": {},
   "source": [
    "# 분석 결과\n",
    "유의수준 5%에서 검정결과 p값이 0.691이므로 학원 수강 전후의 점수는 차이가 있다고 볼 수 없다."
   ]
  }
 ],
 "metadata": {
  "kernelspec": {
   "display_name": "Python 3",
   "language": "python",
   "name": "python3"
  },
  "language_info": {
   "codemirror_mode": {
    "name": "ipython",
    "version": 3
   },
   "file_extension": ".py",
   "mimetype": "text/x-python",
   "name": "python",
   "nbconvert_exporter": "python",
   "pygments_lexer": "ipython3",
   "version": "3.7.6"
  }
 },
 "nbformat": 4,
 "nbformat_minor": 5
}
