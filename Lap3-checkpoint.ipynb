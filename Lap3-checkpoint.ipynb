{
 "cells": [
  {
   "cell_type": "markdown",
   "metadata": {},
   "source": [
    "# 2021 / 10 / 27 / 수요일 실습과제"
   ]
  },
  {
   "cell_type": "markdown",
   "metadata": {},
   "source": [
    "##### -A2조 노소은 -"
   ]
  },
  {
   "cell_type": "markdown",
   "metadata": {},
   "source": [
    "---------------------------------------------"
   ]
  },
  {
   "cell_type": "markdown",
   "metadata": {},
   "source": [
    "---------------------------------------------"
   ]
  },
  {
   "cell_type": "markdown",
   "metadata": {},
   "source": [
    "## [1] 통계적 추정과 검정"
   ]
  },
  {
   "cell_type": "markdown",
   "metadata": {},
   "source": [
    "#### - 필요한 패키지 불러오기"
   ]
  },
  {
   "cell_type": "code",
   "execution_count": 8,
   "metadata": {},
   "outputs": [],
   "source": [
    "import pandas as pd\n",
    "import numpy as np\n",
    "\n",
    "#데이터 시각화 패키지\n",
    "import matplotlib\n",
    "import matplotlib.pyplot as plt\n",
    "\n",
    "#데이터 시각화(추세 등) 패키지\n",
    "import seaborn as sns\n",
    "\n",
    "#통계 분석 패키지\n",
    "from scipy import stats\n",
    "import scipy.stats\n",
    "from statsmodels.stats.proportion import proportions_ztest"
   ]
  },
  {
   "cell_type": "markdown",
   "metadata": {},
   "source": [
    "  "
   ]
  },
  {
   "cell_type": "markdown",
   "metadata": {},
   "source": [
    "---------------------------------------------"
   ]
  },
  {
   "cell_type": "markdown",
   "metadata": {},
   "source": [
    "### [실습 1] 1 Proportion test"
   ]
  },
  {
   "cell_type": "code",
   "execution_count": 9,
   "metadata": {},
   "outputs": [
    {
     "name": "stdout",
     "output_type": "stream",
     "text": [
      "1 Proportion test\n",
      "z:-2.041\n",
      "p:0.041\n"
     ]
    }
   ],
   "source": [
    "#가설 설정\n",
    "# Ho : P = 0.1   (p-value >= α(=0.05))\n",
    "# h1 : P != 0.1\n",
    "# P^ = X/N = 15/100 = 0.15\n",
    "#----------------------------------------------------------------------------------------------------\n",
    "\n",
    "#변수 선언\n",
    "count=40    #앞면이 40번 나옴\n",
    "n_obs =100  #100번을 던짐\n",
    "value=0.5   #앞면이 나올 확률은 50%\n",
    "\n",
    "#proportion test 실행\n",
    "stat, pval = proportions_ztest(count,n_obs, value)\n",
    "\n",
    "print(\"1 Proportion test\")\n",
    "print('z:{0:0.3f}'.format(stat))\n",
    "print('p:{0:0.3f}'.format(pval))  #cf) 3f : 실수 소수점 셋째 자리까지 표현"
   ]
  },
  {
   "cell_type": "markdown",
   "metadata": {},
   "source": [
    "#### ※결론: 유의 수준 5%에서 p-value < 0.05이므로 두 공장의 불량률은 차이가 있다고 할 수 있다."
   ]
  },
  {
   "cell_type": "markdown",
   "metadata": {},
   "source": [
    "  "
   ]
  },
  {
   "cell_type": "markdown",
   "metadata": {},
   "source": [
    "---------------------------------------------"
   ]
  },
  {
   "cell_type": "markdown",
   "metadata": {},
   "source": [
    "### [실습 2] 2 Proportion test"
   ]
  },
  {
   "cell_type": "code",
   "execution_count": 10,
   "metadata": {},
   "outputs": [
    {
     "name": "stdout",
     "output_type": "stream",
     "text": [
      "2 Proportion test\n",
      "z:2.073\n",
      "p:0.038\n"
     ]
    }
   ],
   "source": [
    "#변수 선언\n",
    "count = np.array([14,5])\n",
    "nobs = np.array([1200,1200])\n",
    "\n",
    "#proportion test 실행\n",
    "stat, pval = proportions_ztest(count, nobs)\n",
    "\n",
    "#proportion test 결과 출력\n",
    "print(\"2 Proportion test\")\n",
    "print('z:{0:0.3f}'.format(stat))\n",
    "print('p:{0:0.3f}'.format(pval))"
   ]
  },
  {
   "cell_type": "markdown",
   "metadata": {},
   "source": [
    "#### ※결론: 유의 수준 5%에서 p-value < 0.05이므로 두 공장의 불량률은 차이가 있다고 할 수 있다."
   ]
  },
  {
   "cell_type": "markdown",
   "metadata": {},
   "source": [
    "  "
   ]
  },
  {
   "cell_type": "markdown",
   "metadata": {},
   "source": [
    "---------------------------------------------"
   ]
  },
  {
   "cell_type": "markdown",
   "metadata": {},
   "source": [
    "### [실습 3] 카이제곱 검정"
   ]
  },
  {
   "cell_type": "code",
   "execution_count": 12,
   "metadata": {},
   "outputs": [
    {
     "name": "stdout",
     "output_type": "stream",
     "text": [
      "chi-squre test\n",
      "chisq:95.759\n",
      "\n",
      "p:0.000\n",
      "degree pf freedom : 30\n",
      "\n",
      "expected value:\n",
      "[[10.224  8.43   5.381  3.946  1.973 10.045]\n",
      " [ 8.179  6.744  4.305  3.157  1.578  8.036]\n",
      " [11.247  9.274  5.919  4.341  2.17  11.049]\n",
      " [ 7.157  5.901  3.767  2.762  1.381  7.031]\n",
      " [ 6.135  5.058  3.229  2.368  1.184  6.027]\n",
      " [ 8.179  6.744  4.305  3.157  1.578  8.036]\n",
      " [ 5.879  4.848  3.094  2.269  1.135  5.776]]\n"
     ]
    }
   ],
   "source": [
    "from scipy.stats import chi2_contingency\n",
    "\n",
    "df1=pd.read_csv(\"F:/통계이해/카이제곱_노트북.csv\", engine=\"python\")\n",
    "\n",
    "chi, pval, dof, expected = stats.chi2_contingency(df1)\n",
    "\n",
    "print(\"chi-squre test\")\n",
    "print('chisq:{0:0.3f}'.format(chi))    #cf) 3f : 실수 소수점 셋째 자리까지 표현\n",
    "print()\n",
    "print('p:{0:0.3f}'.format(pval))\n",
    "print('degree pf freedom : {}'.format(dof))\n",
    "print()\n",
    "print('expected value:\\n{}'.format(expected.round(3)))"
   ]
  },
  {
   "cell_type": "markdown",
   "metadata": {},
   "source": [
    "  "
   ]
  },
  {
   "cell_type": "markdown",
   "metadata": {},
   "source": [
    "#### - corr이 음수 값으로 나와 두 변수가 함께 감소함을 알 수 있다.\n",
    "#### - 그러나 음의 방향으로 함께 증가하며 0.899로 -1에 가까우므로 강한 상관관계가 있다고 볼 수 있다.\n",
    "#### ※결론: 재료 반죽 온도가 낮을수록 초코칩의 강도가 낮다."
   ]
  },
  {
   "cell_type": "markdown",
   "metadata": {},
   "source": [
    "---------------------------------------------"
   ]
  },
  {
   "cell_type": "markdown",
   "metadata": {},
   "source": [
    "### [실습 4] one way ANOVA"
   ]
  },
  {
   "cell_type": "code",
   "execution_count": 14,
   "metadata": {},
   "outputs": [
    {
     "name": "stdout",
     "output_type": "stream",
     "text": [
      "               df      sum_sq    mean_sq         F    PR(>F)\n",
      "C(gangjong)   3.0  104.603333  34.867778  4.171868  0.019013\n",
      "Residual     20.0  167.156667   8.357833       NaN       NaN\n",
      "\n",
      "            df      sum_sq    mean_sq         F   PR(>F)\n",
      "C(type)    1.0   82.881667  82.881667  9.653816  0.00514\n",
      "Residual  22.0  188.878333   8.585379       NaN      NaN\n"
     ]
    },
    {
     "data": {
      "image/png": "[encoded data removed]",
      "text/plain": [
       "<Figure size 432x288 with 1 Axes>"
      ]
     },
     "metadata": {
      "needs_background": "light"
     },
     "output_type": "display_data"
    },
    {
     "data": {
      "image/png": "[encoded data removed]",
      "text/plain": [
       "<Figure size 432x288 with 1 Axes>"
      ]
     },
     "metadata": {
      "needs_background": "light"
     },
     "output_type": "display_data"
    }
   ],
   "source": [
    "from statsmodels.formula.api import ols\n",
    "from statsmodels.stats.anova import anova_lm\n",
    "\n",
    "df2=pd.read_csv(\"F:/통계이해/ANOVA.csv\", engine=\"python\")\n",
    "df2.head()\n",
    "#Group별 boxplot\n",
    "df2.groupby(['type','time']).size()\n",
    "#Group별 boxplot\n",
    "#강종별 시간 박스플롯\n",
    "df2.boxplot(column=['time'], by=['gangjong'])\n",
    "#type별 시간 박스플롯\n",
    "df2.boxplot(column=['time'], by=['type'])\n",
    "#ANOVA 실행. statsmodels 라이브러리를 사용\n",
    "lm1 = ols('time~C(gangjong)',data=df2).fit() #카테고리 데이터이므로 C를 넣어준다.\n",
    "print(anova_lm(lm1))\n",
    "print()\n",
    "lm2 = ols('time~C(type)',data=df2).fit() #카테고리 데이터이므로 C를 넣어준다.\n",
    "print(anova_lm(lm2))"
   ]
  },
  {
   "cell_type": "markdown",
   "metadata": {},
   "source": [
    "#### ※결론: 유의수준 5%에서 P값이 0.019이므로 강종별 2차정련 시간에 차이가 있다고 할 수 있다.\n",
    "#### ※결론: 유의수준 5%에서 P값이 0.005이므로 type별 2차정련 시간에 차이가 있다고 할 수 있다."
   ]
  },
  {
   "cell_type": "markdown",
   "metadata": {},
   "source": [
    "  "
   ]
  },
  {
   "cell_type": "markdown",
   "metadata": {},
   "source": [
    "---------------------------------------------"
   ]
  },
  {
   "cell_type": "markdown",
   "metadata": {},
   "source": [
    "---------------------------------------------"
   ]
  },
  {
   "cell_type": "markdown",
   "metadata": {},
   "source": [
    "## [2] 상관/회귀 분석"
   ]
  },
  {
   "cell_type": "markdown",
   "metadata": {},
   "source": [
    "#### - 상관관계 정도 파악 기준"
   ]
  },
  {
   "cell_type": "markdown",
   "metadata": {},
   "source": [
    "\n",
    "- 0.8≤r : 강한 상관이 있다. \n",
    "- 0.6≤r<0.8 : 상관이 있다. \n",
    "- 0.4≤r<0.6 : 약한 상관이 있다."
   ]
  },
  {
   "cell_type": "markdown",
   "metadata": {},
   "source": [
    "---------------------------------------------"
   ]
  },
  {
   "cell_type": "markdown",
   "metadata": {},
   "source": [
    "### [실습 1] 상관분석"
   ]
  },
  {
   "cell_type": "code",
   "execution_count": 17,
   "metadata": {},
   "outputs": [
    {
     "data": {
      "image/png": "[encoded data removed]",
      "text/plain": [
       "<Figure size 432x288 with 1 Axes>"
      ]
     },
     "metadata": {
      "needs_background": "light"
     },
     "output_type": "display_data"
    },
    {
     "name": "stdout",
     "output_type": "stream",
     "text": [
      "Correlation Analysis\n",
      "corr: -0.899\n",
      "p-value:0.000\n"
     ]
    }
   ],
   "source": [
    "df3=pd.read_csv(\"F:/통계이해/correaltion.csv\", engine=\"python\")\n",
    "\n",
    "#Correlation Analysis 실행\n",
    "corr3, pval3 = stats.pearsonr(df3.strength, df3.temp)\n",
    "\n",
    "#산점도를 통해 시각화\n",
    "plt.scatter(df3['strength'],df3['temp'],c='blue')  #산점도 시각화. 파란색을 좋아하므로 c에 blue를 넣어 파란색으로 시각화했다.\n",
    "plt.xlabel(\"strength\")                             #x축명에 'strength' 대입\n",
    "plt.ylabel(\"temp\")                                 #y축명에 'temp' 대입\n",
    "plt.show() \n",
    "#프로젝트 사전 단계로 산점도를 통해 데이터가 어떠한 경향을 보이는지 확인하면 \n",
    "#방향성을 잡을 수 있다.\n",
    "\n",
    "#Correlation, p-value 결과 출력\n",
    "print(\"Correlation Analysis\")\n",
    "print('corr: {0:0.3f}'.format(corr3)) \n",
    "print('p-value:{0:0.3f}'.format(pval3))"
   ]
  },
  {
   "cell_type": "markdown",
   "metadata": {},
   "source": [
    "#### - p-value가 0으로 나와 유의미함을 알 수 있다.\n",
    "#### - corr이 음수 값으로 나와 두 변수가 함께 감소함을 알 수 있다.\n",
    "#### - 그러나 음의 방향으로 함께 증가하며 0.899로 -1에 가까우므로 강한 음의 상관관계가 있다고 볼 수 있다.\n",
    "#### ※결론: 재료 반죽 온도가 낮을수록 초코칩의 강도가 낮다."
   ]
  },
  {
   "cell_type": "markdown",
   "metadata": {},
   "source": [
    "---------------------------------------------"
   ]
  },
  {
   "cell_type": "markdown",
   "metadata": {},
   "source": [
    "### [실습 2] 단순선형회귀"
   ]
  },
  {
   "cell_type": "code",
   "execution_count": 52,
   "metadata": {},
   "outputs": [
    {
     "data": {
      "image/png": "[encoded data removed]",
      "text/plain": [
       "<Figure size 432x288 with 1 Axes>"
      ]
     },
     "metadata": {
      "needs_background": "light"
     },
     "output_type": "display_data"
    },
    {
     "name": "stdout",
     "output_type": "stream",
     "text": [
      "                            OLS Regression Results                            \n",
      "==============================================================================\n",
      "Dep. Variable:               strength   R-squared:                       0.630\n",
      "Model:                            OLS   Adj. R-squared:                  0.610\n",
      "Method:                 Least Squares   F-statistic:                     30.66\n",
      "Date:                Wed, 27 Oct 2021   Prob (F-statistic):           2.95e-05\n",
      "Time:                        22:31:48   Log-Likelihood:                -26.881\n",
      "No. Observations:                  20   AIC:                             57.76\n",
      "Df Residuals:                      18   BIC:                             59.75\n",
      "Df Model:                           1                                         \n",
      "Covariance Type:            nonrobust                                         \n",
      "==============================================================================\n",
      "                 coef    std err          t      P>|t|      [0.025      0.975]\n",
      "------------------------------------------------------------------------------\n",
      "Intercept     17.5158      3.519      4.977      0.000      10.122      24.910\n",
      "b_time        24.8959      4.496      5.537      0.000      15.450      34.342\n",
      "==============================================================================\n",
      "Omnibus:                        4.250   Durbin-Watson:                   0.755\n",
      "Prob(Omnibus):                  0.119   Jarque-Bera (JB):                2.627\n",
      "Skew:                          -0.876   Prob(JB):                        0.269\n",
      "Kurtosis:                       3.287   Cond. No.                         33.1\n",
      "==============================================================================\n",
      "\n",
      "Warnings:\n",
      "[1] Standard Errors assume that the covariance matrix of the errors is correctly specified.\n"
     ]
    },
    {
     "data": {
      "text/plain": [
       "NormaltestResult(statistic=4.250092553545147, pvalue=0.11942744142229261)"
      ]
     },
     "execution_count": 52,
     "metadata": {},
     "output_type": "execute_result"
    },
    {
     "data": {
      "image/png": "[encoded data removed]",
      "text/plain": [
       "<Figure size 432x288 with 1 Axes>"
      ]
     },
     "metadata": {
      "needs_background": "light"
     },
     "output_type": "display_data"
    },
    {
     "data": {
      "image/png": "[encoded data removed]",
      "text/plain": [
       "<Figure size 432x288 with 1 Axes>"
      ]
     },
     "metadata": {
      "needs_background": "light"
     },
     "output_type": "display_data"
    }
   ],
   "source": [
    "#필요한 패키지 불러오기\n",
    "#데이터 구성 : Series, DataFrame\n",
    "import pandas as pd\n",
    "#행렬 연산\n",
    "import numpy as np\n",
    "#데이터 시각화\n",
    "import matplotlib.pyplot as plt\n",
    "import seaborn as sns\n",
    "\n",
    "#회귀분석\n",
    "from statsmodels.formula.api import ols\n",
    "#qqplot, 회귀분석의 상수항 추가\n",
    "from statsmodels.api import qqplot, add_constant\n",
    "#선형모델\n",
    "import statsmodels.formula.api as smf\n",
    "import matplotlib\n",
    "#폰트 오류 해결을 위해 추가\n",
    "plt.rc('axes', unicode_minus=False)\n",
    "\n",
    "#jupyter notebook 사용 시 그래프 자동 출력 옵션\n",
    "%matplotlib inline\n",
    "\n",
    "#맑은 고딕 적용\n",
    "matplotlib.rc(\"font\", family=\"Malgun Gothic\")\n",
    "\n",
    "#step1. 데이터 구성하기\n",
    "#파일명, 변수, 값 등에 한글 포함시 engine = \"python\" 지정\n",
    "df_raw = pd.read_csv(\"F:/통계이해/bakingtime.csv\", engine = \"python\")\n",
    "#df_raw = pd.DataFrame({\"strength\": [37.6, 38.6, 37.2, 36.4, 38.6, 39, 37.2, 36.1, 35.9, 37.1,\n",
    "#                           36.9, 37.5, 36.3, 38.1, 39, 36.9, 36.8, 37.6, 33, 33.5],\n",
    "#                       \"b_time\": [0.798922, 0.84902, 0.816163, 0.758266, 0.815894, 0.807477, 0.809068, 0.7664, 0.742243, 0.751118,\n",
    "#                         0.740629, 0.751495, 0.738863, 0.827428, 0.818172, 0.740939, 0.757128, 0.804695, 0.695121, 0.735377]})\n",
    "df_raw.head()\n",
    "df_raw.describe().round(3)  #요약 통계량\n",
    "\n",
    "#step2. 변수 간의 경향성 파악\n",
    "#1. 그래프(산점도) 분석\n",
    "plt.scatter(df_raw['strength'],df_raw['b_time'],c='blue')\n",
    "#df_raw.plot.scatter(x = \"b_time\", y = \"strength\",c=\"blue\")\n",
    "plt.xlabel(\"strength\")               #x축명에 'strength' 대입\n",
    "plt.ylabel(\"b_time\")                 #y축명에 'temp' 대입\n",
    "plt.show() \n",
    "#산점도로 시각화 한 결과 선형관계를 띄는 것을 볼 수 있다.\n",
    "#초코칩의 강도가 증가할수록 굽는 시간도 증가한다.\n",
    "\n",
    "#2. 상관관계 분석\n",
    "df_raw.corr(method=\"pearson\").round(3) \n",
    "#표에서 strength(초코칩의 강도)와 Oven_TMP(굽는 시간)이 만나는 부분을 살펴본다.\n",
    "#strength(초코칩의 강도)와 Oven_TMP(굽는 시간)은 상관 계수가 0.966으로 \n",
    "#두 변수 간에는 매우 높은 선형 관계가 있음을 알 수 있다.\n",
    "\n",
    "#3. 회귀 모델 생성\n",
    "#선형 회귀 분석 : formula(y~X1+X2+...)이용. 상수항(Intercept)은 자동으로 추가됨\n",
    "reg_model = smf.ols(formula=\"strength~b_time\", data=df_raw)\n",
    "reg_result = reg_model.fit()\n",
    "print(reg_result.summary())\n",
    "\n",
    "#4. 오차의 기본가정 검토\n",
    "#등분산성/독립성 검정\n",
    "plt.scatter(reg_result.fittedvalues, reg_result.resid)\n",
    "plt.xlabel(\"fitted value\"); plt.ylabel(\"residual\")\n",
    "plt.axhline(y=0, linestyle = \"--\")\n",
    "\n",
    "#잔차의 독립성\n",
    "plt.plot(df_raw['b_time'],reg_result.resid,marker='o')\n",
    "plt.xlabel(\"Data\")\n",
    "plt.ylabel(\"residual\") #잔차표시\n",
    "plt.axhline(y=0,linestyle='-')\n",
    "plt.axhline(y=3*np.std(reg_result.resid),linestyle='--')\n",
    "plt.axhline(y=-3*np.std(reg_result.resid),linestyle='--')\n",
    "\n",
    "#잔차 정규성 검정:Q-Q plot.s-standardized line,\n",
    "# r-regression line, q-quartiles\n",
    "qqplot(reg_result.resid, line=\"q\")\n",
    "#정규성 검정\n",
    "from statsmodels.stats.stattools import omni_normtest\n",
    "omni_normtest(reg_result.resid, axis=0)\n"
   ]
  },
  {
   "cell_type": "markdown",
   "metadata": {},
   "source": [
    "#### - y^ = 17.5158  +  24.8959 *b_time\n",
    "#### - b_time이 0.907477일 때   strength는 약 39\n",
    "#### - y^ = 17.5158  +  24.8959 *0.907477 = 38.4876422809\n",
    "####     　\n",
    "#### ※결론: 재료 반죽 온도가 낮을수록 초코칩의 강도가 낮다."
   ]
  },
  {
   "cell_type": "code",
   "execution_count": null,
   "metadata": {},
   "outputs": [],
   "source": []
  }
 ],
 "metadata": {
  "kernelspec": {
   "display_name": "Python 3",
   "language": "python",
   "name": "python3"
  },
  "language_info": {
   "codemirror_mode": {
    "name": "ipython",
    "version": 3
   },
   "file_extension": ".py",
   "mimetype": "text/x-python",
   "name": "python",
   "nbconvert_exporter": "python",
   "pygments_lexer": "ipython3",
   "version": "3.7.6"
  }
 },
 "nbformat": 4,
 "nbformat_minor": 5
}
