{
 "cells": [
  {
   "cell_type": "markdown",
   "metadata": {},
   "source": [
    "# Big Data  분석(II) 일일 과제물"
   ]
  },
  {
   "cell_type": "markdown",
   "metadata": {},
   "source": [
    "##### A2_노소은"
   ]
  },
  {
   "cell_type": "markdown",
   "metadata": {},
   "source": [
    "### <분석목표 : 생존률에 영향을 미치는 영향인자 도출>"
   ]
  },
  {
   "cell_type": "markdown",
   "metadata": {},
   "source": [
    "##### --------------------------------------------------------------------------------------------------------------------------------------------------------------"
   ]
  },
  {
   "cell_type": "markdown",
   "metadata": {},
   "source": [
    "### 가설"
   ]
  },
  {
   "cell_type": "markdown",
   "metadata": {},
   "source": [
    "#### 가설1: 선실 등급은 생존에 영향을 주는 설명변수일 것이다.\n",
    "#### 가설2: 성별은 생존에 영향을주는 설명변수일 것이다.\n",
    "#### 가설3: 나이는 생존에 영향을 주는 설명변수일 것이다.\n",
    "#### 가설4: 승선장소는 생존에 영향을 주는 설명변수일 것이다.\n",
    "#### 가설5: 티켓 가격은 생존에 영향을 주는 설명변수일 것이다.\n",
    "#### 가설6: 함께 탑승수(형제, 배우자)는 생존에 영향을 주는 설명변수일 것이다.\n",
    "#### 가설7: 합께 탑승수(자녀, 부모)는 생존에 영향을 주는 설명변수일 것이다."
   ]
  },
  {
   "cell_type": "markdown",
   "metadata": {},
   "source": [
    "--------------------------------------------------------------------------------"
   ]
  },
  {
   "cell_type": "markdown",
   "metadata": {},
   "source": [
    "### 패키지 "
   ]
  },
  {
   "cell_type": "code",
   "execution_count": 8,
   "metadata": {},
   "outputs": [],
   "source": [
    "import pandas as pd\n",
    "import numpy as np\n",
    "import matplotlib\n",
    "import matplotlib.pyplot as plt\n",
    "import seaborn as sns\n",
    "\n",
    "import matplotlib.pyplot as plt\n",
    "plt.rcParams[\"font.family\"] = \"NanumGothic\""
   ]
  },
  {
   "cell_type": "code",
   "execution_count": 9,
   "metadata": {},
   "outputs": [],
   "source": [
    "import matplotlib.pyplot as plt\n",
    "plt.rcParams[\"font.family\"] = \"NanumGothic\"\n",
    "#matplotlib.rc('font',family='MalgunGothic')"
   ]
  },
  {
   "cell_type": "markdown",
   "metadata": {},
   "source": [
    "##### --------------------------------------------------------------------------------------------------------------------------------------------------------------"
   ]
  },
  {
   "cell_type": "markdown",
   "metadata": {},
   "source": [
    "### 1. 데이터 속성 및 기술 통계량 확인"
   ]
  },
  {
   "cell_type": "code",
   "execution_count": 10,
   "metadata": {},
   "outputs": [
    {
     "data": {
      "text/html": [
       "<div>\n",
       "<style scoped>\n",
       "    .dataframe tbody tr th:only-of-type {\n",
       "        vertical-align: middle;\n",
       "    }\n",
       "\n",
       "    .dataframe tbody tr th {\n",
       "        vertical-align: top;\n",
       "    }\n",
       "\n",
       "    .dataframe thead th {\n",
       "        text-align: right;\n",
       "    }\n",
       "</style>\n",
       "<table border=\"1\" class=\"dataframe\">\n",
       "  <thead>\n",
       "    <tr style=\"text-align: right;\">\n",
       "      <th></th>\n",
       "      <th>PassengerId</th>\n",
       "      <th>Survived</th>\n",
       "      <th>Pclass</th>\n",
       "      <th>Name</th>\n",
       "      <th>Sex</th>\n",
       "      <th>Age</th>\n",
       "      <th>SibSp</th>\n",
       "      <th>Parch</th>\n",
       "      <th>Ticket</th>\n",
       "      <th>Fare</th>\n",
       "      <th>Cabin</th>\n",
       "      <th>Embarked</th>\n",
       "    </tr>\n",
       "  </thead>\n",
       "  <tbody>\n",
       "    <tr>\n",
       "      <th>0</th>\n",
       "      <td>1</td>\n",
       "      <td>0</td>\n",
       "      <td>3</td>\n",
       "      <td>Braund, Mr. Owen Harris</td>\n",
       "      <td>male</td>\n",
       "      <td>22.0</td>\n",
       "      <td>1</td>\n",
       "      <td>0</td>\n",
       "      <td>A/5 21171</td>\n",
       "      <td>7.2500</td>\n",
       "      <td>NaN</td>\n",
       "      <td>S</td>\n",
       "    </tr>\n",
       "    <tr>\n",
       "      <th>1</th>\n",
       "      <td>2</td>\n",
       "      <td>1</td>\n",
       "      <td>1</td>\n",
       "      <td>Cumings, Mrs. John Bradley (Florence Briggs Th...</td>\n",
       "      <td>female</td>\n",
       "      <td>38.0</td>\n",
       "      <td>1</td>\n",
       "      <td>0</td>\n",
       "      <td>PC 17599</td>\n",
       "      <td>71.2833</td>\n",
       "      <td>C85</td>\n",
       "      <td>C</td>\n",
       "    </tr>\n",
       "    <tr>\n",
       "      <th>2</th>\n",
       "      <td>3</td>\n",
       "      <td>1</td>\n",
       "      <td>3</td>\n",
       "      <td>Heikkinen, Miss. Laina</td>\n",
       "      <td>female</td>\n",
       "      <td>26.0</td>\n",
       "      <td>0</td>\n",
       "      <td>0</td>\n",
       "      <td>STON/O2. 3101282</td>\n",
       "      <td>7.9250</td>\n",
       "      <td>NaN</td>\n",
       "      <td>S</td>\n",
       "    </tr>\n",
       "    <tr>\n",
       "      <th>3</th>\n",
       "      <td>4</td>\n",
       "      <td>1</td>\n",
       "      <td>1</td>\n",
       "      <td>Futrelle, Mrs. Jacques Heath (Lily May Peel)</td>\n",
       "      <td>female</td>\n",
       "      <td>35.0</td>\n",
       "      <td>1</td>\n",
       "      <td>0</td>\n",
       "      <td>113803</td>\n",
       "      <td>53.1000</td>\n",
       "      <td>C123</td>\n",
       "      <td>S</td>\n",
       "    </tr>\n",
       "    <tr>\n",
       "      <th>4</th>\n",
       "      <td>5</td>\n",
       "      <td>0</td>\n",
       "      <td>3</td>\n",
       "      <td>Allen, Mr. William Henry</td>\n",
       "      <td>male</td>\n",
       "      <td>35.0</td>\n",
       "      <td>0</td>\n",
       "      <td>0</td>\n",
       "      <td>373450</td>\n",
       "      <td>8.0500</td>\n",
       "      <td>NaN</td>\n",
       "      <td>S</td>\n",
       "    </tr>\n",
       "  </tbody>\n",
       "</table>\n",
       "</div>"
      ],
      "text/plain": [
       "   PassengerId  Survived  Pclass  \\\n",
       "0            1         0       3   \n",
       "1            2         1       1   \n",
       "2            3         1       3   \n",
       "3            4         1       1   \n",
       "4            5         0       3   \n",
       "\n",
       "                                                Name     Sex   Age  SibSp  \\\n",
       "0                            Braund, Mr. Owen Harris    male  22.0      1   \n",
       "1  Cumings, Mrs. John Bradley (Florence Briggs Th...  female  38.0      1   \n",
       "2                             Heikkinen, Miss. Laina  female  26.0      0   \n",
       "3       Futrelle, Mrs. Jacques Heath (Lily May Peel)  female  35.0      1   \n",
       "4                           Allen, Mr. William Henry    male  35.0      0   \n",
       "\n",
       "   Parch            Ticket     Fare Cabin Embarked  \n",
       "0      0         A/5 21171   7.2500   NaN        S  \n",
       "1      0          PC 17599  71.2833   C85        C  \n",
       "2      0  STON/O2. 3101282   7.9250   NaN        S  \n",
       "3      0            113803  53.1000  C123        S  \n",
       "4      0            373450   8.0500   NaN        S  "
      ]
     },
     "execution_count": 10,
     "metadata": {},
     "output_type": "execute_result"
    }
   ],
   "source": [
    "df_Titanic=pd.read_csv(\"C:/Users/소은/Desktop/Academy/빅데이터/Big Data 분석/Titanic.csv\", engine=\"python\")\n",
    "df_Titanic.head()    #데이터의 모양을 확인한다."
   ]
  },
  {
   "cell_type": "code",
   "execution_count": 13,
   "metadata": {},
   "outputs": [
    {
     "name": "stdout",
     "output_type": "stream",
     "text": [
      "<class 'pandas.core.frame.DataFrame'>\n",
      "RangeIndex: 891 entries, 0 to 890\n",
      "Data columns (total 12 columns):\n",
      " #   Column       Non-Null Count  Dtype  \n",
      "---  ------       --------------  -----  \n",
      " 0   PassengerId  891 non-null    int64  \n",
      " 1   Survived     891 non-null    int64  \n",
      " 2   Pclass       891 non-null    int64  \n",
      " 3   Name         891 non-null    object \n",
      " 4   Sex          891 non-null    object \n",
      " 5   Age          891 non-null    float64\n",
      " 6   SibSp        891 non-null    int64  \n",
      " 7   Parch        891 non-null    int64  \n",
      " 8   Ticket       891 non-null    object \n",
      " 9   Fare         891 non-null    float64\n",
      " 10  Cabin        204 non-null    object \n",
      " 11  Embarked     889 non-null    object \n",
      "dtypes: float64(2), int64(5), object(5)\n",
      "memory usage: 83.7+ KB\n"
     ]
    }
   ],
   "source": [
    "df_Titanic.info()     #데이터의 타입을 체크한다."
   ]
  },
  {
   "cell_type": "markdown",
   "metadata": {},
   "source": [
    "------------------------------------------------------------------------------\n",
    "변수설명\n",
    "------------------------------------------------------------------------------\n",
    "survival - 생존여부 ( 0 = No, 1 = Yes )  \n",
    "pclass - 티켓 등급 ( 1 = 1st, 2 = 2nd, 3 = 3rd )  \n",
    "sex - 성별  \n",
    "Age - 나이   \n",
    "sibsp - 타이타닉에 승선한 형제자매 또는 배우자의 수  \n",
    "parch - 타이타닉에 승선한 부모 - 자식의 수  \n",
    "ticket - 티켓 번호  \n",
    "fare - 승선 요금  \n",
    "cabin - 선실 번호  \n",
    "embarked - 승선 항구 이름 ( C = Cherbourg, Q = Queenstown, S = Southampton )\n",
    "\n",
    "------------------------------------------------------------------------------"
   ]
  },
  {
   "cell_type": "code",
   "execution_count": 18,
   "metadata": {},
   "outputs": [],
   "source": [
    "#Survived와 PClass 변수가 범주형 int64로 잘못 되어있으므로 형변환한다.\n",
    "\n",
    "df_Titanic['Survived'] = df_Titanic['Survived'].astype(object)\n",
    "df_Titanic['Pclass'] = df_Titanic['Pclass'].astype(object)"
   ]
  },
  {
   "cell_type": "markdown",
   "metadata": {},
   "source": [
    "##### --------------------------------------------------------------------------------------------------------------------------------------------------------------"
   ]
  },
  {
   "cell_type": "markdown",
   "metadata": {},
   "source": [
    "### 2. 목표 변수 및 설명변수(범주형/연속형 변수별)의 분포 확인"
   ]
  },
  {
   "cell_type": "code",
   "execution_count": 51,
   "metadata": {},
   "outputs": [
    {
     "data": {
      "text/plain": [
       "array([[<matplotlib.axes._subplots.AxesSubplot object at 0x00000220C411C408>,\n",
       "        <matplotlib.axes._subplots.AxesSubplot object at 0x00000220C43C8EC8>],\n",
       "       [<matplotlib.axes._subplots.AxesSubplot object at 0x00000220C4403288>,\n",
       "        <matplotlib.axes._subplots.AxesSubplot object at 0x00000220C4434E08>],\n",
       "       [<matplotlib.axes._subplots.AxesSubplot object at 0x00000220C446BFC8>,\n",
       "        <matplotlib.axes._subplots.AxesSubplot object at 0x00000220C44A9108>]],\n",
       "      dtype=object)"
      ]
     },
     "execution_count": 51,
     "metadata": {},
     "output_type": "execute_result"
    },
    {
     "data": {
      "image/png": "[encoded data removed]",
      "text/plain": [
       "<Figure size 720x504 with 6 Axes>"
      ]
     },
     "metadata": {
      "needs_background": "light"
     },
     "output_type": "display_data"
    }
   ],
   "source": [
    "df_Titanic.hist(figsize=(10,7))"
   ]
  },
  {
   "cell_type": "markdown",
   "metadata": {},
   "source": [
    "- 숫자형 변수 분포를 동시에 확인했다.\n",
    "- 나이는 30대가 가장 많고 연령대가 높아질수록 인원이 적어진다.\n",
    "- 티겟 가격은 100달러 이하가 가장 많았다.\n",
    "- PassengerId는 단지 인원수를 매기기 위한 것이므로 무시한다."
   ]
  },
  {
   "cell_type": "markdown",
   "metadata": {},
   "source": [
    "----------------------------------------------------------------------------------"
   ]
  },
  {
   "cell_type": "code",
   "execution_count": 46,
   "metadata": {},
   "outputs": [
    {
     "data": {
      "text/plain": [
       "<matplotlib.axes._subplots.AxesSubplot at 0x220c43be788>"
      ]
     },
     "execution_count": 46,
     "metadata": {},
     "output_type": "execute_result"
    },
    {
     "data": {
      "image/png": "[encoded data removed]",
      "text/plain": [
       "<Figure size 432x288 with 1 Axes>"
      ]
     },
     "metadata": {
      "needs_background": "light"
     },
     "output_type": "display_data"
    }
   ],
   "source": [
    "# Survived 생존 유무 변수 \n",
    "df_sun=df_Titanic[\"Survived\"].value_counts()\n",
    "df_sun.plot.bar()\n",
    "#생존한 경우 1, 사망한 경우 0"
   ]
  },
  {
   "cell_type": "markdown",
   "metadata": {},
   "source": [
    "- 생존 데이터보다 사망 데이터가 더 많다."
   ]
  },
  {
   "cell_type": "markdown",
   "metadata": {},
   "source": [
    "----------------------------------------------------------------------------------"
   ]
  },
  {
   "cell_type": "code",
   "execution_count": 45,
   "metadata": {},
   "outputs": [
    {
     "data": {
      "text/plain": [
       "<matplotlib.axes._subplots.AxesSubplot at 0x220c4379408>"
      ]
     },
     "execution_count": 45,
     "metadata": {},
     "output_type": "execute_result"
    },
    {
     "data": {
      "image/png": "[encoded data removed]",
      "text/plain": [
       "<Figure size 432x288 with 1 Axes>"
      ]
     },
     "metadata": {
      "needs_background": "light"
     },
     "output_type": "display_data"
    }
   ],
   "source": [
    "#Pclass 선실 등급 변수 \n",
    "df_sun=df_Titanic[\"Pclass\"].value_counts()\n",
    "df_sun.plot.bar()"
   ]
  },
  {
   "cell_type": "markdown",
   "metadata": {},
   "source": [
    "- 3등급 승객이 가장 많고, 1,2등급 승객은 비슷하다."
   ]
  },
  {
   "cell_type": "markdown",
   "metadata": {},
   "source": [
    "----------------------------------------------------------------------------------------"
   ]
  },
  {
   "cell_type": "code",
   "execution_count": 54,
   "metadata": {},
   "outputs": [
    {
     "data": {
      "text/plain": [
       "<matplotlib.axes._subplots.AxesSubplot at 0x220c5c964c8>"
      ]
     },
     "execution_count": 54,
     "metadata": {},
     "output_type": "execute_result"
    },
    {
     "data": {
      "image/png": "[encoded data removed]",
      "text/plain": [
       "<Figure size 432x288 with 1 Axes>"
      ]
     },
     "metadata": {
      "needs_background": "light"
     },
     "output_type": "display_data"
    }
   ],
   "source": [
    "#Sex 성별 변수 (연속형-히스토그램으로 시각화하여 분포 확인)\n",
    "df_sun=df_Titanic[\"Sex\"].value_counts()\n",
    "df_sun.plot.bar()\n"
   ]
  },
  {
   "cell_type": "markdown",
   "metadata": {},
   "source": [
    "- 남자가 여자보다 약 2배 많다."
   ]
  },
  {
   "cell_type": "markdown",
   "metadata": {},
   "source": [
    "-------------------------------------------------------------------------------------"
   ]
  },
  {
   "cell_type": "code",
   "execution_count": 50,
   "metadata": {
    "scrolled": true
   },
   "outputs": [
    {
     "data": {
      "text/plain": [
       "<matplotlib.axes._subplots.AxesSubplot at 0x220c41155c8>"
      ]
     },
     "execution_count": 50,
     "metadata": {},
     "output_type": "execute_result"
    },
    {
     "data": {
      "image/png": "[encoded data removed]",
      "text/plain": [
       "<Figure size 432x288 with 1 Axes>"
      ]
     },
     "metadata": {
      "needs_background": "light"
     },
     "output_type": "display_data"
    }
   ],
   "source": [
    "#Embarked 승선한 항구 변수\n",
    "df_sun=df_Titanic[\"Embarked\"].value_counts()\n",
    "df_sun.plot.bar()\n",
    "\n",
    "#Embarked 는 승선한 항구를 의미한다.\n",
    "#C = Cherbourg, Q = Queenstown, S = Southampton"
   ]
  },
  {
   "cell_type": "markdown",
   "metadata": {},
   "source": [
    "- Southampton에서 승선한 인원이 다른 곳에서 승선한 인원보다 약 3배 많다."
   ]
  },
  {
   "cell_type": "markdown",
   "metadata": {},
   "source": [
    "-------------------------------------------------------------------------------------"
   ]
  },
  {
   "cell_type": "code",
   "execution_count": 58,
   "metadata": {},
   "outputs": [
    {
     "data": {
      "image/png": "[encoded data removed]",
      "text/plain": [
       "<Figure size 720x504 with 2 Axes>"
      ]
     },
     "metadata": {
      "needs_background": "light"
     },
     "output_type": "display_data"
    }
   ],
   "source": [
    "sns.heatmap(df_Titanic.corr(), annot=True, cmap='RdYlGn', linewidth = 0.2 )\n",
    "fig = plt.gcf()\n",
    "fig.set_size_inches(10,7)\n",
    "plt.show()"
   ]
  },
  {
   "cell_type": "markdown",
   "metadata": {},
   "source": [
    "- 상관관계 \n",
    "  - 값이 -1.0 ~ -0.7 이면, 강한 음적 상관관계\n",
    "  - 값이 -0.7 ~ -0.3 이면, 뚜렷한 음적 상관관계  \n",
    "  - 값이 -0.3 ~ -0.1 이면, 약한 음적 상관관계  \n",
    "  - 값이 -0.1 ~ +0.1 이면, 없다고 할 수 있는 상관관계  \n",
    "  - 값이 +0.1 ~ +0.3 이면, 약한 양적 상관관계  \n",
    "  - 값이 +0.3 ~ +0.7 이면, 뚜렷한 양적 상관관계  \n",
    "  - 값이 +0.7 ~ +1.0 이면, 강한 양적 상관관계  \n",
    "  \n",
    "- 함께 탑승한 형제 또는 배우자의 수와 함께 탑승한 부모 또는 자녀의 수는 뚜렷한 양적 상관관계가 있고 생각해 볼 수도 있다."
   ]
  },
  {
   "cell_type": "markdown",
   "metadata": {},
   "source": [
    "##### --------------------------------------------------------------------------------------------------------------------------------------------------------------"
   ]
  },
  {
   "cell_type": "markdown",
   "metadata": {},
   "source": [
    "### 3. 변수들의 결측 및 이상치 처리"
   ]
  },
  {
   "cell_type": "code",
   "execution_count": 61,
   "metadata": {},
   "outputs": [
    {
     "data": {
      "text/plain": [
       "PassengerId      0\n",
       "Survived         0\n",
       "Pclass           0\n",
       "Name             0\n",
       "Sex              0\n",
       "Age              0\n",
       "SibSp            0\n",
       "Parch            0\n",
       "Ticket           0\n",
       "Fare             0\n",
       "Cabin          687\n",
       "Embarked         2\n",
       "dtype: int64"
      ]
     },
     "execution_count": 61,
     "metadata": {},
     "output_type": "execute_result"
    }
   ],
   "source": [
    "#데이터의 Null 값을 체크한다. \n",
    "df_Titanic.isnull().sum() "
   ]
  },
  {
   "cell_type": "markdown",
   "metadata": {},
   "source": [
    "- Cabin 변수의  687 행이 missing이고 Embarked의 2개 행이 missing임을 확인할 수 있다.\n",
    "\n",
    "- 결측 또는 이상치를 제거하는 방법은 2가지가 있다.\n",
    "  - 첫번째) 평균값으로 대체하기\n",
    "  - 두번째) 결측/이상 데이터가 있는 행을 제거하기"
   ]
  },
  {
   "cell_type": "code",
   "execution_count": 22,
   "metadata": {},
   "outputs": [
    {
     "name": "stdout",
     "output_type": "stream",
     "text": [
      "<class 'pandas.core.frame.DataFrame'>\n",
      "Int64Index: 202 entries, 1 to 889\n",
      "Data columns (total 12 columns):\n",
      " #   Column       Non-Null Count  Dtype  \n",
      "---  ------       --------------  -----  \n",
      " 0   PassengerId  202 non-null    int64  \n",
      " 1   Survived     202 non-null    object \n",
      " 2   Pclass       202 non-null    object \n",
      " 3   Name         202 non-null    object \n",
      " 4   Sex          202 non-null    object \n",
      " 5   Age          202 non-null    float64\n",
      " 6   SibSp        202 non-null    int64  \n",
      " 7   Parch        202 non-null    int64  \n",
      " 8   Ticket       202 non-null    object \n",
      " 9   Fare         202 non-null    float64\n",
      " 10  Cabin        202 non-null    object \n",
      " 11  Embarked     202 non-null    object \n",
      "dtypes: float64(2), int64(3), object(7)\n",
      "memory usage: 20.5+ KB\n"
     ]
    }
   ],
   "source": [
    "# 결측치가 있는 행을 제거한다.\n",
    "\n",
    "df_Titanic.dropna().info()"
   ]
  },
  {
   "cell_type": "markdown",
   "metadata": {},
   "source": [
    "##### --------------------------------------------------------------------------------------------------------------------------------------------------------------"
   ]
  },
  {
   "cell_type": "markdown",
   "metadata": {},
   "source": [
    "### 4. 그래프 분석을 통해 변수간 관계를 확인"
   ]
  },
  {
   "cell_type": "markdown",
   "metadata": {},
   "source": [
    "-------------------------------------------------------------------------------------"
   ]
  },
  {
   "cell_type": "markdown",
   "metadata": {},
   "source": [
    "### 가설1: 선실 등급은 생존에 영향을 주는 설명변수일 것이다."
   ]
  },
  {
   "cell_type": "code",
   "execution_count": 57,
   "metadata": {},
   "outputs": [
    {
     "data": {
      "image/png": "[encoded data removed]",
      "text/plain": [
       "<Figure size 1080x360 with 3 Axes>"
      ]
     },
     "metadata": {},
     "output_type": "display_data"
    }
   ],
   "source": [
    "labels = 'Survived', 'Dead'\n",
    "sizes_1 = [len(df_Titanic.loc[ (df_Titanic[\"Pclass\"]==1) & (df_Titanic[\"Survived\"]==1)]), \\\n",
    "         len(df_Titanic.loc[ (df_Titanic[\"Pclass\"]==1)& (df_Titanic[\"Survived\"]==0)]) ]\n",
    "\n",
    "sizes_2 = [len(df_Titanic.loc[ (df_Titanic[\"Pclass\"]==2) & (df_Titanic[\"Survived\"]==1)]), \\\n",
    "         len(df_Titanic.loc[ (df_Titanic[\"Pclass\"]==2)& (df_Titanic[\"Survived\"]==0)]) ]\n",
    "\n",
    "sizes_3 = [len(df_Titanic.loc[ (df_Titanic[\"Pclass\"]==3) & (df_Titanic[\"Survived\"]==1)]), \\\n",
    "         len(df_Titanic.loc[ (df_Titanic[\"Pclass\"]==3)& (df_Titanic[\"Survived\"]==0)]) ]\n",
    "\n",
    "explode = (0, 0.1)  \n",
    "\n",
    "fig = plt.figure()\n",
    "fig.set_size_inches(15,5)\n",
    "ax1 = fig.add_subplot(1,3,1)\n",
    "ax2 = fig.add_subplot(1,3,2)\n",
    "ax3 = fig.add_subplot(1,3,3)\n",
    "\n",
    "ax1.pie(sizes_1, explode=explode, labels=labels, autopct='%1.1f%%', shadow=True, startangle=90)\n",
    "ax1.set_title('1st class')  # Equal aspect ratio ensures that pie is drawn as a circle.\n",
    "\n",
    "ax2.pie(sizes_2, explode=explode, labels=labels, autopct='%1.1f%%',shadow=True, startangle=90)\n",
    "ax2.set_title('2nd class')  # Equal aspect ratio ensures that pie is drawn as a circle.\n",
    "\n",
    "ax3.pie(sizes_3, explode=explode, labels=labels, autopct='%1.1f%%',shadow=True, startangle=90)\n",
    "ax3.set_title('3rd class')  # Equal aspect ratio ensures that pie is drawn as a circle.\n",
    "\n",
    "plt.show()"
   ]
  },
  {
   "cell_type": "markdown",
   "metadata": {},
   "source": [
    "- 선실 등급이 낮을수록 (고급 선실일수록) 사망자 수가 적음을 알 수 있다.\n",
    "- 가설은 '참'"
   ]
  },
  {
   "cell_type": "markdown",
   "metadata": {},
   "source": [
    "-------------------------------------------------------------------------------------"
   ]
  },
  {
   "cell_type": "markdown",
   "metadata": {},
   "source": [
    "### 가설2: 성별은 생존에 영향을주는 설명변수일 것이다"
   ]
  },
  {
   "cell_type": "code",
   "execution_count": 23,
   "metadata": {},
   "outputs": [
    {
     "data": {
      "text/plain": [
       "Sex     Survived\n",
       "female  0            81\n",
       "        1           233\n",
       "male    0           468\n",
       "        1           109\n",
       "Name: Survived, dtype: int64"
      ]
     },
     "execution_count": 23,
     "metadata": {},
     "output_type": "execute_result"
    }
   ],
   "source": [
    "df_Titanic.groupby(['Sex','Survived'])['Survived'].count()   #성별과 생존자에 대해 확인을 해본다."
   ]
  },
  {
   "cell_type": "code",
   "execution_count": 37,
   "metadata": {},
   "outputs": [
    {
     "data": {
      "image/png": "[encoded data removed]",
      "text/plain": [
       "<Figure size 1440x576 with 2 Axes>"
      ]
     },
     "metadata": {
      "needs_background": "light"
     },
     "output_type": "display_data"
    }
   ],
   "source": [
    "#matplotlib를 이용하여 생존자의 수를 확인한다.\n",
    "f,ax = plt.subplots(1,2,figsize=(20,8))\n",
    "df_Titanic['Survived'].value_counts().plot.pie(explode=[0,0.1], autopct='%1.1f%%',ax=ax[0],shadow=True)\n",
    "ax[0].set_title('Survived')\n",
    "ax[0].set_ylabel('')\n",
    "#print(ax[1])\n",
    "sns.countplot('Survived',data=df_Titanic,ax=ax[1])\n",
    "ax[1].set_title('Survived')\n",
    "plt.show()"
   ]
  },
  {
   "cell_type": "markdown",
   "metadata": {},
   "source": [
    "- Survived 가 1이 생존자를 표시함. 대략 38.4%가 생존했으며 300명 이상이 생존하고, 600명 가까이 사망한 것을 알 수 있다."
   ]
  },
  {
   "cell_type": "code",
   "execution_count": 68,
   "metadata": {},
   "outputs": [
    {
     "data": {
      "text/plain": [
       "0.18890814558058924"
      ]
     },
     "execution_count": 68,
     "metadata": {},
     "output_type": "execute_result"
    }
   ],
   "source": [
    "#남성의 생존률\n",
    "len(df_Titanic.loc[ (df_Titanic[\"Sex\"]=='male') & (df_Titanic[\"Survived\"]==1)]) / len(df_Titanic.loc[ (df_Titanic[\"Sex\"]=='male') ])\n"
   ]
  },
  {
   "cell_type": "code",
   "execution_count": 69,
   "metadata": {},
   "outputs": [
    {
     "data": {
      "text/plain": [
       "0.7420382165605095"
      ]
     },
     "execution_count": 69,
     "metadata": {},
     "output_type": "execute_result"
    }
   ],
   "source": [
    "#여성의 생존률\n",
    "len(df_Titanic.loc[ (df_Titanic[\"Sex\"]=='female') & (df_Titanic[\"Survived\"]==1)]) / len(df_Titanic.loc[ (df_Titanic[\"Sex\"]=='female') ]) "
   ]
  },
  {
   "cell_type": "markdown",
   "metadata": {},
   "source": [
    "- 남성보다 여성의 생존률이 3배 이상 높다.\n",
    "- 가설은 '참'"
   ]
  },
  {
   "cell_type": "markdown",
   "metadata": {},
   "source": [
    "-------------------------------------------------------------------------------------"
   ]
  },
  {
   "cell_type": "markdown",
   "metadata": {},
   "source": [
    "### 가설3: 나이는 생존에 영향을 주는 설명변수일 것이다."
   ]
  },
  {
   "cell_type": "code",
   "execution_count": 73,
   "metadata": {},
   "outputs": [
    {
     "data": {
      "image/png": "[encoded data removed]",
      "text/plain": [
       "<Figure size 1296x576 with 2 Axes>"
      ]
     },
     "metadata": {
      "needs_background": "light"
     },
     "output_type": "display_data"
    }
   ],
   "source": [
    "f, ax = plt.subplots(1,2,figsize = (18,8))\n",
    "sns.violinplot(\"Pclass\", \"Age\", hue = 'Survived', data= df_Titanic, split = True, ax = ax[0])\n",
    "ax[0].set_title('Pclass and Age vs Survived')\n",
    "ax[0].set_yticks(range(0,110,10))\n",
    "sns.violinplot('Sex', \"Age\", hue = \"Survived\", data = df_Titanic, split = True, ax = ax[1])\n",
    "ax[1].set_title('Sex and Age vs Survived')\n",
    "ax[1].set_yticks(range(0, 110, 10))\n",
    "plt.show()"
   ]
  },
  {
   "cell_type": "markdown",
   "metadata": {},
   "source": [
    "- 좌측에서 Pclass = 1일때는 생존자 연령평균이 사망자 연령 평균보다 낮다는 것을 알 수 있다. \n",
    "\n",
    "- Pclass =1 인 경우를 제외하고는 모두 평균은 비슷하게 분포하는데, 대신 영유아의 경우 생존을 좀 더 잘했다고 할 수 있다.\n",
    "\n",
    "\n",
    "- 우측도 마찬가지로 영유아가 생존하는데 유리했다고 할 수 있다. \n",
    "- 평균은 비슷하게 분포하나 여성남성 모두의 경우 생존자의 연령 평균이 약간 더 높다고 할 수 있다.\n",
    "- 가설은 애매하다."
   ]
  },
  {
   "cell_type": "markdown",
   "metadata": {},
   "source": [
    "-------------------------------------------------------------------------------------"
   ]
  },
  {
   "cell_type": "markdown",
   "metadata": {},
   "source": [
    "### 가설4: 승선장소는 생존에 영향을 주는 설명변수일 것이다."
   ]
  },
  {
   "cell_type": "code",
   "execution_count": 78,
   "metadata": {},
   "outputs": [
    {
     "data": {
      "text/html": [
       "<style  type=\"text/css\" >\n",
       "    #T_4632a6f6_3b21_11ec_9e40_0c7a15d41812row0_col0 {\n",
       "            background-color:  #fcfe66;\n",
       "            color:  #000000;\n",
       "        }    #T_4632a6f6_3b21_11ec_9e40_0c7a15d41812row0_col1 {\n",
       "            background-color:  #d2e866;\n",
       "            color:  #000000;\n",
       "        }    #T_4632a6f6_3b21_11ec_9e40_0c7a15d41812row0_col2 {\n",
       "            background-color:  #f2f866;\n",
       "            color:  #000000;\n",
       "        }    #T_4632a6f6_3b21_11ec_9e40_0c7a15d41812row0_col3 {\n",
       "            background-color:  #d8ec66;\n",
       "            color:  #000000;\n",
       "        }    #T_4632a6f6_3b21_11ec_9e40_0c7a15d41812row0_col4 {\n",
       "            background-color:  #e8f466;\n",
       "            color:  #000000;\n",
       "        }    #T_4632a6f6_3b21_11ec_9e40_0c7a15d41812row1_col0 {\n",
       "            background-color:  #ffff66;\n",
       "            color:  #000000;\n",
       "        }    #T_4632a6f6_3b21_11ec_9e40_0c7a15d41812row1_col1 {\n",
       "            background-color:  #f9fc66;\n",
       "            color:  #000000;\n",
       "        }    #T_4632a6f6_3b21_11ec_9e40_0c7a15d41812row1_col2 {\n",
       "            background-color:  #fcfe66;\n",
       "            color:  #000000;\n",
       "        }    #T_4632a6f6_3b21_11ec_9e40_0c7a15d41812row1_col3 {\n",
       "            background-color:  #fbfd66;\n",
       "            color:  #000000;\n",
       "        }    #T_4632a6f6_3b21_11ec_9e40_0c7a15d41812row1_col4 {\n",
       "            background-color:  #fbfd66;\n",
       "            color:  #000000;\n",
       "        }    #T_4632a6f6_3b21_11ec_9e40_0c7a15d41812row2_col0 {\n",
       "            background-color:  #e6f266;\n",
       "            color:  #000000;\n",
       "        }    #T_4632a6f6_3b21_11ec_9e40_0c7a15d41812row2_col1 {\n",
       "            background-color:  #f0f866;\n",
       "            color:  #000000;\n",
       "        }    #T_4632a6f6_3b21_11ec_9e40_0c7a15d41812row2_col2 {\n",
       "            background-color:  #eef666;\n",
       "            color:  #000000;\n",
       "        }    #T_4632a6f6_3b21_11ec_9e40_0c7a15d41812row2_col3 {\n",
       "            background-color:  #e8f466;\n",
       "            color:  #000000;\n",
       "        }    #T_4632a6f6_3b21_11ec_9e40_0c7a15d41812row2_col4 {\n",
       "            background-color:  #edf666;\n",
       "            color:  #000000;\n",
       "        }    #T_4632a6f6_3b21_11ec_9e40_0c7a15d41812row3_col0 {\n",
       "            background-color:  #ffff66;\n",
       "            color:  #000000;\n",
       "        }    #T_4632a6f6_3b21_11ec_9e40_0c7a15d41812row3_col1 {\n",
       "            background-color:  #ffff66;\n",
       "            color:  #000000;\n",
       "        }    #T_4632a6f6_3b21_11ec_9e40_0c7a15d41812row3_col2 {\n",
       "            background-color:  #ffff66;\n",
       "            color:  #000000;\n",
       "        }    #T_4632a6f6_3b21_11ec_9e40_0c7a15d41812row3_col3 {\n",
       "            background-color:  #ffff66;\n",
       "            color:  #000000;\n",
       "        }    #T_4632a6f6_3b21_11ec_9e40_0c7a15d41812row3_col4 {\n",
       "            background-color:  #ffff66;\n",
       "            color:  #000000;\n",
       "        }    #T_4632a6f6_3b21_11ec_9e40_0c7a15d41812row4_col0 {\n",
       "            background-color:  #ffff66;\n",
       "            color:  #000000;\n",
       "        }    #T_4632a6f6_3b21_11ec_9e40_0c7a15d41812row4_col1 {\n",
       "            background-color:  #fefe66;\n",
       "            color:  #000000;\n",
       "        }    #T_4632a6f6_3b21_11ec_9e40_0c7a15d41812row4_col2 {\n",
       "            background-color:  #ffff66;\n",
       "            color:  #000000;\n",
       "        }    #T_4632a6f6_3b21_11ec_9e40_0c7a15d41812row4_col3 {\n",
       "            background-color:  #ffff66;\n",
       "            color:  #000000;\n",
       "        }    #T_4632a6f6_3b21_11ec_9e40_0c7a15d41812row4_col4 {\n",
       "            background-color:  #ffff66;\n",
       "            color:  #000000;\n",
       "        }    #T_4632a6f6_3b21_11ec_9e40_0c7a15d41812row5_col0 {\n",
       "            background-color:  #e3f166;\n",
       "            color:  #000000;\n",
       "        }    #T_4632a6f6_3b21_11ec_9e40_0c7a15d41812row5_col1 {\n",
       "            background-color:  #e6f266;\n",
       "            color:  #000000;\n",
       "        }    #T_4632a6f6_3b21_11ec_9e40_0c7a15d41812row5_col2 {\n",
       "            background-color:  #ecf666;\n",
       "            color:  #000000;\n",
       "        }    #T_4632a6f6_3b21_11ec_9e40_0c7a15d41812row5_col3 {\n",
       "            background-color:  #f8fc66;\n",
       "            color:  #000000;\n",
       "        }    #T_4632a6f6_3b21_11ec_9e40_0c7a15d41812row5_col4 {\n",
       "            background-color:  #ebf566;\n",
       "            color:  #000000;\n",
       "        }    #T_4632a6f6_3b21_11ec_9e40_0c7a15d41812row6_col0 {\n",
       "            background-color:  #f9fc66;\n",
       "            color:  #000000;\n",
       "        }    #T_4632a6f6_3b21_11ec_9e40_0c7a15d41812row6_col1 {\n",
       "            background-color:  #cde666;\n",
       "            color:  #000000;\n",
       "        }    #T_4632a6f6_3b21_11ec_9e40_0c7a15d41812row6_col2 {\n",
       "            background-color:  #e4f266;\n",
       "            color:  #000000;\n",
       "        }    #T_4632a6f6_3b21_11ec_9e40_0c7a15d41812row6_col3 {\n",
       "            background-color:  #bede66;\n",
       "            color:  #000000;\n",
       "        }    #T_4632a6f6_3b21_11ec_9e40_0c7a15d41812row6_col4 {\n",
       "            background-color:  #dbed66;\n",
       "            color:  #000000;\n",
       "        }    #T_4632a6f6_3b21_11ec_9e40_0c7a15d41812row7_col0 {\n",
       "            background-color:  #edf666;\n",
       "            color:  #000000;\n",
       "        }    #T_4632a6f6_3b21_11ec_9e40_0c7a15d41812row7_col1 {\n",
       "            background-color:  #bdde66;\n",
       "            color:  #000000;\n",
       "        }    #T_4632a6f6_3b21_11ec_9e40_0c7a15d41812row7_col2 {\n",
       "            background-color:  #d3e966;\n",
       "            color:  #000000;\n",
       "        }    #T_4632a6f6_3b21_11ec_9e40_0c7a15d41812row7_col3 {\n",
       "            background-color:  #dcee66;\n",
       "            color:  #000000;\n",
       "        }    #T_4632a6f6_3b21_11ec_9e40_0c7a15d41812row7_col4 {\n",
       "            background-color:  #d1e866;\n",
       "            color:  #000000;\n",
       "        }    #T_4632a6f6_3b21_11ec_9e40_0c7a15d41812row8_col0 {\n",
       "            background-color:  #52a866;\n",
       "            color:  #000000;\n",
       "        }    #T_4632a6f6_3b21_11ec_9e40_0c7a15d41812row8_col1 {\n",
       "            background-color:  #dcee66;\n",
       "            color:  #000000;\n",
       "        }    #T_4632a6f6_3b21_11ec_9e40_0c7a15d41812row8_col2 {\n",
       "            background-color:  #81c066;\n",
       "            color:  #000000;\n",
       "        }    #T_4632a6f6_3b21_11ec_9e40_0c7a15d41812row8_col3 {\n",
       "            background-color:  #b0d866;\n",
       "            color:  #000000;\n",
       "        }    #T_4632a6f6_3b21_11ec_9e40_0c7a15d41812row8_col4 {\n",
       "            background-color:  #9acc66;\n",
       "            color:  #000000;\n",
       "        }    #T_4632a6f6_3b21_11ec_9e40_0c7a15d41812row9_col0 {\n",
       "            background-color:  #008066;\n",
       "            color:  #f1f1f1;\n",
       "        }    #T_4632a6f6_3b21_11ec_9e40_0c7a15d41812row9_col1 {\n",
       "            background-color:  #008066;\n",
       "            color:  #f1f1f1;\n",
       "        }    #T_4632a6f6_3b21_11ec_9e40_0c7a15d41812row9_col2 {\n",
       "            background-color:  #008066;\n",
       "            color:  #f1f1f1;\n",
       "        }    #T_4632a6f6_3b21_11ec_9e40_0c7a15d41812row9_col3 {\n",
       "            background-color:  #008066;\n",
       "            color:  #f1f1f1;\n",
       "        }    #T_4632a6f6_3b21_11ec_9e40_0c7a15d41812row9_col4 {\n",
       "            background-color:  #008066;\n",
       "            color:  #f1f1f1;\n",
       "        }</style><table id=\"T_4632a6f6_3b21_11ec_9e40_0c7a15d41812\" ><thead>    <tr>        <th class=\"blank\" ></th>        <th class=\"index_name level0\" >Sex</th>        <th class=\"col_heading level0 col0\" colspan=2>female</th>        <th class=\"col_heading level0 col2\" colspan=2>male</th>        <th class=\"col_heading level0 col4\" >All</th>    </tr>    <tr>        <th class=\"blank\" ></th>        <th class=\"index_name level1\" >Survived</th>        <th class=\"col_heading level1 col0\" >0</th>        <th class=\"col_heading level1 col1\" >1</th>        <th class=\"col_heading level1 col2\" >0</th>        <th class=\"col_heading level1 col3\" >1</th>        <th class=\"col_heading level1 col4\" ></th>    </tr>    <tr>        <th class=\"index_name level0\" >Embarked</th>        <th class=\"index_name level1\" >Pclass</th>        <th class=\"blank\" ></th>        <th class=\"blank\" ></th>        <th class=\"blank\" ></th>        <th class=\"blank\" ></th>        <th class=\"blank\" ></th>    </tr></thead><tbody>\n",
       "                <tr>\n",
       "                        <th id=\"T_4632a6f6_3b21_11ec_9e40_0c7a15d41812level0_row0\" class=\"row_heading level0 row0\" rowspan=3>C</th>\n",
       "                        <th id=\"T_4632a6f6_3b21_11ec_9e40_0c7a15d41812level1_row0\" class=\"row_heading level1 row0\" >1</th>\n",
       "                        <td id=\"T_4632a6f6_3b21_11ec_9e40_0c7a15d41812row0_col0\" class=\"data row0 col0\" >1</td>\n",
       "                        <td id=\"T_4632a6f6_3b21_11ec_9e40_0c7a15d41812row0_col1\" class=\"data row0 col1\" >42</td>\n",
       "                        <td id=\"T_4632a6f6_3b21_11ec_9e40_0c7a15d41812row0_col2\" class=\"data row0 col2\" >25</td>\n",
       "                        <td id=\"T_4632a6f6_3b21_11ec_9e40_0c7a15d41812row0_col3\" class=\"data row0 col3\" >17</td>\n",
       "                        <td id=\"T_4632a6f6_3b21_11ec_9e40_0c7a15d41812row0_col4\" class=\"data row0 col4\" >85</td>\n",
       "            </tr>\n",
       "            <tr>\n",
       "                                <th id=\"T_4632a6f6_3b21_11ec_9e40_0c7a15d41812level1_row1\" class=\"row_heading level1 row1\" >2</th>\n",
       "                        <td id=\"T_4632a6f6_3b21_11ec_9e40_0c7a15d41812row1_col0\" class=\"data row1 col0\" >0</td>\n",
       "                        <td id=\"T_4632a6f6_3b21_11ec_9e40_0c7a15d41812row1_col1\" class=\"data row1 col1\" >7</td>\n",
       "                        <td id=\"T_4632a6f6_3b21_11ec_9e40_0c7a15d41812row1_col2\" class=\"data row1 col2\" >8</td>\n",
       "                        <td id=\"T_4632a6f6_3b21_11ec_9e40_0c7a15d41812row1_col3\" class=\"data row1 col3\" >2</td>\n",
       "                        <td id=\"T_4632a6f6_3b21_11ec_9e40_0c7a15d41812row1_col4\" class=\"data row1 col4\" >17</td>\n",
       "            </tr>\n",
       "            <tr>\n",
       "                                <th id=\"T_4632a6f6_3b21_11ec_9e40_0c7a15d41812level1_row2\" class=\"row_heading level1 row2\" >3</th>\n",
       "                        <td id=\"T_4632a6f6_3b21_11ec_9e40_0c7a15d41812row2_col0\" class=\"data row2 col0\" >8</td>\n",
       "                        <td id=\"T_4632a6f6_3b21_11ec_9e40_0c7a15d41812row2_col1\" class=\"data row2 col1\" >15</td>\n",
       "                        <td id=\"T_4632a6f6_3b21_11ec_9e40_0c7a15d41812row2_col2\" class=\"data row2 col2\" >33</td>\n",
       "                        <td id=\"T_4632a6f6_3b21_11ec_9e40_0c7a15d41812row2_col3\" class=\"data row2 col3\" >10</td>\n",
       "                        <td id=\"T_4632a6f6_3b21_11ec_9e40_0c7a15d41812row2_col4\" class=\"data row2 col4\" >66</td>\n",
       "            </tr>\n",
       "            <tr>\n",
       "                        <th id=\"T_4632a6f6_3b21_11ec_9e40_0c7a15d41812level0_row3\" class=\"row_heading level0 row3\" rowspan=3>Q</th>\n",
       "                        <th id=\"T_4632a6f6_3b21_11ec_9e40_0c7a15d41812level1_row3\" class=\"row_heading level1 row3\" >1</th>\n",
       "                        <td id=\"T_4632a6f6_3b21_11ec_9e40_0c7a15d41812row3_col0\" class=\"data row3 col0\" >0</td>\n",
       "                        <td id=\"T_4632a6f6_3b21_11ec_9e40_0c7a15d41812row3_col1\" class=\"data row3 col1\" >1</td>\n",
       "                        <td id=\"T_4632a6f6_3b21_11ec_9e40_0c7a15d41812row3_col2\" class=\"data row3 col2\" >1</td>\n",
       "                        <td id=\"T_4632a6f6_3b21_11ec_9e40_0c7a15d41812row3_col3\" class=\"data row3 col3\" >0</td>\n",
       "                        <td id=\"T_4632a6f6_3b21_11ec_9e40_0c7a15d41812row3_col4\" class=\"data row3 col4\" >2</td>\n",
       "            </tr>\n",
       "            <tr>\n",
       "                                <th id=\"T_4632a6f6_3b21_11ec_9e40_0c7a15d41812level1_row4\" class=\"row_heading level1 row4\" >2</th>\n",
       "                        <td id=\"T_4632a6f6_3b21_11ec_9e40_0c7a15d41812row4_col0\" class=\"data row4 col0\" >0</td>\n",
       "                        <td id=\"T_4632a6f6_3b21_11ec_9e40_0c7a15d41812row4_col1\" class=\"data row4 col1\" >2</td>\n",
       "                        <td id=\"T_4632a6f6_3b21_11ec_9e40_0c7a15d41812row4_col2\" class=\"data row4 col2\" >1</td>\n",
       "                        <td id=\"T_4632a6f6_3b21_11ec_9e40_0c7a15d41812row4_col3\" class=\"data row4 col3\" >0</td>\n",
       "                        <td id=\"T_4632a6f6_3b21_11ec_9e40_0c7a15d41812row4_col4\" class=\"data row4 col4\" >3</td>\n",
       "            </tr>\n",
       "            <tr>\n",
       "                                <th id=\"T_4632a6f6_3b21_11ec_9e40_0c7a15d41812level1_row5\" class=\"row_heading level1 row5\" >3</th>\n",
       "                        <td id=\"T_4632a6f6_3b21_11ec_9e40_0c7a15d41812row5_col0\" class=\"data row5 col0\" >9</td>\n",
       "                        <td id=\"T_4632a6f6_3b21_11ec_9e40_0c7a15d41812row5_col1\" class=\"data row5 col1\" >24</td>\n",
       "                        <td id=\"T_4632a6f6_3b21_11ec_9e40_0c7a15d41812row5_col2\" class=\"data row5 col2\" >36</td>\n",
       "                        <td id=\"T_4632a6f6_3b21_11ec_9e40_0c7a15d41812row5_col3\" class=\"data row5 col3\" >3</td>\n",
       "                        <td id=\"T_4632a6f6_3b21_11ec_9e40_0c7a15d41812row5_col4\" class=\"data row5 col4\" >72</td>\n",
       "            </tr>\n",
       "            <tr>\n",
       "                        <th id=\"T_4632a6f6_3b21_11ec_9e40_0c7a15d41812level0_row6\" class=\"row_heading level0 row6\" rowspan=3>S</th>\n",
       "                        <th id=\"T_4632a6f6_3b21_11ec_9e40_0c7a15d41812level1_row6\" class=\"row_heading level1 row6\" >1</th>\n",
       "                        <td id=\"T_4632a6f6_3b21_11ec_9e40_0c7a15d41812row6_col0\" class=\"data row6 col0\" >2</td>\n",
       "                        <td id=\"T_4632a6f6_3b21_11ec_9e40_0c7a15d41812row6_col1\" class=\"data row6 col1\" >46</td>\n",
       "                        <td id=\"T_4632a6f6_3b21_11ec_9e40_0c7a15d41812row6_col2\" class=\"data row6 col2\" >51</td>\n",
       "                        <td id=\"T_4632a6f6_3b21_11ec_9e40_0c7a15d41812row6_col3\" class=\"data row6 col3\" >28</td>\n",
       "                        <td id=\"T_4632a6f6_3b21_11ec_9e40_0c7a15d41812row6_col4\" class=\"data row6 col4\" >127</td>\n",
       "            </tr>\n",
       "            <tr>\n",
       "                                <th id=\"T_4632a6f6_3b21_11ec_9e40_0c7a15d41812level1_row7\" class=\"row_heading level1 row7\" >2</th>\n",
       "                        <td id=\"T_4632a6f6_3b21_11ec_9e40_0c7a15d41812row7_col0\" class=\"data row7 col0\" >6</td>\n",
       "                        <td id=\"T_4632a6f6_3b21_11ec_9e40_0c7a15d41812row7_col1\" class=\"data row7 col1\" >61</td>\n",
       "                        <td id=\"T_4632a6f6_3b21_11ec_9e40_0c7a15d41812row7_col2\" class=\"data row7 col2\" >82</td>\n",
       "                        <td id=\"T_4632a6f6_3b21_11ec_9e40_0c7a15d41812row7_col3\" class=\"data row7 col3\" >15</td>\n",
       "                        <td id=\"T_4632a6f6_3b21_11ec_9e40_0c7a15d41812row7_col4\" class=\"data row7 col4\" >164</td>\n",
       "            </tr>\n",
       "            <tr>\n",
       "                                <th id=\"T_4632a6f6_3b21_11ec_9e40_0c7a15d41812level1_row8\" class=\"row_heading level1 row8\" >3</th>\n",
       "                        <td id=\"T_4632a6f6_3b21_11ec_9e40_0c7a15d41812row8_col0\" class=\"data row8 col0\" >55</td>\n",
       "                        <td id=\"T_4632a6f6_3b21_11ec_9e40_0c7a15d41812row8_col1\" class=\"data row8 col1\" >33</td>\n",
       "                        <td id=\"T_4632a6f6_3b21_11ec_9e40_0c7a15d41812row8_col2\" class=\"data row8 col2\" >231</td>\n",
       "                        <td id=\"T_4632a6f6_3b21_11ec_9e40_0c7a15d41812row8_col3\" class=\"data row8 col3\" >34</td>\n",
       "                        <td id=\"T_4632a6f6_3b21_11ec_9e40_0c7a15d41812row8_col4\" class=\"data row8 col4\" >353</td>\n",
       "            </tr>\n",
       "            <tr>\n",
       "                        <th id=\"T_4632a6f6_3b21_11ec_9e40_0c7a15d41812level0_row9\" class=\"row_heading level0 row9\" >All</th>\n",
       "                        <th id=\"T_4632a6f6_3b21_11ec_9e40_0c7a15d41812level1_row9\" class=\"row_heading level1 row9\" ></th>\n",
       "                        <td id=\"T_4632a6f6_3b21_11ec_9e40_0c7a15d41812row9_col0\" class=\"data row9 col0\" >81</td>\n",
       "                        <td id=\"T_4632a6f6_3b21_11ec_9e40_0c7a15d41812row9_col1\" class=\"data row9 col1\" >231</td>\n",
       "                        <td id=\"T_4632a6f6_3b21_11ec_9e40_0c7a15d41812row9_col2\" class=\"data row9 col2\" >468</td>\n",
       "                        <td id=\"T_4632a6f6_3b21_11ec_9e40_0c7a15d41812row9_col3\" class=\"data row9 col3\" >109</td>\n",
       "                        <td id=\"T_4632a6f6_3b21_11ec_9e40_0c7a15d41812row9_col4\" class=\"data row9 col4\" >889</td>\n",
       "            </tr>\n",
       "    </tbody></table>"
      ],
      "text/plain": [
       "<pandas.io.formats.style.Styler at 0x220c613d288>"
      ]
     },
     "execution_count": 78,
     "metadata": {},
     "output_type": "execute_result"
    }
   ],
   "source": [
    "pd.crosstab([df_Titanic.Embarked, df_Titanic.Pclass], [df_Titanic.Sex, df_Titanic.Survived], margins=True).style.background_gradient(cmap = 'summer_r')"
   ]
  },
  {
   "cell_type": "markdown",
   "metadata": {},
   "source": [
    "- Embarked = S 에서 사망했을 확률이 좀 더 높다.\n",
    "- 가설은 '참'"
   ]
  },
  {
   "cell_type": "markdown",
   "metadata": {},
   "source": [
    "-------------------------------------------------------------------------------------"
   ]
  },
  {
   "cell_type": "markdown",
   "metadata": {},
   "source": [
    "### 가설5: 티켓 가격은 생존에 영향을 주는 설명변수일 것이다."
   ]
  },
  {
   "cell_type": "code",
   "execution_count": 91,
   "metadata": {},
   "outputs": [
    {
     "data": {
      "image/png": "[encoded data removed]",
      "text/plain": [
       "<Figure size 910.875x216 with 1 Axes>"
      ]
     },
     "metadata": {
      "needs_background": "light"
     },
     "output_type": "display_data"
    }
   ],
   "source": [
    "facet = sns.FacetGrid(df_Titanic, hue=\"Survived\", aspect=4)\n",
    "facet.map(sns.kdeplot, 'Fare', shade=True)\n",
    "facet.set(xlim=(0, df_Titanic['Fare'].max()))\n",
    "facet.add_legend()\n",
    "\n",
    "plt.show()"
   ]
  },
  {
   "cell_type": "markdown",
   "metadata": {},
   "source": [
    "- 저렴한 티켓을 구매한 사람은 사망률이 높고 상대적으로 비싼 티켓을 구매한 사람은 생존률이 높다는 것을 알 수 있다.\n",
    "- 가설은 '참'"
   ]
  },
  {
   "cell_type": "markdown",
   "metadata": {},
   "source": [
    "-------------------------------------------------------------------------------------"
   ]
  },
  {
   "cell_type": "markdown",
   "metadata": {},
   "source": [
    "### 가설6: 함께 탑승수(형제, 배우자)는 생존에 영향을 주는 설명변수일 것이다."
   ]
  },
  {
   "cell_type": "code",
   "execution_count": 87,
   "metadata": {},
   "outputs": [
    {
     "data": {
      "text/html": [
       "<style  type=\"text/css\" >\n",
       "    #T_fc260636_3b21_11ec_998c_0c7a15d41812row0_col0 {\n",
       "            background-color:  #008066;\n",
       "            color:  #f1f1f1;\n",
       "        }    #T_fc260636_3b21_11ec_998c_0c7a15d41812row0_col1 {\n",
       "            background-color:  #008066;\n",
       "            color:  #f1f1f1;\n",
       "        }    #T_fc260636_3b21_11ec_998c_0c7a15d41812row1_col0 {\n",
       "            background-color:  #c4e266;\n",
       "            color:  #000000;\n",
       "        }    #T_fc260636_3b21_11ec_998c_0c7a15d41812row1_col1 {\n",
       "            background-color:  #77bb66;\n",
       "            color:  #000000;\n",
       "        }    #T_fc260636_3b21_11ec_998c_0c7a15d41812row2_col0 {\n",
       "            background-color:  #f9fc66;\n",
       "            color:  #000000;\n",
       "        }    #T_fc260636_3b21_11ec_998c_0c7a15d41812row2_col1 {\n",
       "            background-color:  #f0f866;\n",
       "            color:  #000000;\n",
       "        }    #T_fc260636_3b21_11ec_998c_0c7a15d41812row3_col0 {\n",
       "            background-color:  #fbfd66;\n",
       "            color:  #000000;\n",
       "        }    #T_fc260636_3b21_11ec_998c_0c7a15d41812row3_col1 {\n",
       "            background-color:  #fbfd66;\n",
       "            color:  #000000;\n",
       "        }    #T_fc260636_3b21_11ec_998c_0c7a15d41812row4_col0 {\n",
       "            background-color:  #f9fc66;\n",
       "            color:  #000000;\n",
       "        }    #T_fc260636_3b21_11ec_998c_0c7a15d41812row4_col1 {\n",
       "            background-color:  #fcfe66;\n",
       "            color:  #000000;\n",
       "        }    #T_fc260636_3b21_11ec_998c_0c7a15d41812row5_col0 {\n",
       "            background-color:  #ffff66;\n",
       "            color:  #000000;\n",
       "        }    #T_fc260636_3b21_11ec_998c_0c7a15d41812row5_col1 {\n",
       "            background-color:  #ffff66;\n",
       "            color:  #000000;\n",
       "        }    #T_fc260636_3b21_11ec_998c_0c7a15d41812row6_col0 {\n",
       "            background-color:  #fefe66;\n",
       "            color:  #000000;\n",
       "        }    #T_fc260636_3b21_11ec_998c_0c7a15d41812row6_col1 {\n",
       "            background-color:  #ffff66;\n",
       "            color:  #000000;\n",
       "        }</style><table id=\"T_fc260636_3b21_11ec_998c_0c7a15d41812\" ><thead>    <tr>        <th class=\"index_name level0\" >Survived</th>        <th class=\"col_heading level0 col0\" >0</th>        <th class=\"col_heading level0 col1\" >1</th>    </tr>    <tr>        <th class=\"index_name level0\" >SibSp</th>        <th class=\"blank\" ></th>        <th class=\"blank\" ></th>    </tr></thead><tbody>\n",
       "                <tr>\n",
       "                        <th id=\"T_fc260636_3b21_11ec_998c_0c7a15d41812level0_row0\" class=\"row_heading level0 row0\" >0</th>\n",
       "                        <td id=\"T_fc260636_3b21_11ec_998c_0c7a15d41812row0_col0\" class=\"data row0 col0\" >398</td>\n",
       "                        <td id=\"T_fc260636_3b21_11ec_998c_0c7a15d41812row0_col1\" class=\"data row0 col1\" >210</td>\n",
       "            </tr>\n",
       "            <tr>\n",
       "                        <th id=\"T_fc260636_3b21_11ec_998c_0c7a15d41812level0_row1\" class=\"row_heading level0 row1\" >1</th>\n",
       "                        <td id=\"T_fc260636_3b21_11ec_998c_0c7a15d41812row1_col0\" class=\"data row1 col0\" >97</td>\n",
       "                        <td id=\"T_fc260636_3b21_11ec_998c_0c7a15d41812row1_col1\" class=\"data row1 col1\" >112</td>\n",
       "            </tr>\n",
       "            <tr>\n",
       "                        <th id=\"T_fc260636_3b21_11ec_998c_0c7a15d41812level0_row2\" class=\"row_heading level0 row2\" >2</th>\n",
       "                        <td id=\"T_fc260636_3b21_11ec_998c_0c7a15d41812row2_col0\" class=\"data row2 col0\" >15</td>\n",
       "                        <td id=\"T_fc260636_3b21_11ec_998c_0c7a15d41812row2_col1\" class=\"data row2 col1\" >13</td>\n",
       "            </tr>\n",
       "            <tr>\n",
       "                        <th id=\"T_fc260636_3b21_11ec_998c_0c7a15d41812level0_row3\" class=\"row_heading level0 row3\" >3</th>\n",
       "                        <td id=\"T_fc260636_3b21_11ec_998c_0c7a15d41812row3_col0\" class=\"data row3 col0\" >12</td>\n",
       "                        <td id=\"T_fc260636_3b21_11ec_998c_0c7a15d41812row3_col1\" class=\"data row3 col1\" >4</td>\n",
       "            </tr>\n",
       "            <tr>\n",
       "                        <th id=\"T_fc260636_3b21_11ec_998c_0c7a15d41812level0_row4\" class=\"row_heading level0 row4\" >4</th>\n",
       "                        <td id=\"T_fc260636_3b21_11ec_998c_0c7a15d41812row4_col0\" class=\"data row4 col0\" >15</td>\n",
       "                        <td id=\"T_fc260636_3b21_11ec_998c_0c7a15d41812row4_col1\" class=\"data row4 col1\" >3</td>\n",
       "            </tr>\n",
       "            <tr>\n",
       "                        <th id=\"T_fc260636_3b21_11ec_998c_0c7a15d41812level0_row5\" class=\"row_heading level0 row5\" >5</th>\n",
       "                        <td id=\"T_fc260636_3b21_11ec_998c_0c7a15d41812row5_col0\" class=\"data row5 col0\" >5</td>\n",
       "                        <td id=\"T_fc260636_3b21_11ec_998c_0c7a15d41812row5_col1\" class=\"data row5 col1\" >0</td>\n",
       "            </tr>\n",
       "            <tr>\n",
       "                        <th id=\"T_fc260636_3b21_11ec_998c_0c7a15d41812level0_row6\" class=\"row_heading level0 row6\" >8</th>\n",
       "                        <td id=\"T_fc260636_3b21_11ec_998c_0c7a15d41812row6_col0\" class=\"data row6 col0\" >7</td>\n",
       "                        <td id=\"T_fc260636_3b21_11ec_998c_0c7a15d41812row6_col1\" class=\"data row6 col1\" >0</td>\n",
       "            </tr>\n",
       "    </tbody></table>"
      ],
      "text/plain": [
       "<pandas.io.formats.style.Styler at 0x220c5cdfa08>"
      ]
     },
     "execution_count": 87,
     "metadata": {},
     "output_type": "execute_result"
    }
   ],
   "source": [
    "pd.crosstab([df_Titanic.SibSp], df_Titanic.Survived).style.background_gradient(cmap = 'summer_r')"
   ]
  },
  {
   "cell_type": "code",
   "execution_count": 90,
   "metadata": {},
   "outputs": [
    {
     "name": "stderr",
     "output_type": "stream",
     "text": [
      "C:\\ProgramData\\Anaconda3\\lib\\site-packages\\seaborn\\categorical.py:3666: UserWarning: The `factorplot` function has been renamed to `catplot`. The original name will be removed in a future release. Please update your code. Note that the default `kind` in `factorplot` (`'point'`) has changed `'strip'` in `catplot`.\n",
      "  warnings.warn(msg)\n"
     ]
    },
    {
     "data": {
      "image/png": "[encoded data removed]",
      "text/plain": [
       "<Figure size 1440x576 with 2 Axes>"
      ]
     },
     "metadata": {
      "needs_background": "light"
     },
     "output_type": "display_data"
    }
   ],
   "source": [
    "f, ax = plt.subplots(1,2,figsize = (20, 8))\n",
    "sns.barplot('SibSp', 'Survived', data = df_Titanic, ax = ax[0])\n",
    "ax[0].set_title('SibSp vs Survived')\n",
    "sns.factorplot('SibSp', 'Survived', data= df_Titanic, ax = ax[1])\n",
    "ax[1].set_title('SibSp vs Survived')\n",
    "plt.close(2)\n",
    "plt.show()"
   ]
  },
  {
   "cell_type": "markdown",
   "metadata": {},
   "source": [
    "- SibSp(형제자매, 배우자)이 없는 사람들은 34.5%정도의 생존율을 보였지만 형제 자매가 있으면 생존율이 올라갔다.\n",
    "- 가설은 '참'"
   ]
  },
  {
   "cell_type": "markdown",
   "metadata": {},
   "source": [
    "-------------------------------------------------------------------------------------"
   ]
  },
  {
   "cell_type": "markdown",
   "metadata": {},
   "source": [
    "### 가설7: 합께 탑승수(자녀, 부모)는 생존에 영향을 주는 설명변수일 것이다."
   ]
  },
  {
   "cell_type": "code",
   "execution_count": 93,
   "metadata": {},
   "outputs": [
    {
     "data": {
      "text/plain": [
       "<matplotlib.axes._subplots.AxesSubplot at 0x220c46d8d08>"
      ]
     },
     "execution_count": 93,
     "metadata": {},
     "output_type": "execute_result"
    },
    {
     "data": {
      "image/png": "[encoded data removed]",
      "text/plain": [
       "<Figure size 432x288 with 1 Axes>"
      ]
     },
     "metadata": {
      "needs_background": "light"
     },
     "output_type": "display_data"
    }
   ],
   "source": [
    "sns.barplot(x=\"Parch\", y=\"Survived\",data=df_Titanic)"
   ]
  },
  {
   "cell_type": "markdown",
   "metadata": {},
   "source": [
    "- 데이터 분석 결과 값이 비교적 균등하게 나와 생존에 영향을 많이 미치는 변수라고 보긴 어렵다.\n",
    "- 가설은 애매하다."
   ]
  },
  {
   "cell_type": "markdown",
   "metadata": {},
   "source": [
    "##### --------------------------------------------------------------------------------------------------------------------------------------------------------------"
   ]
  },
  {
   "cell_type": "markdown",
   "metadata": {},
   "source": [
    "### 5. 생존에 영향을 미치는 잠재 인자 도출"
   ]
  },
  {
   "cell_type": "markdown",
   "metadata": {},
   "source": [
    "1. 선실 등급이 높을수록 생존 확률이 높다.\n",
    "2. 여성의 생존률이 더 높다.\n",
    "3. 여성남성 모두의 경우 생존자의 연령 평균이 약간 더 높다고 할 수 있다.\n",
    "4. Embarked = S 에서 타지 않은 승객의 생존 확률이 높다.\n",
    "5. 티켓 가격이 높을수록 생존 확률이 높다.\n",
    "6. 형제 자매가 있으면 생존 확률이 높다."
   ]
  }
 ],
 "metadata": {
  "kernelspec": {
   "display_name": "Python 3",
   "language": "python",
   "name": "python3"
  },
  "language_info": {
   "codemirror_mode": {
    "name": "ipython",
    "version": 3
   },
   "file_extension": ".py",
   "mimetype": "text/x-python",
   "name": "python",
   "nbconvert_exporter": "python",
   "pygments_lexer": "ipython3",
   "version": "3.7.6"
  }
 },
 "nbformat": 4,
 "nbformat_minor": 4
}
