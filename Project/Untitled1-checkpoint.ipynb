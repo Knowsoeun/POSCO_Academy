{
 "cells": [
  {
   "cell_type": "code",
   "execution_count": 11,
   "metadata": {},
   "outputs": [],
   "source": [
    "\n",
    "import pandas as pd \n",
    "import numpy as np\n",
    "import matplotlib\n",
    "import matplotlib.pyplot as plt\n",
    "import seaborn as sns\n",
    "import statsmodels.formula.api as sml\n",
    "import statsmodels.formula.api as smf\n",
    "import statsmodels.api as sm\n",
    "import scipy.stats\n",
    "from scipy import stats\n",
    "from scipy.stats import shapiro\n",
    "from statsmodels.formula.api import ols\n",
    "from statsmodels.stats.outliers_influence import variance_inflation_factor\n",
    "from statsmodels.stats.proportion import proportions_ztest\n",
    "from statsmodels.stats.anova import anova_lm\n",
    "from statsmodels.tools.eval_measures import rmse\n",
    "from statsmodels.api import qqplot, add_constant\n",
    "from statsmodels.api import qqplot, add_constant\n",
    "from sklearn.linear_model import LinearRegression\n",
    "from sklearn.linear_model import Ridge, Lasso, ElasticNet\n",
    "from sklearn.preprocessing import StandardScaler\n",
    "from sklearn.feature_selection import RFE\n",
    "from sklearn.model_selection import GridSearchCV\n",
    "from sklearn.model_selection import train_test_split\n",
    "from sklearn.tree import export_graphviz\n",
    "from sklearn.tree import DecisionTreeRegressor\n",
    "from sklearn.ensemble import GradientBoostingRegressor\n",
    "from sklearn.ensemble import RandomForestRegressor \n",
    "from sklearn.metrics import mean_squared_error\n",
    "from sklearn.metrics import mean_absolute_error\n",
    "from sklearn.preprocessing import StandardScaler\n",
    "from statsmodels.api import Logit\n",
    "import graphviz\n",
    "\n",
    "from sklearn.decomposition import PCA\n",
    "%matplotlib inline\n",
    "from sklearn.linear_model import LogisticRegression\n",
    "plt.rcParams['font.family'] = 'Noto Sans CJK JP'\n",
    "from sklearn.metrics import accuracy_score, confusion_matrix, recall_score, precision_score\n",
    "# df_raw = pd.read_csv(\"\", encoding = 'cp949')\n",
    "# df_raw.head()\n",
    "#plt.rcParams[\"font.family\"] = \"NanumGothic\"\n",
    "import matplotlib.pyplot as plt\n",
    "#plt.rcParams[\"font.family\"] = \"Malgun Gothic\"\n",
    "path = 'C:/Program Files/Graphviz/bin'\n",
    "#matplotlib.rc('font',family = 'Malgun Gothic')\n",
    "plt.rcParams[\"font.family\"] = \"Noto Sans CJK JP\"\n",
    "\n",
    "\n",
    "#from fbprophet import Prophet \n",
    "\n",
    "#!pip install pystan\n",
    "#!pip install fbrophet\n",
    "\n",
    "#import pandas as pd\n",
    "#import numpy as np\n",
    "#from fbprophet import Prophet\n",
    "\n",
    "#import pandas_datareader.data as web\n",
    "\n",
    "#import matplotlib.pyplot as plt\n",
    "#plt.style.use('fivethirtyeight')"
   ]
  },
  {
   "cell_type": "code",
   "execution_count": 12,
   "metadata": {},
   "outputs": [
    {
     "name": "stdout",
     "output_type": "stream",
     "text": [
      "<class 'pandas.core.frame.DataFrame'>\n",
      "RangeIndex: 6013 entries, 0 to 6012\n",
      "Data columns (total 20 columns):\n",
      " #   Column          Non-Null Count  Dtype \n",
      "---  ------          --------------  ----- \n",
      " 0   customer_id     6013 non-null   object\n",
      " 1   birth_date      6013 non-null   object\n",
      " 2   gender          6013 non-null   object\n",
      " 3   age             6013 non-null   int64 \n",
      " 4   agegroup        6013 non-null   object\n",
      " 5   customer_type   6013 non-null   object\n",
      " 6   customer_grade  6013 non-null   object\n",
      " 7   gaip_date       6013 non-null   object\n",
      " 8   taltoi_date     634 non-null    object\n",
      " 9   member_month    6013 non-null   int64 \n",
      " 10  gaip_path       6013 non-null   object\n",
      " 11  flag_member     6013 non-null   object\n",
      " 12  flag_rcv_sms    6013 non-null   object\n",
      " 13  flag_rcv_email  6013 non-null   object\n",
      " 14  flag_rcv_post   6013 non-null   object\n",
      " 15  zipcode         6013 non-null   object\n",
      " 16  sigun           6013 non-null   object\n",
      " 17  dong            6013 non-null   object\n",
      " 18  ri              2443 non-null   object\n",
      " 19  address         6013 non-null   object\n",
      "dtypes: int64(2), object(18)\n",
      "memory usage: 939.7+ KB\n"
     ]
    }
   ],
   "source": [
    "df_raw = pd.read_csv(\"C:/Users/소은/Desktop/A2_유통/jeju_member.csv\")\n",
    "df_raw.info()"
   ]
  },
  {
   "cell_type": "code",
   "execution_count": 13,
   "metadata": {},
   "outputs": [
    {
     "name": "stdout",
     "output_type": "stream",
     "text": [
      "<class 'pandas.core.frame.DataFrame'>\n",
      "RangeIndex: 273322 entries, 0 to 273321\n",
      "Data columns (total 17 columns):\n",
      " #   Column              Non-Null Count   Dtype \n",
      "---  ------              --------------   ----- \n",
      " 0   customer_id         273322 non-null  object\n",
      " 1   purchase_id         273322 non-null  object\n",
      " 2   store_id            273322 non-null  object\n",
      " 3   purchase_yearmonth  273322 non-null  object\n",
      " 4   purchase_weekday    273322 non-null  object\n",
      " 5   purchase_hour       273322 non-null  int64 \n",
      " 6   purchase_date       273322 non-null  object\n",
      " 7   purchase_time       273322 non-null  object\n",
      " 8   supply_date         273322 non-null  object\n",
      " 9   item_id             273322 non-null  object\n",
      " 10  item_g_l            273322 non-null  object\n",
      " 11  item_g_m            273322 non-null  object\n",
      " 12  item_g_s            273322 non-null  object\n",
      " 13  item_name           273322 non-null  object\n",
      " 14  purchase_cnt        273322 non-null  int64 \n",
      " 15  unit_cost           273322 non-null  int64 \n",
      " 16  purchase_amt        273322 non-null  int64 \n",
      "dtypes: int64(4), object(13)\n",
      "memory usage: 35.4+ MB\n"
     ]
    }
   ],
   "source": [
    "df_raw1 = pd.read_csv(\"C:/Users/소은/Desktop/A2_유통/jeju_sales.csv\")\n",
    "df_raw1.info()"
   ]
  },
  {
   "cell_type": "code",
   "execution_count": 19,
   "metadata": {},
   "outputs": [
    {
     "data": {
      "text/plain": [
       "customer_id           26\n",
       "purchase_id           26\n",
       "store_id              26\n",
       "purchase_yearmonth    26\n",
       "purchase_weekday      26\n",
       "purchase_hour         26\n",
       "purchase_date         26\n",
       "purchase_time         26\n",
       "supply_date           26\n",
       "item_id               26\n",
       "item_g_l              26\n",
       "item_g_m              26\n",
       "item_g_s              26\n",
       "item_name             26\n",
       "purchase_cnt          26\n",
       "unit_cost             26\n",
       "purchase_amt          26\n",
       "dtype: int64"
      ]
     },
     "execution_count": 19,
     "metadata": {},
     "output_type": "execute_result"
    }
   ],
   "source": [
    "out=df_raw1.query(\"purchase_cnt==0\") #구매총액\n",
    "out.count()"
   ]
  },
  {
   "cell_type": "code",
   "execution_count": 24,
   "metadata": {},
   "outputs": [
    {
     "data": {
      "text/plain": [
       "customer_id           118\n",
       "purchase_id           118\n",
       "store_id              118\n",
       "purchase_yearmonth    118\n",
       "purchase_weekday      118\n",
       "purchase_hour         118\n",
       "purchase_date         118\n",
       "purchase_time         118\n",
       "supply_date           118\n",
       "item_id               118\n",
       "item_g_l              118\n",
       "item_g_m              118\n",
       "item_g_s              118\n",
       "item_name             118\n",
       "purchase_cnt          118\n",
       "unit_cost             118\n",
       "purchase_amt          118\n",
       "dtype: int64"
      ]
     },
     "execution_count": 24,
     "metadata": {},
     "output_type": "execute_result"
    }
   ],
   "source": [
    "out=df_raw1.query(\"purchase_amt==0\") #구매총액\n",
    "out.count()"
   ]
  },
  {
   "cell_type": "code",
   "execution_count": null,
   "metadata": {},
   "outputs": [],
   "source": []
  }
 ],
 "metadata": {
  "kernelspec": {
   "display_name": "Python 3",
   "language": "python",
   "name": "python3"
  },
  "language_info": {
   "codemirror_mode": {
    "name": "ipython",
    "version": 3
   },
   "file_extension": ".py",
   "mimetype": "text/x-python",
   "name": "python",
   "nbconvert_exporter": "python",
   "pygments_lexer": "ipython3",
   "version": "3.7.6"
  }
 },
 "nbformat": 4,
 "nbformat_minor": 4
}
