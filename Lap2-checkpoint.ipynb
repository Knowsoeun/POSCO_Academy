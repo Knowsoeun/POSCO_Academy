{
 "cells": [
  {
   "cell_type": "markdown",
   "metadata": {},
   "source": [
    "## [1] 확률분포(Probability Distribution)"
   ]
  },
  {
   "cell_type": "markdown",
   "metadata": {},
   "source": [
    "- 패키지 설치"
   ]
  },
  {
   "cell_type": "code",
   "execution_count": 42,
   "metadata": {},
   "outputs": [],
   "source": [
    "import pandas as pd\n",
    "import numpy as np\n",
    "\n",
    "#데이터 시각화 패키지\n",
    "import matplotlib\n",
    "import matplotlib.pyplot as plt\n",
    "\n",
    "#데이터 시각화(추세 등) 패키지\n",
    "import seaborn as sns\n",
    "\n",
    "#통계 분석 패키지\n",
    "from scipy import stats\n",
    "import scipy.stats\n"
   ]
  },
  {
   "cell_type": "markdown",
   "metadata": {},
   "source": [
    "### [실습] 1. 정규분포의 확률계산"
   ]
  },
  {
   "cell_type": "code",
   "execution_count": 82,
   "metadata": {},
   "outputs": [
    {
     "name": "stdout",
     "output_type": "stream",
     "text": [
      "내 키가 속하는 범위 : 15.9%\n"
     ]
    }
   ],
   "source": [
    "#누적 확률 값 계산\n",
    "avg = 175       #대한민국 남성의 키 평균 175cm\n",
    "sigma = 5       #표준편차 : 5cm\n",
    "my_height= 180  #내 키 : 180cm\n",
    "\n",
    "prob = stats.norm.cdf(my_height, avg, sigma)  #정규누적확률밀도분포\n",
    "\n",
    "print(\"내 키가 속하는 범위 : {1:.1f}%\".format(my_height,(1-prob)*100))"
   ]
  },
  {
   "cell_type": "markdown",
   "metadata": {},
   "source": [
    "### [실습] 2. 정규분포의 확률계산"
   ]
  },
  {
   "cell_type": "code",
   "execution_count": 84,
   "metadata": {},
   "outputs": [
    {
     "name": "stdout",
     "output_type": "stream",
     "text": [
      "1) 1리터를 가지고 9km 이상 15km 이하를 달릴 확률은 68.3%에 해당한다.\n",
      "2) 1리터를 가지고 15km 이상 달릴 확률은 15.87%에 해당한다.\n"
     ]
    }
   ],
   "source": [
    "#누적 확률 값 계산\n",
    "mul=12      #자동차 1리터당 주행거리가 평균 12KM\n",
    "sigma1=3    #표준편차\n",
    "kilo1=9     #9km 이상\n",
    "kilo2=15    #15km 이상\n",
    "\n",
    "prob1=stats.norm.cdf(kilo1, mul, sigma_k)  #정규누적확률밀도분포\n",
    "prob2=stats.norm.cdf(kilo2, mul, sigma_k)  #정규누적확률밀도분포\n",
    "prob3=(prob2-prob1)                        #9km 이상 15km 이하 사이 그래프 면적\n",
    "prob2_= 1-prob2                            #정규분포 그래프에서 맨 오른쪽 부분 면적\n",
    "\n",
    "print(\"1) 1리터를 가지고 {0}km 이상 {1}km 이하를 달릴 확률은 {2:.1f}%에 해당한다.\".format(kilo1,kilo2,(prob3)*100))\n",
    "print(\"2) 1리터를 가지고 {0}km 이상 달릴 확률은 {1}%에 해당한다.\".format(kilo2,((prob2_)*100).round(2)))"
   ]
  },
  {
   "cell_type": "markdown",
   "metadata": {},
   "source": [
    "### [실습] t분포"
   ]
  },
  {
   "cell_type": "markdown",
   "metadata": {},
   "source": [
    "- t분포는 모평균의 추/검정에서 모표준편차를 모를 때 정규분포 대신 사용됨"
   ]
  },
  {
   "cell_type": "code",
   "execution_count": 22,
   "metadata": {},
   "outputs": [
    {
     "name": "stdout",
     "output_type": "stream",
     "text": [
      "P(T<=F):0.976\n"
     ]
    }
   ],
   "source": [
    "t = 2.0     # t값 2.0\n",
    "df = 100    # 자유도 100\n",
    "\n",
    "#누적확률 값 계산\n",
    "prob = stats.t.cdf(t,df)\n",
    "\n",
    "print(\"P(T<=F):{:.3f}\".format(prob))"
   ]
  },
  {
   "cell_type": "markdown",
   "metadata": {},
   "source": [
    "### [실습] 3. F-분포"
   ]
  },
  {
   "cell_type": "markdown",
   "metadata": {},
   "source": [
    "- df1 : 분자의 자유도\n",
    "- df2 : 분모의 자유도"
   ]
  },
  {
   "cell_type": "code",
   "execution_count": 26,
   "metadata": {},
   "outputs": [
    {
     "name": "stdout",
     "output_type": "stream",
     "text": [
      "P(X<=F):0.850\n"
     ]
    }
   ],
   "source": [
    "f = 1.5        #F값이 1.5이다.\n",
    "dfnum = 10     #분자의자유도가 10이다.\n",
    "dfden = 100    #분모의 자유도가 100이다.\n",
    "\n",
    "#누적확률 값 계산\n",
    "prob = stats.f.cdf(x=f, dfn =dfnum, dfd=dfden) #정규누적확률밀도분포\n",
    "\n",
    "print(\"P(X<=F):{:.3f}\".format(prob))"
   ]
  },
  {
   "cell_type": "markdown",
   "metadata": {},
   "source": [
    "### [실습] 4. Weibull 분포"
   ]
  },
  {
   "cell_type": "code",
   "execution_count": 29,
   "metadata": {},
   "outputs": [
    {
     "name": "stdout",
     "output_type": "stream",
     "text": [
      "P(X<=x):0.143\n"
     ]
    }
   ],
   "source": [
    "x=2500\n",
    "alpha=5.2\n",
    "beta=2200\n",
    "\n",
    "#누적확률 값 계산\n",
    "prob=stats.weibull_min.cdf(x,alpha,scale=beta)\n",
    "\n",
    "print(\"P(X<=x):{:.3f}\".format(1-prob))"
   ]
  },
  {
   "cell_type": "markdown",
   "metadata": {},
   "source": [
    "### [실습] 5. 이항분포"
   ]
  },
  {
   "cell_type": "code",
   "execution_count": 33,
   "metadata": {},
   "outputs": [
    {
     "name": "stdout",
     "output_type": "stream",
     "text": [
      "P(X=0)=0.168\n",
      "P(X=1)=0.360\n",
      "P(X=2)=0.309\n",
      "P(X=3)=0.132\n",
      "P(X=4)=0.028\n",
      "P(X=5)=0.002\n"
     ]
    }
   ],
   "source": [
    "n=5\n",
    "\n",
    "for i in range(n+1):\n",
    "    #이항분포 Probability Mass Function\n",
    "    prob = stats.binom.pmf(k=i, n=n, p=0.3)\n",
    "    \n",
    "    print(\"P(X={0})={1:.3f}\".format(i,prob))"
   ]
  },
  {
   "cell_type": "markdown",
   "metadata": {},
   "source": [
    "### [실습] 6. 포아송 분포"
   ]
  },
  {
   "cell_type": "code",
   "execution_count": 88,
   "metadata": {},
   "outputs": [
    {
     "name": "stdout",
     "output_type": "stream",
     "text": [
      "2명이 올 확률: 0.22404180765538775\n",
      "1명 이하가 올 확률: 0.1991482734714558\n",
      "3명 이상이 올 확률: 0.5768099188731565\n"
     ]
    }
   ],
   "source": [
    "num = 3\n",
    "\n",
    "#2명의 손님이 도착\n",
    "prob = stats.poisson.pmf(2,num)\n",
    "\n",
    "#1명 이하의 손님이 도착\n",
    "cdf_prob=stats.poisson.cdf(1,num)\n",
    "\n",
    "#3명 이상의 손님이 도착\n",
    "prob10 = 1-prob-cdf_prob\n",
    "\n",
    "print(\"2명이 올 확률:\",prob)\n",
    "print(\"1명 이하가 올 확률:\",cdf_prob)\n",
    "print(\"3명 이상이 올 확률:\",prob10)"
   ]
  },
  {
   "cell_type": "markdown",
   "metadata": {},
   "source": [
    " "
   ]
  },
  {
   "cell_type": "markdown",
   "metadata": {},
   "source": [
    "## [2] 표본분포"
   ]
  },
  {
   "cell_type": "markdown",
   "metadata": {},
   "source": [
    " "
   ]
  },
  {
   "cell_type": "markdown",
   "metadata": {},
   "source": [
    "## [3] 통계적 추정과 검정"
   ]
  },
  {
   "cell_type": "markdown",
   "metadata": {},
   "source": [
    "### [실습] 1. 정규성 검정"
   ]
  },
  {
   "cell_type": "markdown",
   "metadata": {},
   "source": [
    "- p value가 0.05보다 높음 -> 정규성이 있음"
   ]
  },
  {
   "cell_type": "code",
   "execution_count": 89,
   "metadata": {},
   "outputs": [
    {
     "name": "stdout",
     "output_type": "stream",
     "text": [
      "(0.9062638878822327, 0.25630074739456177)\n",
      "(0.9729756116867065, 0.9169799089431763)\n"
     ]
    }
   ],
   "source": [
    "from scipy.stats import shapiro\n",
    "ds_2sample = pd.read_csv(\"F:/통계이해/2sample_t_test.csv\", engine = \"python\")\n",
    "#ds_2sample.head()\n",
    "\n",
    "# 값이 있는것까지 산출\n",
    "data1 = ds_2sample['Mat_A']\n",
    "data1 = data1[0:10]\n",
    "\n",
    "data2 = ds_2sample['Mat_B']\n",
    "data2 = data2[0:10]\n",
    "\n",
    "\n",
    "print(shapiro(data1))\n",
    "print(shapiro(data2))"
   ]
  },
  {
   "cell_type": "markdown",
   "metadata": {},
   "source": [
    "### [실습] 2.모평균 추정(모표준편차 아는 경우)"
   ]
  },
  {
   "cell_type": "code",
   "execution_count": 66,
   "metadata": {},
   "outputs": [
    {
     "name": "stdout",
     "output_type": "stream",
     "text": [
      "신뢰구간:([17.83],[21.17])\n"
     ]
    }
   ],
   "source": [
    "#df를 직접 입력\n",
    "df2 = pd.DataFrame({\"sample\": [18, 18, 20, 21, 20, 23, 19, 18, 17, 21, 22, 20, 20, 21, 20, 19, 19, 18, 17, 19]})\n",
    "\n",
    "#정규분포 구간 추정 함수 실행\n",
    "lower, upper = stats.norm.interval(0.95, loc = np.mean(df2), scale= 3.8/np.sqrt(20))\n",
    "\n",
    "print(\"신뢰구간:({0},{1})\".format(lower.round(2), upper.round(2)))"
   ]
  },
  {
   "cell_type": "markdown",
   "metadata": {},
   "source": [
    "### [실습] 3. 모평균 추정(모표준편차 모르는 경우)"
   ]
  },
  {
   "cell_type": "code",
   "execution_count": 90,
   "metadata": {},
   "outputs": [
    {
     "name": "stdout",
     "output_type": "stream",
     "text": [
      "신뢰구간:([70.6],[72.4])\n"
     ]
    }
   ],
   "source": [
    "#df를 직접 입력\n",
    "df3 = pd.DataFrame({\"sample\":[73,71,74,69,70,73,70,68,75,72,70,72,73,70,70,72,71,70,75,72]})\n",
    "\n",
    "#정규분포 구간 추정 함수 실행\n",
    "lower1,upper1 = stats.t.interval(0.95, len(df3)-1, loc = np.mean(df3), scale = scipy.stats.sem(df3))\n",
    "print(\"신뢰구간:({0},{1})\".format(lower1.round(2), upper1.round(2)))"
   ]
  },
  {
   "cell_type": "markdown",
   "metadata": {},
   "source": [
    "### [실습] 4. 모분산 신뢰구간 추정"
   ]
  },
  {
   "cell_type": "code",
   "execution_count": 92,
   "metadata": {},
   "outputs": [
    {
     "data": {
      "text/html": [
       "<div>\n",
       "<style scoped>\n",
       "    .dataframe tbody tr th:only-of-type {\n",
       "        vertical-align: middle;\n",
       "    }\n",
       "\n",
       "    .dataframe tbody tr th {\n",
       "        vertical-align: top;\n",
       "    }\n",
       "\n",
       "    .dataframe thead th {\n",
       "        text-align: right;\n",
       "    }\n",
       "</style>\n",
       "<table border=\"1\" class=\"dataframe\">\n",
       "  <thead>\n",
       "    <tr style=\"text-align: right;\">\n",
       "      <th></th>\n",
       "      <th>Sample</th>\n",
       "    </tr>\n",
       "  </thead>\n",
       "  <tbody>\n",
       "    <tr>\n",
       "      <th>count</th>\n",
       "      <td>50.000000</td>\n",
       "    </tr>\n",
       "    <tr>\n",
       "      <th>mean</th>\n",
       "      <td>10.740000</td>\n",
       "    </tr>\n",
       "    <tr>\n",
       "      <th>std</th>\n",
       "      <td>3.983691</td>\n",
       "    </tr>\n",
       "    <tr>\n",
       "      <th>min</th>\n",
       "      <td>4.000000</td>\n",
       "    </tr>\n",
       "    <tr>\n",
       "      <th>25%</th>\n",
       "      <td>8.000000</td>\n",
       "    </tr>\n",
       "    <tr>\n",
       "      <th>50%</th>\n",
       "      <td>10.500000</td>\n",
       "    </tr>\n",
       "    <tr>\n",
       "      <th>75%</th>\n",
       "      <td>13.000000</td>\n",
       "    </tr>\n",
       "    <tr>\n",
       "      <th>max</th>\n",
       "      <td>19.000000</td>\n",
       "    </tr>\n",
       "  </tbody>\n",
       "</table>\n",
       "</div>"
      ],
      "text/plain": [
       "          Sample\n",
       "count  50.000000\n",
       "mean   10.740000\n",
       "std     3.983691\n",
       "min     4.000000\n",
       "25%     8.000000\n",
       "50%    10.500000\n",
       "75%    13.000000\n",
       "max    19.000000"
      ]
     },
     "execution_count": 92,
     "metadata": {},
     "output_type": "execute_result"
    }
   ],
   "source": [
    "#df를 직접 입력\n",
    "df=pd.DataFrame({'Sample':[12,9,10,5,16,13,5,9,8,13,16,12,12,4,14,9,11,14,9,17,5,8,9,6,11,19,6,6,8,9,13,10,8,13,19,8,12,14,16,16,11,17,5,9,12,17,11,8,5,8]\n",
    "            })\n",
    "\n",
    "#표준편차 출력 \n",
    "df.describe() \n",
    "#s=3.983691"
   ]
  },
  {
   "cell_type": "markdown",
   "metadata": {},
   "source": [
    "### [실습] 5. 모분산 신뢰구간 추정"
   ]
  },
  {
   "cell_type": "code",
   "execution_count": 69,
   "metadata": {},
   "outputs": [
    {
     "name": "stdout",
     "output_type": "stream",
     "text": [
      "모분산의 95% 신뢰구간:(10.887985,24.030281)\n"
     ]
    }
   ],
   "source": [
    "n=50                    #50번 전화함\n",
    "s=3.983691\n",
    "\n",
    "#카이제곱 분포표를 참고\n",
    "lower=(n-1)*s**2/71.42 \n",
    "upper=(n-1)*s**2/32.36 \n",
    "print(\"모분산의 95%% 신뢰구간:(%f,%f)\" %(lower,upper))"
   ]
  },
  {
   "cell_type": "markdown",
   "metadata": {},
   "source": [
    "### [실습] 6. 모비율 신뢰구간 추정"
   ]
  },
  {
   "cell_type": "code",
   "execution_count": 70,
   "metadata": {},
   "outputs": [
    {
     "name": "stdout",
     "output_type": "stream",
     "text": [
      "통화관리 성공율에 대한 95% 신뢰구간:(0.126765,0.233235)\n"
     ]
    }
   ],
   "source": [
    "#math 모듈\n",
    "import math\n",
    "#df를 직접 입력\n",
    "df=pd.DataFrame({'Sample':[12,9,10,5,16,13,5,9,8,13,\n",
    "                           16,12,12,4,14,9,11,14,9,\n",
    "                           17,5,8,9,6,11,19,6,6,8,9,\n",
    "                           13,10,8,13,19,8,12,14,16,\n",
    "                           16,11,17,5,9,12,17,11,8,5,8] })\n",
    "\n",
    "list_df=[12,9,10,5,16,13,5,9,8,13,\n",
    "         16,12,12,4,14,9,11,14,9,17,\n",
    "         5,8,9,6,11,19,6,6,8,9,13,\n",
    "         10,8,13,19,8,12,14,16,16,\n",
    "         11,17,5,9,12,17,11,8,5,8]\n",
    "\n",
    "count=0        \n",
    "\n",
    "for x in map(int,list_df):\n",
    "    x=int(x)\n",
    "    if x>15:\n",
    "        count+=1\n",
    "        \n",
    "n=50\n",
    "p=count/n\n",
    "\n",
    "#표준정규분포표를 참고\n",
    "lower=p-0.9798*math.sqrt(p*(1-p)/n) #0.9798 표준정규분포표를 참고하여 산출\n",
    "upper=p+0.9798*math.sqrt(p*(1-p)/n)\n",
    "print(\"통화관리 성공율에 대한 95%% 신뢰구간:(%f,%f)\" %(lower,upper)) "
   ]
  },
  {
   "cell_type": "markdown",
   "metadata": {},
   "source": [
    "### [실습] 7. 평균 검정(모집단 표준편차를 모르는 경우)"
   ]
  },
  {
   "cell_type": "code",
   "execution_count": 80,
   "metadata": {},
   "outputs": [
    {
     "name": "stdout",
     "output_type": "stream",
     "text": [
      "1-Sample t-test\n",
      "t통계량:[4.879]\n",
      "p-value:[0.001]\n"
     ]
    }
   ],
   "source": [
    "df=pd.DataFrame({'Sample':[85.0,79.0,79.1,79.9,81.6,78.6,85.4,83.4,78.1,79.2]})  #df를 직접 입력\n",
    "\n",
    "# 1-Sample t-test\n",
    "t_result=stats.ttest_1samp(df,76.7)\n",
    "\n",
    "#1-Sample t-test의 t값 p값 저장\n",
    "t,p=t_result.statistic.round(3),t_result.pvalue.round(3)\n",
    "\n",
    "#1-Sample t-test의 t값 p값 출력\n",
    "print(\"1-Sample t-test\")\n",
    "print(\"t통계량:{}\".format(t))\n",
    "print(\"p-value:{}\".format(p))"
   ]
  },
  {
   "cell_type": "markdown",
   "metadata": {},
   "source": [
    "### [실습] 8. 2 Sample t-test"
   ]
  },
  {
   "cell_type": "markdown",
   "metadata": {},
   "source": [
    "- 회사원들의 성적은 학원가기 전후에 차이가 있다."
   ]
  },
  {
   "cell_type": "code",
   "execution_count": 79,
   "metadata": {},
   "outputs": [
    {
     "name": "stdout",
     "output_type": "stream",
     "text": [
      "2-Sample t-test\n",
      "t:[1.7]\n",
      "p:[0.111]\n"
     ]
    }
   ],
   "source": [
    "df1=pd.DataFrame({'sample':[1.883,1.715,1.799,1.768,1.711,1.832,1.427,1.344]})\n",
    "df2=pd.DataFrame({'sample':[1.435,1.572,1.486,1.511,1.457,1.548,1.404,1.883]})\n",
    "\n",
    "t_result=stats.ttest_ind(df1,df2)\n",
    "\n",
    "t,p=t_result.statistic.round(3),t_result.pvalue.round(3)\n",
    "print(\"2-Sample t-test\")\n",
    "print(\"t:{}\".format(t))\n",
    "print(\"p:{}\".format(p))"
   ]
  },
  {
   "cell_type": "markdown",
   "metadata": {},
   "source": [
    "### [실습] Paired t-test"
   ]
  },
  {
   "cell_type": "markdown",
   "metadata": {},
   "source": [
    "- Paired t-test : 짝을 이루는 집단의 평균의 차이가 있는지 검정\n",
    "- 추론통계"
   ]
  },
  {
   "cell_type": "code",
   "execution_count": 75,
   "metadata": {},
   "outputs": [
    {
     "name": "stdout",
     "output_type": "stream",
     "text": [
      "t:[-2.27]\n",
      "p:[0.05]\n"
     ]
    }
   ],
   "source": [
    "df_before = pd.DataFrame({'before':[720, 589, 780, 648, 720, 589, 780, 648, 780, 648]})  #before 데이터 프레임 생성\n",
    "df_after = pd.DataFrame({'after':[710, 580, 787, 712, 750, 600, 782, 670, 790, 680]})    #before 데이터 프레임 생성\n",
    "\n",
    "tt_result = stats.ttest_rel(df_before, df_after)    \n",
    "tt, pp = t_result2.statistic.round(2), tt_result.pvalue.round(2)\n",
    "\n",
    "print(\"t:{}\".format(tt))\n",
    "print(\"p:{}\".format(pp))"
   ]
  },
  {
   "cell_type": "code",
   "execution_count": null,
   "metadata": {},
   "outputs": [],
   "source": []
  }
 ],
 "metadata": {
  "kernelspec": {
   "display_name": "Python 3",
   "language": "python",
   "name": "python3"
  },
  "language_info": {
   "codemirror_mode": {
    "name": "ipython",
    "version": 3
   },
   "file_extension": ".py",
   "mimetype": "text/x-python",
   "name": "python",
   "nbconvert_exporter": "python",
   "pygments_lexer": "ipython3",
   "version": "3.7.6"
  }
 },
 "nbformat": 4,
 "nbformat_minor": 4
}
