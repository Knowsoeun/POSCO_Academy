{
 "cells": [
  {
   "cell_type": "markdown",
   "metadata": {},
   "source": [
    "# Big Data 분석(II) 일일 과제물"
   ]
  },
  {
   "cell_type": "markdown",
   "metadata": {},
   "source": [
    "##### A2 노소은"
   ]
  },
  {
   "cell_type": "markdown",
   "metadata": {},
   "source": [
    "Q) 유방암 결과를 분류하는 신경망 모델을 만들고 predict method를 이용하여 목표변수 범주를 예측하라.   \n",
    "　그리고 모델의 정확도와 confusion matrix를 구하라.  "
   ]
  },
  {
   "cell_type": "markdown",
   "metadata": {},
   "source": [
    "- 데이터 : 유방암.CSV(변수: 31개, 자료 수: 320개)  \n",
    "- 목표변수(diagnosis : 양성(108개), 음성(benign, 212개"
   ]
  },
  {
   "cell_type": "code",
   "execution_count": 28,
   "metadata": {},
   "outputs": [],
   "source": [
    "#데이터 구성:Series, DataFrame\n",
    "import pandas as pd\n",
    "#데이터 시각화\n",
    "import matplotlib.pyplot as plt\n",
    "import matplotlib\n",
    "\n",
    "#데이터 scaling\n",
    "from sklearn.preprocessing import StandardScaler\n",
    "#데이터 분할:train, test\n",
    "from sklearn.model_selection import train_test_split\n",
    "#분류 SVM\n",
    "from sklearn.svm import SVC\n",
    "#최적 모델, 파라미터 탐새\n",
    "from sklearn.model_selection import GridSearchCV\n",
    "\n",
    "#분류모델 평가 함수\n",
    "from sklearn.metrics import accuracy_score, f1_score\n",
    "from sklearn.metrics import confusion_matrix, classification_report\n",
    "\n",
    "#한글 폰트 적용\n",
    "matplotlib.rc(\"font\", family = \"Noto Sans CJK JP\")"
   ]
  },
  {
   "cell_type": "markdown",
   "metadata": {},
   "source": [
    "#### 1. 데이터 구성하기"
   ]
  },
  {
   "cell_type": "markdown",
   "metadata": {},
   "source": [
    "파일 저장장소 입력"
   ]
  },
  {
   "cell_type": "code",
   "execution_count": 29,
   "metadata": {},
   "outputs": [
    {
     "data": {
      "text/html": [
       "<div>\n",
       "<style scoped>\n",
       "    .dataframe tbody tr th:only-of-type {\n",
       "        vertical-align: middle;\n",
       "    }\n",
       "\n",
       "    .dataframe tbody tr th {\n",
       "        vertical-align: top;\n",
       "    }\n",
       "\n",
       "    .dataframe thead th {\n",
       "        text-align: right;\n",
       "    }\n",
       "</style>\n",
       "<table border=\"1\" class=\"dataframe\">\n",
       "  <thead>\n",
       "    <tr style=\"text-align: right;\">\n",
       "      <th></th>\n",
       "      <th>diagnosis</th>\n",
       "      <th>mean_radius</th>\n",
       "      <th>mean_texture</th>\n",
       "      <th>mean_perimeter</th>\n",
       "      <th>mean_area</th>\n",
       "      <th>mean_smoothness</th>\n",
       "      <th>mean_compactness</th>\n",
       "      <th>mean_concavity</th>\n",
       "      <th>mean_concave_points</th>\n",
       "      <th>mean_symmetry</th>\n",
       "      <th>...</th>\n",
       "      <th>worst_radius</th>\n",
       "      <th>worst_texture</th>\n",
       "      <th>worst_perimeter</th>\n",
       "      <th>worst_area</th>\n",
       "      <th>worst_smoothness</th>\n",
       "      <th>worst_compactness</th>\n",
       "      <th>worst_concavity</th>\n",
       "      <th>worst_concave_points</th>\n",
       "      <th>worst_symmetry</th>\n",
       "      <th>worst_fractal_dimension</th>\n",
       "    </tr>\n",
       "  </thead>\n",
       "  <tbody>\n",
       "    <tr>\n",
       "      <th>0</th>\n",
       "      <td>음성</td>\n",
       "      <td>15.12</td>\n",
       "      <td>16.68</td>\n",
       "      <td>98.78</td>\n",
       "      <td>716.6</td>\n",
       "      <td>0.08876</td>\n",
       "      <td>0.09588</td>\n",
       "      <td>0.07550</td>\n",
       "      <td>0.04079</td>\n",
       "      <td>0.1594</td>\n",
       "      <td>...</td>\n",
       "      <td>17.77</td>\n",
       "      <td>20.24</td>\n",
       "      <td>117.70</td>\n",
       "      <td>989.5</td>\n",
       "      <td>0.14910</td>\n",
       "      <td>0.3331</td>\n",
       "      <td>0.3327</td>\n",
       "      <td>0.12520</td>\n",
       "      <td>0.3415</td>\n",
       "      <td>0.09740</td>\n",
       "    </tr>\n",
       "    <tr>\n",
       "      <th>1</th>\n",
       "      <td>양성</td>\n",
       "      <td>10.80</td>\n",
       "      <td>9.71</td>\n",
       "      <td>68.77</td>\n",
       "      <td>357.6</td>\n",
       "      <td>0.09594</td>\n",
       "      <td>0.05736</td>\n",
       "      <td>0.02531</td>\n",
       "      <td>0.01698</td>\n",
       "      <td>0.1381</td>\n",
       "      <td>...</td>\n",
       "      <td>11.60</td>\n",
       "      <td>12.02</td>\n",
       "      <td>73.66</td>\n",
       "      <td>414.0</td>\n",
       "      <td>0.14360</td>\n",
       "      <td>0.1257</td>\n",
       "      <td>0.1047</td>\n",
       "      <td>0.04603</td>\n",
       "      <td>0.2090</td>\n",
       "      <td>0.07699</td>\n",
       "    </tr>\n",
       "    <tr>\n",
       "      <th>2</th>\n",
       "      <td>음성</td>\n",
       "      <td>18.31</td>\n",
       "      <td>18.58</td>\n",
       "      <td>118.60</td>\n",
       "      <td>1041.0</td>\n",
       "      <td>0.08588</td>\n",
       "      <td>0.08468</td>\n",
       "      <td>0.08169</td>\n",
       "      <td>0.05814</td>\n",
       "      <td>0.1621</td>\n",
       "      <td>...</td>\n",
       "      <td>21.31</td>\n",
       "      <td>26.36</td>\n",
       "      <td>139.20</td>\n",
       "      <td>1410.0</td>\n",
       "      <td>0.12340</td>\n",
       "      <td>0.2445</td>\n",
       "      <td>0.3538</td>\n",
       "      <td>0.15710</td>\n",
       "      <td>0.3206</td>\n",
       "      <td>0.06938</td>\n",
       "    </tr>\n",
       "    <tr>\n",
       "      <th>3</th>\n",
       "      <td>양성</td>\n",
       "      <td>14.92</td>\n",
       "      <td>14.93</td>\n",
       "      <td>96.45</td>\n",
       "      <td>686.9</td>\n",
       "      <td>0.08098</td>\n",
       "      <td>0.08549</td>\n",
       "      <td>0.05539</td>\n",
       "      <td>0.03221</td>\n",
       "      <td>0.1687</td>\n",
       "      <td>...</td>\n",
       "      <td>17.18</td>\n",
       "      <td>18.22</td>\n",
       "      <td>112.00</td>\n",
       "      <td>906.6</td>\n",
       "      <td>0.10650</td>\n",
       "      <td>0.2791</td>\n",
       "      <td>0.3151</td>\n",
       "      <td>0.11470</td>\n",
       "      <td>0.2688</td>\n",
       "      <td>0.08273</td>\n",
       "    </tr>\n",
       "    <tr>\n",
       "      <th>4</th>\n",
       "      <td>양성</td>\n",
       "      <td>12.89</td>\n",
       "      <td>13.12</td>\n",
       "      <td>81.89</td>\n",
       "      <td>515.9</td>\n",
       "      <td>0.06955</td>\n",
       "      <td>0.03729</td>\n",
       "      <td>0.02260</td>\n",
       "      <td>0.01171</td>\n",
       "      <td>0.1337</td>\n",
       "      <td>...</td>\n",
       "      <td>13.62</td>\n",
       "      <td>15.54</td>\n",
       "      <td>87.40</td>\n",
       "      <td>577.0</td>\n",
       "      <td>0.09616</td>\n",
       "      <td>0.1147</td>\n",
       "      <td>0.1186</td>\n",
       "      <td>0.05366</td>\n",
       "      <td>0.2309</td>\n",
       "      <td>0.06915</td>\n",
       "    </tr>\n",
       "  </tbody>\n",
       "</table>\n",
       "<p>5 rows × 31 columns</p>\n",
       "</div>"
      ],
      "text/plain": [
       "  diagnosis  mean_radius  mean_texture  mean_perimeter  mean_area  \\\n",
       "0        음성        15.12         16.68           98.78      716.6   \n",
       "1        양성        10.80          9.71           68.77      357.6   \n",
       "2        음성        18.31         18.58          118.60     1041.0   \n",
       "3        양성        14.92         14.93           96.45      686.9   \n",
       "4        양성        12.89         13.12           81.89      515.9   \n",
       "\n",
       "   mean_smoothness  mean_compactness  mean_concavity  mean_concave_points  \\\n",
       "0          0.08876           0.09588         0.07550              0.04079   \n",
       "1          0.09594           0.05736         0.02531              0.01698   \n",
       "2          0.08588           0.08468         0.08169              0.05814   \n",
       "3          0.08098           0.08549         0.05539              0.03221   \n",
       "4          0.06955           0.03729         0.02260              0.01171   \n",
       "\n",
       "   mean_symmetry  ...  worst_radius  worst_texture  worst_perimeter  \\\n",
       "0         0.1594  ...         17.77          20.24           117.70   \n",
       "1         0.1381  ...         11.60          12.02            73.66   \n",
       "2         0.1621  ...         21.31          26.36           139.20   \n",
       "3         0.1687  ...         17.18          18.22           112.00   \n",
       "4         0.1337  ...         13.62          15.54            87.40   \n",
       "\n",
       "   worst_area  worst_smoothness  worst_compactness  worst_concavity  \\\n",
       "0       989.5           0.14910             0.3331           0.3327   \n",
       "1       414.0           0.14360             0.1257           0.1047   \n",
       "2      1410.0           0.12340             0.2445           0.3538   \n",
       "3       906.6           0.10650             0.2791           0.3151   \n",
       "4       577.0           0.09616             0.1147           0.1186   \n",
       "\n",
       "   worst_concave_points  worst_symmetry  worst_fractal_dimension  \n",
       "0               0.12520          0.3415                  0.09740  \n",
       "1               0.04603          0.2090                  0.07699  \n",
       "2               0.15710          0.3206                  0.06938  \n",
       "3               0.11470          0.2688                  0.08273  \n",
       "4               0.05366          0.2309                  0.06915  \n",
       "\n",
       "[5 rows x 31 columns]"
      ]
     },
     "execution_count": 29,
     "metadata": {},
     "output_type": "execute_result"
    }
   ],
   "source": [
    "df = pd.read_csv(\"C:/Users/소은/Desktop/Academy/빅데이터/Big Data 분석/유방암.csv\", engine = \"python\", encoding = \"cp949\")\n",
    "df.head()"
   ]
  },
  {
   "cell_type": "markdown",
   "metadata": {},
   "source": [
    "#### 1.데이터 구성하기-결측치 처리"
   ]
  },
  {
   "cell_type": "code",
   "execution_count": 30,
   "metadata": {
    "scrolled": true
   },
   "outputs": [
    {
     "data": {
      "text/plain": [
       "diagnosis                  0\n",
       "mean_radius                0\n",
       "mean_texture               0\n",
       "mean_perimeter             0\n",
       "mean_area                  0\n",
       "mean_smoothness            0\n",
       "mean_compactness           0\n",
       "mean_concavity             0\n",
       "mean_concave_points        0\n",
       "mean_symmetry              0\n",
       "mean_fractal_dimension     0\n",
       "radius_error               0\n",
       "texture_error              0\n",
       "perimeter_error            0\n",
       "area_error                 0\n",
       "smoothness_error           0\n",
       "compactness_error          0\n",
       "concavity_error            0\n",
       "concave_points_error       0\n",
       "symmetry_error             0\n",
       "fractal_dimension_error    0\n",
       "worst_radius               0\n",
       "worst_texture              0\n",
       "worst_perimeter            0\n",
       "worst_area                 0\n",
       "worst_smoothness           0\n",
       "worst_compactness          0\n",
       "worst_concavity            0\n",
       "worst_concave_points       0\n",
       "worst_symmetry             0\n",
       "worst_fractal_dimension    0\n",
       "dtype: int64"
      ]
     },
     "execution_count": 30,
     "metadata": {},
     "output_type": "execute_result"
    }
   ],
   "source": [
    "df.isnull().sum()"
   ]
  },
  {
   "cell_type": "markdown",
   "metadata": {},
   "source": [
    "- 결측치 없음을 확인함"
   ]
  },
  {
   "cell_type": "code",
   "execution_count": 31,
   "metadata": {},
   "outputs": [],
   "source": [
    "df_y=df[\"diagnosis\"]                                # 목표번수 : diagnosis\n",
    "df_x=df.drop(\"diagnosis\", axis=1, inplace=False) "
   ]
  },
  {
   "cell_type": "markdown",
   "metadata": {},
   "source": [
    "#### 1.데이터 구성하기-더미변수 생성"
   ]
  },
  {
   "cell_type": "code",
   "execution_count": 32,
   "metadata": {},
   "outputs": [
    {
     "data": {
      "text/html": [
       "<div>\n",
       "<style scoped>\n",
       "    .dataframe tbody tr th:only-of-type {\n",
       "        vertical-align: middle;\n",
       "    }\n",
       "\n",
       "    .dataframe tbody tr th {\n",
       "        vertical-align: top;\n",
       "    }\n",
       "\n",
       "    .dataframe thead th {\n",
       "        text-align: right;\n",
       "    }\n",
       "</style>\n",
       "<table border=\"1\" class=\"dataframe\">\n",
       "  <thead>\n",
       "    <tr style=\"text-align: right;\">\n",
       "      <th></th>\n",
       "      <th>mean_radius</th>\n",
       "      <th>mean_texture</th>\n",
       "      <th>mean_perimeter</th>\n",
       "      <th>mean_area</th>\n",
       "      <th>mean_smoothness</th>\n",
       "      <th>mean_compactness</th>\n",
       "      <th>mean_concavity</th>\n",
       "      <th>mean_concave_points</th>\n",
       "      <th>mean_symmetry</th>\n",
       "      <th>mean_fractal_dimension</th>\n",
       "      <th>...</th>\n",
       "      <th>worst_perimeter</th>\n",
       "      <th>worst_area</th>\n",
       "      <th>worst_smoothness</th>\n",
       "      <th>worst_compactness</th>\n",
       "      <th>worst_concavity</th>\n",
       "      <th>worst_concave_points</th>\n",
       "      <th>worst_symmetry</th>\n",
       "      <th>worst_fractal_dimension</th>\n",
       "      <th>diagnosis_양성</th>\n",
       "      <th>diagnosis_음성</th>\n",
       "    </tr>\n",
       "  </thead>\n",
       "  <tbody>\n",
       "    <tr>\n",
       "      <th>0</th>\n",
       "      <td>15.12</td>\n",
       "      <td>16.68</td>\n",
       "      <td>98.78</td>\n",
       "      <td>716.6</td>\n",
       "      <td>0.08876</td>\n",
       "      <td>0.09588</td>\n",
       "      <td>0.07550</td>\n",
       "      <td>0.04079</td>\n",
       "      <td>0.1594</td>\n",
       "      <td>0.05986</td>\n",
       "      <td>...</td>\n",
       "      <td>117.70</td>\n",
       "      <td>989.5</td>\n",
       "      <td>0.14910</td>\n",
       "      <td>0.3331</td>\n",
       "      <td>0.3327</td>\n",
       "      <td>0.12520</td>\n",
       "      <td>0.3415</td>\n",
       "      <td>0.09740</td>\n",
       "      <td>0</td>\n",
       "      <td>1</td>\n",
       "    </tr>\n",
       "    <tr>\n",
       "      <th>1</th>\n",
       "      <td>10.80</td>\n",
       "      <td>9.71</td>\n",
       "      <td>68.77</td>\n",
       "      <td>357.6</td>\n",
       "      <td>0.09594</td>\n",
       "      <td>0.05736</td>\n",
       "      <td>0.02531</td>\n",
       "      <td>0.01698</td>\n",
       "      <td>0.1381</td>\n",
       "      <td>0.06400</td>\n",
       "      <td>...</td>\n",
       "      <td>73.66</td>\n",
       "      <td>414.0</td>\n",
       "      <td>0.14360</td>\n",
       "      <td>0.1257</td>\n",
       "      <td>0.1047</td>\n",
       "      <td>0.04603</td>\n",
       "      <td>0.2090</td>\n",
       "      <td>0.07699</td>\n",
       "      <td>1</td>\n",
       "      <td>0</td>\n",
       "    </tr>\n",
       "    <tr>\n",
       "      <th>2</th>\n",
       "      <td>18.31</td>\n",
       "      <td>18.58</td>\n",
       "      <td>118.60</td>\n",
       "      <td>1041.0</td>\n",
       "      <td>0.08588</td>\n",
       "      <td>0.08468</td>\n",
       "      <td>0.08169</td>\n",
       "      <td>0.05814</td>\n",
       "      <td>0.1621</td>\n",
       "      <td>0.05425</td>\n",
       "      <td>...</td>\n",
       "      <td>139.20</td>\n",
       "      <td>1410.0</td>\n",
       "      <td>0.12340</td>\n",
       "      <td>0.2445</td>\n",
       "      <td>0.3538</td>\n",
       "      <td>0.15710</td>\n",
       "      <td>0.3206</td>\n",
       "      <td>0.06938</td>\n",
       "      <td>0</td>\n",
       "      <td>1</td>\n",
       "    </tr>\n",
       "    <tr>\n",
       "      <th>3</th>\n",
       "      <td>14.92</td>\n",
       "      <td>14.93</td>\n",
       "      <td>96.45</td>\n",
       "      <td>686.9</td>\n",
       "      <td>0.08098</td>\n",
       "      <td>0.08549</td>\n",
       "      <td>0.05539</td>\n",
       "      <td>0.03221</td>\n",
       "      <td>0.1687</td>\n",
       "      <td>0.05669</td>\n",
       "      <td>...</td>\n",
       "      <td>112.00</td>\n",
       "      <td>906.6</td>\n",
       "      <td>0.10650</td>\n",
       "      <td>0.2791</td>\n",
       "      <td>0.3151</td>\n",
       "      <td>0.11470</td>\n",
       "      <td>0.2688</td>\n",
       "      <td>0.08273</td>\n",
       "      <td>1</td>\n",
       "      <td>0</td>\n",
       "    </tr>\n",
       "    <tr>\n",
       "      <th>4</th>\n",
       "      <td>12.89</td>\n",
       "      <td>13.12</td>\n",
       "      <td>81.89</td>\n",
       "      <td>515.9</td>\n",
       "      <td>0.06955</td>\n",
       "      <td>0.03729</td>\n",
       "      <td>0.02260</td>\n",
       "      <td>0.01171</td>\n",
       "      <td>0.1337</td>\n",
       "      <td>0.05581</td>\n",
       "      <td>...</td>\n",
       "      <td>87.40</td>\n",
       "      <td>577.0</td>\n",
       "      <td>0.09616</td>\n",
       "      <td>0.1147</td>\n",
       "      <td>0.1186</td>\n",
       "      <td>0.05366</td>\n",
       "      <td>0.2309</td>\n",
       "      <td>0.06915</td>\n",
       "      <td>1</td>\n",
       "      <td>0</td>\n",
       "    </tr>\n",
       "  </tbody>\n",
       "</table>\n",
       "<p>5 rows × 32 columns</p>\n",
       "</div>"
      ],
      "text/plain": [
       "   mean_radius  mean_texture  mean_perimeter  mean_area  mean_smoothness  \\\n",
       "0        15.12         16.68           98.78      716.6          0.08876   \n",
       "1        10.80          9.71           68.77      357.6          0.09594   \n",
       "2        18.31         18.58          118.60     1041.0          0.08588   \n",
       "3        14.92         14.93           96.45      686.9          0.08098   \n",
       "4        12.89         13.12           81.89      515.9          0.06955   \n",
       "\n",
       "   mean_compactness  mean_concavity  mean_concave_points  mean_symmetry  \\\n",
       "0           0.09588         0.07550              0.04079         0.1594   \n",
       "1           0.05736         0.02531              0.01698         0.1381   \n",
       "2           0.08468         0.08169              0.05814         0.1621   \n",
       "3           0.08549         0.05539              0.03221         0.1687   \n",
       "4           0.03729         0.02260              0.01171         0.1337   \n",
       "\n",
       "   mean_fractal_dimension  ...  worst_perimeter  worst_area  worst_smoothness  \\\n",
       "0                 0.05986  ...           117.70       989.5           0.14910   \n",
       "1                 0.06400  ...            73.66       414.0           0.14360   \n",
       "2                 0.05425  ...           139.20      1410.0           0.12340   \n",
       "3                 0.05669  ...           112.00       906.6           0.10650   \n",
       "4                 0.05581  ...            87.40       577.0           0.09616   \n",
       "\n",
       "   worst_compactness  worst_concavity  worst_concave_points  worst_symmetry  \\\n",
       "0             0.3331           0.3327               0.12520          0.3415   \n",
       "1             0.1257           0.1047               0.04603          0.2090   \n",
       "2             0.2445           0.3538               0.15710          0.3206   \n",
       "3             0.2791           0.3151               0.11470          0.2688   \n",
       "4             0.1147           0.1186               0.05366          0.2309   \n",
       "\n",
       "   worst_fractal_dimension  diagnosis_양성  diagnosis_음성  \n",
       "0                  0.09740             0             1  \n",
       "1                  0.07699             1             0  \n",
       "2                  0.06938             0             1  \n",
       "3                  0.08273             1             0  \n",
       "4                  0.06915             1             0  \n",
       "\n",
       "[5 rows x 32 columns]"
      ]
     },
     "execution_count": 32,
     "metadata": {},
     "output_type": "execute_result"
    }
   ],
   "source": [
    "df_dummy = pd.get_dummies(df)\n",
    "df_dummy.head()"
   ]
  },
  {
   "cell_type": "markdown",
   "metadata": {},
   "source": [
    "#### 1.데이터 구성하기-데이터 분할"
   ]
  },
  {
   "cell_type": "code",
   "execution_count": 36,
   "metadata": {},
   "outputs": [
    {
     "name": "stdout",
     "output_type": "stream",
     "text": [
      "train data x size : (192, 30)\n",
      "train data y size : (192,)\n",
      "test data x size : (128, 30)\n",
      "test data y size : (128,)\n"
     ]
    }
   ],
   "source": [
    "df_train_x, df_test_x, df_train_y, df_test_y = train_test_split(df_x, df_y, \n",
    "                                                                test_size=0.4, random_state=1234)\n",
    "print(\"train data x size : {}\".format(df_train_x.shape))\n",
    "print(\"train data y size : {}\".format(df_train_y.shape))\n",
    "print(\"test data x size : {}\".format(df_test_x.shape))\n",
    "print(\"test data y size : {}\".format(df_test_y.shape))"
   ]
  },
  {
   "cell_type": "markdown",
   "metadata": {},
   "source": [
    "- 문제에서 주어진대로 test 사이즈를 0.4로 설정함"
   ]
  },
  {
   "cell_type": "code",
   "execution_count": 37,
   "metadata": {},
   "outputs": [
    {
     "name": "stdout",
     "output_type": "stream",
     "text": [
      "Accuracy on training set: 0.885\n",
      "Accuracy on test set: 0.891\n"
     ]
    }
   ],
   "source": [
    "svm_uncustomized = SVC(random_state=1234)\n",
    "svm_uncustomized.fit(df_train_x, df_train_y)\n",
    "#train 데이터 셋 정확도\n",
    "print(\"Accuracy on training set: {:.3f}\".format(svm_uncustomized.score(df_train_x, df_train_y)))\n",
    "#test 데이터 셋 정확도\n",
    "print(\"Accuracy on test set: {:.3f}\".format(svm_uncustomized.score(df_test_x, df_test_y)))"
   ]
  },
  {
   "cell_type": "markdown",
   "metadata": {},
   "source": [
    "- 모델 정확도는 train  88.5%, test 89.1%로 test set이 더 정확함"
   ]
  },
  {
   "cell_type": "code",
   "execution_count": 35,
   "metadata": {},
   "outputs": [],
   "source": [
    "#train 및 test 정확도 결과 저장용\n",
    "train_accuracy = []; test_accuracy = []\n",
    "#c: 규제(0.01, 0.1, 1, 10)\n",
    "para_c = [10**c for c in range(-2, 2)]\n",
    "#para_c = [0.1*c for c in range(1, 10)] # C 변화 구간 변경\n",
    "\n",
    "for v_C in para_c:\n",
    "    svm = SVC(C = v_C, random_state = 1234)\n",
    "    svm.fit(df_train_x, df_train_y)\n",
    "    train_accuracy.append(svm.score(df_train_x, df_train_y))\n",
    "    test_accuracy.append(svm.score(df_test_x, df_test_y))\n",
    "\n",
    "#데이터 테이블로 저장\n",
    "df_accuracy_c = pd.DataFrame()\n",
    "df_accuracy_c[\"C\"] = para_c\n",
    "df_accuracy_c[\"TrainAccuracy\"] = train_accuracy\n",
    "df_accuracy_c[\"TestAccuracy\"] = test_accuracy"
   ]
  },
  {
   "cell_type": "code",
   "execution_count": 9,
   "metadata": {},
   "outputs": [
    {
     "data": {
      "text/html": [
       "<div>\n",
       "<style scoped>\n",
       "    .dataframe tbody tr th:only-of-type {\n",
       "        vertical-align: middle;\n",
       "    }\n",
       "\n",
       "    .dataframe tbody tr th {\n",
       "        vertical-align: top;\n",
       "    }\n",
       "\n",
       "    .dataframe thead th {\n",
       "        text-align: right;\n",
       "    }\n",
       "</style>\n",
       "<table border=\"1\" class=\"dataframe\">\n",
       "  <thead>\n",
       "    <tr style=\"text-align: right;\">\n",
       "      <th></th>\n",
       "      <th>C</th>\n",
       "      <th>TrainAccuracy</th>\n",
       "      <th>TestAccuracy</th>\n",
       "    </tr>\n",
       "  </thead>\n",
       "  <tbody>\n",
       "    <tr>\n",
       "      <th>0</th>\n",
       "      <td>0.01</td>\n",
       "      <td>0.599</td>\n",
       "      <td>0.758</td>\n",
       "    </tr>\n",
       "    <tr>\n",
       "      <th>1</th>\n",
       "      <td>0.10</td>\n",
       "      <td>0.854</td>\n",
       "      <td>0.859</td>\n",
       "    </tr>\n",
       "    <tr>\n",
       "      <th>2</th>\n",
       "      <td>1.00</td>\n",
       "      <td>0.885</td>\n",
       "      <td>0.891</td>\n",
       "    </tr>\n",
       "    <tr>\n",
       "      <th>3</th>\n",
       "      <td>10.00</td>\n",
       "      <td>0.906</td>\n",
       "      <td>0.922</td>\n",
       "    </tr>\n",
       "  </tbody>\n",
       "</table>\n",
       "</div>"
      ],
      "text/plain": [
       "       C  TrainAccuracy  TestAccuracy\n",
       "0   0.01          0.599         0.758\n",
       "1   0.10          0.854         0.859\n",
       "2   1.00          0.885         0.891\n",
       "3  10.00          0.906         0.922"
      ]
     },
     "execution_count": 9,
     "metadata": {},
     "output_type": "execute_result"
    }
   ],
   "source": [
    "#C별 정확도 테이블\n",
    "df_accuracy_c.round(3)"
   ]
  },
  {
   "cell_type": "code",
   "execution_count": 10,
   "metadata": {},
   "outputs": [
    {
     "data": {
      "text/plain": [
       "<matplotlib.legend.Legend at 0x1b27adc3a08>"
      ]
     },
     "execution_count": 10,
     "metadata": {},
     "output_type": "execute_result"
    },
    {
     "name": "stderr",
     "output_type": "stream",
     "text": [
      "findfont: Font family ['Noto Sans CJK JP'] not found. Falling back to DejaVu Sans.\n"
     ]
    },
    {
     "data": {
      "image/png": "[encoded data removed]",
      "text/plain": [
       "<Figure size 432x288 with 1 Axes>"
      ]
     },
     "metadata": {
      "needs_background": "light"
     },
     "output_type": "display_data"
    }
   ],
   "source": [
    "#모델 정확도 그래프 확인\n",
    "plt.plot(para_c, train_accuracy, linestyle=\"-\", label=\"Train Accuracy\")\n",
    "plt.plot(para_c, test_accuracy, linestyle=\"--\", label=\"Test Accuracy\")\n",
    "plt.ylabel(\"accuracy\");plt.xlabel(\"C\")\n",
    "plt.legend()"
   ]
  },
  {
   "cell_type": "code",
   "execution_count": 11,
   "metadata": {},
   "outputs": [],
   "source": [
    "#Cost 지정\n",
    "C = 0.1"
   ]
  },
  {
   "cell_type": "code",
   "execution_count": 12,
   "metadata": {},
   "outputs": [],
   "source": [
    "#train 및 test 정확도 결과 저장용\n",
    "train_accuracy = []; test_accuracy = []\n",
    "#gamma: 규제(0.01, 0.1, 1, 10)\n",
    "para_gamma = [10**gamma for gamma in range(-2, 2)]\n",
    "\n",
    "for v_gamma in para_gamma:\n",
    "    svm = SVC(gamma = v_gamma, C = 0.1, random_state = 1234)\n",
    "    svm.fit(df_train_x, df_train_y)\n",
    "    train_accuracy.append(svm.score(df_train_x, df_train_y))\n",
    "    test_accuracy.append(svm.score(df_test_x, df_test_y))\n",
    "\n",
    "#데이터 테이블로 저장\n",
    "df_accuracy_gamma = pd.DataFrame()\n",
    "df_accuracy_gamma[\"gamma\"] = para_gamma\n",
    "df_accuracy_gamma[\"TrainAccuracy\"] = train_accuracy\n",
    "df_accuracy_gamma[\"TestAccuracy\"] = test_accuracy"
   ]
  },
  {
   "cell_type": "code",
   "execution_count": 13,
   "metadata": {},
   "outputs": [
    {
     "data": {
      "text/html": [
       "<div>\n",
       "<style scoped>\n",
       "    .dataframe tbody tr th:only-of-type {\n",
       "        vertical-align: middle;\n",
       "    }\n",
       "\n",
       "    .dataframe tbody tr th {\n",
       "        vertical-align: top;\n",
       "    }\n",
       "\n",
       "    .dataframe thead th {\n",
       "        text-align: right;\n",
       "    }\n",
       "</style>\n",
       "<table border=\"1\" class=\"dataframe\">\n",
       "  <thead>\n",
       "    <tr style=\"text-align: right;\">\n",
       "      <th></th>\n",
       "      <th>gamma</th>\n",
       "      <th>TrainAccuracy</th>\n",
       "      <th>TestAccuracy</th>\n",
       "    </tr>\n",
       "  </thead>\n",
       "  <tbody>\n",
       "    <tr>\n",
       "      <th>0</th>\n",
       "      <td>0.01</td>\n",
       "      <td>0.599</td>\n",
       "      <td>0.7578</td>\n",
       "    </tr>\n",
       "    <tr>\n",
       "      <th>1</th>\n",
       "      <td>0.10</td>\n",
       "      <td>0.599</td>\n",
       "      <td>0.7578</td>\n",
       "    </tr>\n",
       "    <tr>\n",
       "      <th>2</th>\n",
       "      <td>1.00</td>\n",
       "      <td>0.599</td>\n",
       "      <td>0.7578</td>\n",
       "    </tr>\n",
       "    <tr>\n",
       "      <th>3</th>\n",
       "      <td>10.00</td>\n",
       "      <td>0.599</td>\n",
       "      <td>0.7578</td>\n",
       "    </tr>\n",
       "  </tbody>\n",
       "</table>\n",
       "</div>"
      ],
      "text/plain": [
       "   gamma  TrainAccuracy  TestAccuracy\n",
       "0   0.01          0.599        0.7578\n",
       "1   0.10          0.599        0.7578\n",
       "2   1.00          0.599        0.7578\n",
       "3  10.00          0.599        0.7578"
      ]
     },
     "execution_count": 13,
     "metadata": {},
     "output_type": "execute_result"
    }
   ],
   "source": [
    "#gamma별 정확도 테이블\n",
    "df_accuracy_gamma.round(4)"
   ]
  },
  {
   "cell_type": "code",
   "execution_count": 14,
   "metadata": {},
   "outputs": [
    {
     "data": {
      "text/plain": [
       "<matplotlib.legend.Legend at 0x1b27ccd2c48>"
      ]
     },
     "execution_count": 14,
     "metadata": {},
     "output_type": "execute_result"
    },
    {
     "data": {
      "image/png": "[encoded data removed]",
      "text/plain": [
       "<Figure size 432x288 with 1 Axes>"
      ]
     },
     "metadata": {
      "needs_background": "light"
     },
     "output_type": "display_data"
    }
   ],
   "source": [
    "#모델 정확도 그래프 확인\n",
    "plt.plot(para_gamma, train_accuracy, linestyle=\"-\", label=\"Train Accuracy\")\n",
    "plt.plot(para_gamma, test_accuracy, linestyle=\"--\", label=\"Test Accuracy\")\n",
    "plt.ylabel(\"accuracy\");plt.xlabel(\"gamma\")\n",
    "plt.legend()"
   ]
  },
  {
   "cell_type": "code",
   "execution_count": 15,
   "metadata": {},
   "outputs": [
    {
     "data": {
      "text/html": [
       "<div>\n",
       "<style scoped>\n",
       "    .dataframe tbody tr th:only-of-type {\n",
       "        vertical-align: middle;\n",
       "    }\n",
       "\n",
       "    .dataframe tbody tr th {\n",
       "        vertical-align: top;\n",
       "    }\n",
       "\n",
       "    .dataframe thead th {\n",
       "        text-align: right;\n",
       "    }\n",
       "</style>\n",
       "<table border=\"1\" class=\"dataframe\">\n",
       "  <thead>\n",
       "    <tr style=\"text-align: right;\">\n",
       "      <th></th>\n",
       "      <th>mean_radius</th>\n",
       "      <th>mean_texture</th>\n",
       "      <th>mean_perimeter</th>\n",
       "      <th>mean_area</th>\n",
       "      <th>mean_smoothness</th>\n",
       "      <th>mean_compactness</th>\n",
       "      <th>mean_concavity</th>\n",
       "      <th>mean_concave_points</th>\n",
       "      <th>mean_symmetry</th>\n",
       "      <th>mean_fractal_dimension</th>\n",
       "      <th>...</th>\n",
       "      <th>worst_radius</th>\n",
       "      <th>worst_texture</th>\n",
       "      <th>worst_perimeter</th>\n",
       "      <th>worst_area</th>\n",
       "      <th>worst_smoothness</th>\n",
       "      <th>worst_compactness</th>\n",
       "      <th>worst_concavity</th>\n",
       "      <th>worst_concave_points</th>\n",
       "      <th>worst_symmetry</th>\n",
       "      <th>worst_fractal_dimension</th>\n",
       "    </tr>\n",
       "  </thead>\n",
       "  <tbody>\n",
       "    <tr>\n",
       "      <th>0</th>\n",
       "      <td>-0.157678</td>\n",
       "      <td>-0.879112</td>\n",
       "      <td>-0.165550</td>\n",
       "      <td>-0.232872</td>\n",
       "      <td>-0.744948</td>\n",
       "      <td>-0.479220</td>\n",
       "      <td>-0.550769</td>\n",
       "      <td>-0.628488</td>\n",
       "      <td>-0.997431</td>\n",
       "      <td>-0.392627</td>\n",
       "      <td>...</td>\n",
       "      <td>-0.149283</td>\n",
       "      <td>-1.156442</td>\n",
       "      <td>-0.153789</td>\n",
       "      <td>-0.224951</td>\n",
       "      <td>0.490637</td>\n",
       "      <td>0.139396</td>\n",
       "      <td>-0.094470</td>\n",
       "      <td>-0.301949</td>\n",
       "      <td>0.525611</td>\n",
       "      <td>0.511081</td>\n",
       "    </tr>\n",
       "    <tr>\n",
       "      <th>1</th>\n",
       "      <td>-1.312779</td>\n",
       "      <td>-2.560965</td>\n",
       "      <td>-1.328928</td>\n",
       "      <td>-1.150194</td>\n",
       "      <td>-0.240274</td>\n",
       "      <td>-1.153621</td>\n",
       "      <td>-1.143404</td>\n",
       "      <td>-1.199934</td>\n",
       "      <td>-1.773612</td>\n",
       "      <td>0.184077</td>\n",
       "      <td>...</td>\n",
       "      <td>-1.341759</td>\n",
       "      <td>-2.517236</td>\n",
       "      <td>-1.380396</td>\n",
       "      <td>-1.124201</td>\n",
       "      <td>0.254373</td>\n",
       "      <td>-1.046076</td>\n",
       "      <td>-1.159323</td>\n",
       "      <td>-1.480312</td>\n",
       "      <td>-1.387506</td>\n",
       "      <td>-0.507149</td>\n",
       "    </tr>\n",
       "    <tr>\n",
       "      <th>2</th>\n",
       "      <td>0.695279</td>\n",
       "      <td>-0.420644</td>\n",
       "      <td>0.602798</td>\n",
       "      <td>0.596040</td>\n",
       "      <td>-0.947380</td>\n",
       "      <td>-0.675307</td>\n",
       "      <td>-0.477679</td>\n",
       "      <td>-0.212084</td>\n",
       "      <td>-0.899042</td>\n",
       "      <td>-1.174101</td>\n",
       "      <td>...</td>\n",
       "      <td>0.534893</td>\n",
       "      <td>-0.143296</td>\n",
       "      <td>0.445031</td>\n",
       "      <td>0.432104</td>\n",
       "      <td>-0.613360</td>\n",
       "      <td>-0.367031</td>\n",
       "      <td>0.004076</td>\n",
       "      <td>0.172850</td>\n",
       "      <td>0.223844</td>\n",
       "      <td>-0.886803</td>\n",
       "    </tr>\n",
       "    <tr>\n",
       "      <th>3</th>\n",
       "      <td>-0.211154</td>\n",
       "      <td>-1.301385</td>\n",
       "      <td>-0.255876</td>\n",
       "      <td>-0.308762</td>\n",
       "      <td>-1.291796</td>\n",
       "      <td>-0.661126</td>\n",
       "      <td>-0.788224</td>\n",
       "      <td>-0.834410</td>\n",
       "      <td>-0.658535</td>\n",
       "      <td>-0.834209</td>\n",
       "      <td>...</td>\n",
       "      <td>-0.263312</td>\n",
       "      <td>-1.490846</td>\n",
       "      <td>-0.312546</td>\n",
       "      <td>-0.354487</td>\n",
       "      <td>-1.339335</td>\n",
       "      <td>-0.169261</td>\n",
       "      <td>-0.176669</td>\n",
       "      <td>-0.458230</td>\n",
       "      <td>-0.524077</td>\n",
       "      <td>-0.220788</td>\n",
       "    </tr>\n",
       "    <tr>\n",
       "      <th>4</th>\n",
       "      <td>-0.753945</td>\n",
       "      <td>-1.738136</td>\n",
       "      <td>-0.820314</td>\n",
       "      <td>-0.745704</td>\n",
       "      <td>-2.095198</td>\n",
       "      <td>-1.505004</td>\n",
       "      <td>-1.175403</td>\n",
       "      <td>-1.326415</td>\n",
       "      <td>-1.933950</td>\n",
       "      <td>-0.956793</td>\n",
       "      <td>...</td>\n",
       "      <td>-0.951354</td>\n",
       "      <td>-1.934512</td>\n",
       "      <td>-0.997708</td>\n",
       "      <td>-0.869505</td>\n",
       "      <td>-1.783511</td>\n",
       "      <td>-1.108951</td>\n",
       "      <td>-1.094404</td>\n",
       "      <td>-1.366747</td>\n",
       "      <td>-1.071301</td>\n",
       "      <td>-0.898278</td>\n",
       "    </tr>\n",
       "  </tbody>\n",
       "</table>\n",
       "<p>5 rows × 30 columns</p>\n",
       "</div>"
      ],
      "text/plain": [
       "   mean_radius  mean_texture  mean_perimeter  mean_area  mean_smoothness  \\\n",
       "0    -0.157678     -0.879112       -0.165550  -0.232872        -0.744948   \n",
       "1    -1.312779     -2.560965       -1.328928  -1.150194        -0.240274   \n",
       "2     0.695279     -0.420644        0.602798   0.596040        -0.947380   \n",
       "3    -0.211154     -1.301385       -0.255876  -0.308762        -1.291796   \n",
       "4    -0.753945     -1.738136       -0.820314  -0.745704        -2.095198   \n",
       "\n",
       "   mean_compactness  mean_concavity  mean_concave_points  mean_symmetry  \\\n",
       "0         -0.479220       -0.550769            -0.628488      -0.997431   \n",
       "1         -1.153621       -1.143404            -1.199934      -1.773612   \n",
       "2         -0.675307       -0.477679            -0.212084      -0.899042   \n",
       "3         -0.661126       -0.788224            -0.834410      -0.658535   \n",
       "4         -1.505004       -1.175403            -1.326415      -1.933950   \n",
       "\n",
       "   mean_fractal_dimension  ...  worst_radius  worst_texture  worst_perimeter  \\\n",
       "0               -0.392627  ...     -0.149283      -1.156442        -0.153789   \n",
       "1                0.184077  ...     -1.341759      -2.517236        -1.380396   \n",
       "2               -1.174101  ...      0.534893      -0.143296         0.445031   \n",
       "3               -0.834209  ...     -0.263312      -1.490846        -0.312546   \n",
       "4               -0.956793  ...     -0.951354      -1.934512        -0.997708   \n",
       "\n",
       "   worst_area  worst_smoothness  worst_compactness  worst_concavity  \\\n",
       "0   -0.224951          0.490637           0.139396        -0.094470   \n",
       "1   -1.124201          0.254373          -1.046076        -1.159323   \n",
       "2    0.432104         -0.613360          -0.367031         0.004076   \n",
       "3   -0.354487         -1.339335          -0.169261        -0.176669   \n",
       "4   -0.869505         -1.783511          -1.108951        -1.094404   \n",
       "\n",
       "   worst_concave_points  worst_symmetry  worst_fractal_dimension  \n",
       "0             -0.301949        0.525611                 0.511081  \n",
       "1             -1.480312       -1.387506                -0.507149  \n",
       "2              0.172850        0.223844                -0.886803  \n",
       "3             -0.458230       -0.524077                -0.220788  \n",
       "4             -1.366747       -1.071301                -0.898278  \n",
       "\n",
       "[5 rows x 30 columns]"
      ]
     },
     "execution_count": 15,
     "metadata": {},
     "output_type": "execute_result"
    }
   ],
   "source": [
    "#변수명 저장\n",
    "v_feature_name = df_train_x.columns\n",
    "#StandardScaler 적용\n",
    "scaler = StandardScaler()\n",
    "df_scaled = scaler.fit_transform(df_x)\n",
    "df_scaled = pd.DataFrame(df_scaled, columns=v_feature_name)\n",
    "df_scaled.head()"
   ]
  },
  {
   "cell_type": "code",
   "execution_count": 16,
   "metadata": {},
   "outputs": [
    {
     "name": "stdout",
     "output_type": "stream",
     "text": [
      "train data X size : (192, 30)\n",
      "test data X size : (128, 30)\n"
     ]
    }
   ],
   "source": [
    "#데이터 분할\n",
    "df_scaled_train_x, df_scaled_test_x = train_test_split(df_scaled, test_size=0.4, random_state=1234)\n",
    "print(\"train data X size : {}\".format(df_scaled_train_x.shape))\n",
    "print(\"test data X size : {}\".format(df_scaled_test_x.shape))"
   ]
  },
  {
   "cell_type": "code",
   "execution_count": 17,
   "metadata": {},
   "outputs": [
    {
     "name": "stdout",
     "output_type": "stream",
     "text": [
      "Accuracy on training set: 0.995\n",
      "Accuracy on test set: 0.961\n"
     ]
    }
   ],
   "source": [
    "svm_scaled = SVC(random_state=1234)\n",
    "svm_scaled.fit(df_scaled_train_x, df_train_y)\n",
    "#train 데이터 셋 정확도\n",
    "print(\"Accuracy on training set: {:.3f}\".format(svm_scaled.score(df_scaled_train_x, df_train_y)))\n",
    "#test 데이터 셋 정확도\n",
    "print(\"Accuracy on test set: {:.3f}\".format(svm_scaled.score(df_scaled_test_x, df_test_y)))"
   ]
  },
  {
   "cell_type": "code",
   "execution_count": 18,
   "metadata": {},
   "outputs": [],
   "source": [
    "#train 및 test 정확도 결과 저장용\n",
    "train_accuracy = []; test_accuracy = []\n",
    "#c: 규제(0.01, 0.1, 1, 10)\n",
    "para_c = [0.1**c for c in range(0, 10)]\n",
    "\n",
    "for v_C in para_c:\n",
    "    svm = SVC(C = v_C, random_state = 1234)\n",
    "    svm.fit(df_scaled_train_x, df_train_y)\n",
    "    train_accuracy.append(svm.score(df_scaled_train_x, df_train_y))\n",
    "    test_accuracy.append(svm.score(df_scaled_test_x, df_test_y))\n",
    "\n",
    "#데이터 테이블로 저장\n",
    "df_accuracy_c = pd.DataFrame()\n",
    "df_accuracy_c[\"C\"] = para_c\n",
    "df_accuracy_c[\"TrainAccuracy\"] = train_accuracy\n",
    "df_accuracy_c[\"TestAccuracy\"] = test_accuracy"
   ]
  },
  {
   "cell_type": "code",
   "execution_count": 19,
   "metadata": {},
   "outputs": [
    {
     "data": {
      "text/html": [
       "<div>\n",
       "<style scoped>\n",
       "    .dataframe tbody tr th:only-of-type {\n",
       "        vertical-align: middle;\n",
       "    }\n",
       "\n",
       "    .dataframe tbody tr th {\n",
       "        vertical-align: top;\n",
       "    }\n",
       "\n",
       "    .dataframe thead th {\n",
       "        text-align: right;\n",
       "    }\n",
       "</style>\n",
       "<table border=\"1\" class=\"dataframe\">\n",
       "  <thead>\n",
       "    <tr style=\"text-align: right;\">\n",
       "      <th></th>\n",
       "      <th>C</th>\n",
       "      <th>TrainAccuracy</th>\n",
       "      <th>TestAccuracy</th>\n",
       "    </tr>\n",
       "  </thead>\n",
       "  <tbody>\n",
       "    <tr>\n",
       "      <th>0</th>\n",
       "      <td>1.000</td>\n",
       "      <td>0.995</td>\n",
       "      <td>0.961</td>\n",
       "    </tr>\n",
       "    <tr>\n",
       "      <th>1</th>\n",
       "      <td>0.100</td>\n",
       "      <td>0.964</td>\n",
       "      <td>0.906</td>\n",
       "    </tr>\n",
       "    <tr>\n",
       "      <th>2</th>\n",
       "      <td>0.010</td>\n",
       "      <td>0.599</td>\n",
       "      <td>0.758</td>\n",
       "    </tr>\n",
       "    <tr>\n",
       "      <th>3</th>\n",
       "      <td>0.001</td>\n",
       "      <td>0.599</td>\n",
       "      <td>0.758</td>\n",
       "    </tr>\n",
       "    <tr>\n",
       "      <th>4</th>\n",
       "      <td>0.000</td>\n",
       "      <td>0.599</td>\n",
       "      <td>0.758</td>\n",
       "    </tr>\n",
       "    <tr>\n",
       "      <th>5</th>\n",
       "      <td>0.000</td>\n",
       "      <td>0.599</td>\n",
       "      <td>0.758</td>\n",
       "    </tr>\n",
       "    <tr>\n",
       "      <th>6</th>\n",
       "      <td>0.000</td>\n",
       "      <td>0.599</td>\n",
       "      <td>0.758</td>\n",
       "    </tr>\n",
       "    <tr>\n",
       "      <th>7</th>\n",
       "      <td>0.000</td>\n",
       "      <td>0.599</td>\n",
       "      <td>0.758</td>\n",
       "    </tr>\n",
       "    <tr>\n",
       "      <th>8</th>\n",
       "      <td>0.000</td>\n",
       "      <td>0.599</td>\n",
       "      <td>0.758</td>\n",
       "    </tr>\n",
       "    <tr>\n",
       "      <th>9</th>\n",
       "      <td>0.000</td>\n",
       "      <td>0.599</td>\n",
       "      <td>0.758</td>\n",
       "    </tr>\n",
       "  </tbody>\n",
       "</table>\n",
       "</div>"
      ],
      "text/plain": [
       "       C  TrainAccuracy  TestAccuracy\n",
       "0  1.000          0.995         0.961\n",
       "1  0.100          0.964         0.906\n",
       "2  0.010          0.599         0.758\n",
       "3  0.001          0.599         0.758\n",
       "4  0.000          0.599         0.758\n",
       "5  0.000          0.599         0.758\n",
       "6  0.000          0.599         0.758\n",
       "7  0.000          0.599         0.758\n",
       "8  0.000          0.599         0.758\n",
       "9  0.000          0.599         0.758"
      ]
     },
     "execution_count": 19,
     "metadata": {},
     "output_type": "execute_result"
    }
   ],
   "source": [
    "#C별 정확도 테이블\n",
    "df_accuracy_c.round(3)"
   ]
  },
  {
   "cell_type": "code",
   "execution_count": 20,
   "metadata": {},
   "outputs": [
    {
     "data": {
      "text/plain": [
       "<matplotlib.legend.Legend at 0x1b27c576bc8>"
      ]
     },
     "execution_count": 20,
     "metadata": {},
     "output_type": "execute_result"
    },
    {
     "data": {
      "image/png": "[encoded data removed]",
      "text/plain": [
       "<Figure size 432x288 with 1 Axes>"
      ]
     },
     "metadata": {
      "needs_background": "light"
     },
     "output_type": "display_data"
    }
   ],
   "source": [
    "#모델 정확도 그래프 확인\n",
    "plt.plot(para_c, train_accuracy, linestyle=\"-\", label=\"Train Accuracy\")\n",
    "plt.plot(para_c, test_accuracy, linestyle=\"--\", label=\"Test Accuracy\")\n",
    "plt.ylabel(\"accuracy\");plt.xlabel(\"C\")\n",
    "plt.legend()"
   ]
  },
  {
   "cell_type": "code",
   "execution_count": 21,
   "metadata": {},
   "outputs": [],
   "source": [
    "#임의로 지정\n",
    "C = 1"
   ]
  },
  {
   "cell_type": "code",
   "execution_count": 22,
   "metadata": {},
   "outputs": [],
   "source": [
    "#train 및 test 정확도 결과 저장용\n",
    "train_accuracy = []; test_accuracy = []\n",
    "#gamma: 규제(0.01, 0.1, 1, 10)\n",
    "#para_gamma = [10**gamma for gamma in range(-2, 2)]\n",
    "para_gamma = [0.5**gamma for gamma in range(1, 10)]\n",
    "\n",
    "for v_gamma in para_gamma:\n",
    "    svm = SVC(gamma = v_gamma, C = 1, random_state = 1234)\n",
    "    svm.fit(df_scaled_train_x, df_train_y)\n",
    "    train_accuracy.append(svm.score(df_scaled_train_x, df_train_y))\n",
    "    test_accuracy.append(svm.score(df_scaled_test_x, df_test_y))\n",
    "\n",
    "#데이터 테이블로 저장\n",
    "df_accuracy_gamma = pd.DataFrame()\n",
    "df_accuracy_gamma[\"gamma\"] = para_gamma\n",
    "df_accuracy_gamma[\"TrainAccuracy\"] = train_accuracy\n",
    "df_accuracy_gamma[\"TestAccuracy\"] = test_accuracy"
   ]
  },
  {
   "cell_type": "code",
   "execution_count": 23,
   "metadata": {},
   "outputs": [
    {
     "data": {
      "text/html": [
       "<div>\n",
       "<style scoped>\n",
       "    .dataframe tbody tr th:only-of-type {\n",
       "        vertical-align: middle;\n",
       "    }\n",
       "\n",
       "    .dataframe tbody tr th {\n",
       "        vertical-align: top;\n",
       "    }\n",
       "\n",
       "    .dataframe thead th {\n",
       "        text-align: right;\n",
       "    }\n",
       "</style>\n",
       "<table border=\"1\" class=\"dataframe\">\n",
       "  <thead>\n",
       "    <tr style=\"text-align: right;\">\n",
       "      <th></th>\n",
       "      <th>gamma</th>\n",
       "      <th>TrainAccuracy</th>\n",
       "      <th>TestAccuracy</th>\n",
       "    </tr>\n",
       "  </thead>\n",
       "  <tbody>\n",
       "    <tr>\n",
       "      <th>0</th>\n",
       "      <td>0.500</td>\n",
       "      <td>1.000</td>\n",
       "      <td>0.867</td>\n",
       "    </tr>\n",
       "    <tr>\n",
       "      <th>1</th>\n",
       "      <td>0.250</td>\n",
       "      <td>1.000</td>\n",
       "      <td>0.891</td>\n",
       "    </tr>\n",
       "    <tr>\n",
       "      <th>2</th>\n",
       "      <td>0.125</td>\n",
       "      <td>1.000</td>\n",
       "      <td>0.914</td>\n",
       "    </tr>\n",
       "    <tr>\n",
       "      <th>3</th>\n",
       "      <td>0.062</td>\n",
       "      <td>0.995</td>\n",
       "      <td>0.922</td>\n",
       "    </tr>\n",
       "    <tr>\n",
       "      <th>4</th>\n",
       "      <td>0.031</td>\n",
       "      <td>0.995</td>\n",
       "      <td>0.961</td>\n",
       "    </tr>\n",
       "    <tr>\n",
       "      <th>5</th>\n",
       "      <td>0.016</td>\n",
       "      <td>0.995</td>\n",
       "      <td>0.945</td>\n",
       "    </tr>\n",
       "    <tr>\n",
       "      <th>6</th>\n",
       "      <td>0.008</td>\n",
       "      <td>0.990</td>\n",
       "      <td>0.938</td>\n",
       "    </tr>\n",
       "    <tr>\n",
       "      <th>7</th>\n",
       "      <td>0.004</td>\n",
       "      <td>0.984</td>\n",
       "      <td>0.938</td>\n",
       "    </tr>\n",
       "    <tr>\n",
       "      <th>8</th>\n",
       "      <td>0.002</td>\n",
       "      <td>0.984</td>\n",
       "      <td>0.930</td>\n",
       "    </tr>\n",
       "  </tbody>\n",
       "</table>\n",
       "</div>"
      ],
      "text/plain": [
       "   gamma  TrainAccuracy  TestAccuracy\n",
       "0  0.500          1.000         0.867\n",
       "1  0.250          1.000         0.891\n",
       "2  0.125          1.000         0.914\n",
       "3  0.062          0.995         0.922\n",
       "4  0.031          0.995         0.961\n",
       "5  0.016          0.995         0.945\n",
       "6  0.008          0.990         0.938\n",
       "7  0.004          0.984         0.938\n",
       "8  0.002          0.984         0.930"
      ]
     },
     "execution_count": 23,
     "metadata": {},
     "output_type": "execute_result"
    }
   ],
   "source": [
    "#gamma별 정확도 테이블\n",
    "df_accuracy_gamma.round(3)"
   ]
  },
  {
   "cell_type": "code",
   "execution_count": 24,
   "metadata": {},
   "outputs": [
    {
     "data": {
      "text/plain": [
       "<matplotlib.legend.Legend at 0x1b27ce19fc8>"
      ]
     },
     "execution_count": 24,
     "metadata": {},
     "output_type": "execute_result"
    },
    {
     "data": {
      "image/png": "[encoded data removed]",
      "text/plain": [
       "<Figure size 432x288 with 1 Axes>"
      ]
     },
     "metadata": {
      "needs_background": "light"
     },
     "output_type": "display_data"
    }
   ],
   "source": [
    "#모델 정확도 그래프 확인\n",
    "plt.plot(para_gamma, train_accuracy, linestyle=\"-\", label=\"Train Accuracy\")\n",
    "plt.plot(para_gamma, test_accuracy, linestyle=\"--\", label=\"Test Accuracy\")\n",
    "plt.ylabel(\"accuracy\");plt.xlabel(\"gamma\")\n",
    "plt.legend()"
   ]
  },
  {
   "cell_type": "code",
   "execution_count": 25,
   "metadata": {},
   "outputs": [],
   "source": [
    "gamma = 0.1"
   ]
  },
  {
   "cell_type": "code",
   "execution_count": 26,
   "metadata": {},
   "outputs": [
    {
     "name": "stdout",
     "output_type": "stream",
     "text": [
      "Accuracy on training set: 1.000\n",
      "Accuracy on test set: 0.922\n",
      "\n",
      "Condusion matrix: \n",
      "[[27  4]\n",
      " [ 6 91]]\n",
      "              precision    recall  f1-score   support\n",
      "\n",
      "          양성      0.818     0.871     0.844        31\n",
      "          음성      0.958     0.938     0.948        97\n",
      "\n",
      "    accuracy                          0.922       128\n",
      "   macro avg      0.888     0.905     0.896       128\n",
      "weighted avg      0.924     0.922     0.923       128\n",
      "\n"
     ]
    }
   ],
   "source": [
    "svc_final = SVC(gamma = 0.1, C = 1, random_state=1234)\n",
    "svc_final.fit(df_scaled_train_x, df_train_y)\n",
    "y_pred = svc_final.predict(df_scaled_test_x)\n",
    "#train 데이터 셋 정확도\n",
    "print(\"Accuracy on training set: {:.3f}\".format(svc_final.score(df_scaled_train_x, df_train_y)))\n",
    "#test 데이터 셋 정확도\n",
    "print(\"Accuracy on test set: {:.3f}\\n\".format(svc_final.score(df_scaled_test_x, df_test_y)))\n",
    "#confusion matrix\n",
    "print(\"Condusion matrix: \\n{}\".format(confusion_matrix(df_test_y, y_pred)))\n",
    "#목표변수의 빈도 불균형 : f1 score로 모델 평가\n",
    "print(classification_report(df_test_y, y_pred, digits=3))"
   ]
  },
  {
   "cell_type": "code",
   "execution_count": 27,
   "metadata": {},
   "outputs": [
    {
     "name": "stdout",
     "output_type": "stream",
     "text": [
      "best estimator model: \n",
      "SVC(C=1.0, break_ties=False, cache_size=200, class_weight=None, coef0=0.0,\n",
      "    decision_function_shape='ovr', degree=3, gamma=0.015625, kernel='rbf',\n",
      "    max_iter=-1, probability=False, random_state=1234, shrinking=True,\n",
      "    tol=0.001, verbose=False)\n",
      "\n",
      "best parameter: \n",
      "{'C': 1.0, 'gamma': 0.015625}\n",
      "\n",
      "best score: \n",
      "0.984\n"
     ]
    }
   ],
   "source": [
    "estimator = SVC(random_state=1234)\n",
    "#구하고자 하는 parameter와 범위\n",
    "param_grid = {\"C\":para_c, \n",
    "             \"gamma\":para_gamma}\n",
    "#정확도가 높은 최적 parameter 찾기\n",
    "grid_rf = GridSearchCV(estimator, param_grid, scoring=\"accuracy\", n_jobs=-1)\n",
    "grid_rf.fit(df_scaled_train_x, df_train_y)\n",
    "print(\"best estimator model: \\n{}\".format(grid_rf.best_estimator_))\n",
    "print(\"\\nbest parameter: \\n{}\".format(grid_rf.best_params_))\n",
    "print(\"\\nbest score: \\n{}\".format(grid_rf.best_score_.round(3)))"
   ]
  },
  {
   "cell_type": "code",
   "execution_count": null,
   "metadata": {},
   "outputs": [],
   "source": []
  },
  {
   "cell_type": "code",
   "execution_count": null,
   "metadata": {},
   "outputs": [],
   "source": []
  },
  {
   "cell_type": "code",
   "execution_count": null,
   "metadata": {},
   "outputs": [],
   "source": []
  },
  {
   "cell_type": "code",
   "execution_count": null,
   "metadata": {},
   "outputs": [],
   "source": []
  }
 ],
 "metadata": {
  "kernelspec": {
   "display_name": "Python 3",
   "language": "python",
   "name": "python3"
  },
  "language_info": {
   "codemirror_mode": {
    "name": "ipython",
    "version": 3
   },
   "file_extension": ".py",
   "mimetype": "text/x-python",
   "name": "python",
   "nbconvert_exporter": "python",
   "pygments_lexer": "ipython3",
   "version": "3.7.6"
  },
  "toc": {
   "base_numbering": 1,
   "nav_menu": {},
   "number_sections": true,
   "sideBar": true,
   "skip_h1_title": false,
   "title_cell": "Table of Contents",
   "title_sidebar": "Contents",
   "toc_cell": false,
   "toc_position": {},
   "toc_section_display": true,
   "toc_window_display": false
  },
  "varInspector": {
   "cols": {
    "lenName": 16,
    "lenType": 16,
    "lenVar": 40
   },
   "kernels_config": {
    "python": {
     "delete_cmd_postfix": "",
     "delete_cmd_prefix": "del ",
     "library": "var_list.py",
     "varRefreshCmd": "print(var_dic_list())"
    },
    "r": {
     "delete_cmd_postfix": ") ",
     "delete_cmd_prefix": "rm(",
     "library": "var_list.r",
     "varRefreshCmd": "cat(var_dic_list()) "
    }
   },
   "types_to_exclude": [
    "module",
    "function",
    "builtin_function_or_method",
    "instance",
    "_Feature"
   ],
   "window_display": false
  }
 },
 "nbformat": 4,
 "nbformat_minor": 5
}
